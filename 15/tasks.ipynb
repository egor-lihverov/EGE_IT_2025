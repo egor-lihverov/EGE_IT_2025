{
 "cells": [
  {
   "cell_type": "markdown",
   "metadata": {},
   "source": [
    "# Задание 0"
   ]
  },
  {
   "cell_type": "markdown",
   "metadata": {},
   "source": [
    "<div class=\"Markdown-module__Markdown--f5ALc TasksBankTaskCard-module__TaskCardContentMarkdown--hsXqP\"><p>Для какого наименьшего целого числа А формула</p>\n",
    "<p><span class=\"math math-inline\"><span class=\"katex\"><span class=\"katex-mathml\"><math xmlns=\"http://www.w3.org/1998/Math/MathML\"><semantics><mrow><mo stretchy=\"false\">(</mo><mo>−</mo><mo stretchy=\"false\">(</mo><mi>x</mi><mo>−</mo><mn>2</mn><msup><mo stretchy=\"false\">)</mo><mn>2</mn></msup><mo>+</mo><mn>3</mn><mo>&lt;</mo><mi>y</mi><mo stretchy=\"false\">)</mo><mo>∨</mo><mo stretchy=\"false\">(</mo><mo stretchy=\"false\">(</mo><mi>x</mi><mo>−</mo><mn>1</mn><msup><mo stretchy=\"false\">)</mo><mn>2</mn></msup><mo>+</mo><msup><mi>y</mi><mn>2</mn></msup><mo>&lt;</mo><mn>7</mn><mo stretchy=\"false\">)</mo><mo>∨</mo><mo stretchy=\"false\">(</mo><mn>5</mn><mi>x</mi><mo>+</mo><mi>A</mi><mo>&gt;</mo><mi>y</mi><mo stretchy=\"false\">)</mo></mrow><annotation encoding=\"application/x-tex\">(-(x - 2)^{2}+3&lt;y) \\lor ((x-1)^{2}+y^{2}&lt;7) \\lor (5x+A&gt;y)</annotation></semantics></math></span><span class=\"katex-html\" aria-hidden=\"true\"><span class=\"base\"><span class=\"strut\" style=\"height: 1em; vertical-align: -0.25em;\"></span><span class=\"mopen\">(</span><span class=\"mord\">−</span><span class=\"mopen\">(</span><span class=\"mord mathnormal\">x</span><span class=\"mspace\" style=\"margin-right: 0.2222em;\"></span><span class=\"mbin\">−</span><span class=\"mspace\" style=\"margin-right: 0.2222em;\"></span></span><span class=\"base\"><span class=\"strut\" style=\"height: 1.0641em; vertical-align: -0.25em;\"></span><span class=\"mord\">2</span><span class=\"mclose\"><span class=\"mclose\">)</span><span class=\"msupsub\"><span class=\"vlist-t\"><span class=\"vlist-r\"><span class=\"vlist\" style=\"height: 0.8141em;\"><span style=\"top: -3.063em; margin-right: 0.05em;\"><span class=\"pstrut\" style=\"height: 2.7em;\"></span><span class=\"sizing reset-size6 size3 mtight\"><span class=\"mord mtight\"><span class=\"mord mtight\">2</span></span></span></span></span></span></span></span></span><span class=\"mspace\" style=\"margin-right: 0.2222em;\"></span><span class=\"mbin\">+</span><span class=\"mspace\" style=\"margin-right: 0.2222em;\"></span></span><span class=\"base\"><span class=\"strut\" style=\"height: 0.6835em; vertical-align: -0.0391em;\"></span><span class=\"mord\">3</span><span class=\"mspace\" style=\"margin-right: 0.2778em;\"></span><span class=\"mrel\">&lt;</span><span class=\"mspace\" style=\"margin-right: 0.2778em;\"></span></span><span class=\"base\"><span class=\"strut\" style=\"height: 1em; vertical-align: -0.25em;\"></span><span class=\"mord mathnormal\" style=\"margin-right: 0.03588em;\">y</span><span class=\"mclose\">)</span><span class=\"mspace\" style=\"margin-right: 0.2222em;\"></span><span class=\"mbin\">∨</span><span class=\"mspace\" style=\"margin-right: 0.2222em;\"></span></span><span class=\"base\"><span class=\"strut\" style=\"height: 1em; vertical-align: -0.25em;\"></span><span class=\"mopen\">((</span><span class=\"mord mathnormal\">x</span><span class=\"mspace\" style=\"margin-right: 0.2222em;\"></span><span class=\"mbin\">−</span><span class=\"mspace\" style=\"margin-right: 0.2222em;\"></span></span><span class=\"base\"><span class=\"strut\" style=\"height: 1.0641em; vertical-align: -0.25em;\"></span><span class=\"mord\">1</span><span class=\"mclose\"><span class=\"mclose\">)</span><span class=\"msupsub\"><span class=\"vlist-t\"><span class=\"vlist-r\"><span class=\"vlist\" style=\"height: 0.8141em;\"><span style=\"top: -3.063em; margin-right: 0.05em;\"><span class=\"pstrut\" style=\"height: 2.7em;\"></span><span class=\"sizing reset-size6 size3 mtight\"><span class=\"mord mtight\"><span class=\"mord mtight\">2</span></span></span></span></span></span></span></span></span><span class=\"mspace\" style=\"margin-right: 0.2222em;\"></span><span class=\"mbin\">+</span><span class=\"mspace\" style=\"margin-right: 0.2222em;\"></span></span><span class=\"base\"><span class=\"strut\" style=\"height: 1.0085em; vertical-align: -0.1944em;\"></span><span class=\"mord\"><span class=\"mord mathnormal\" style=\"margin-right: 0.03588em;\">y</span><span class=\"msupsub\"><span class=\"vlist-t\"><span class=\"vlist-r\"><span class=\"vlist\" style=\"height: 0.8141em;\"><span style=\"top: -3.063em; margin-right: 0.05em;\"><span class=\"pstrut\" style=\"height: 2.7em;\"></span><span class=\"sizing reset-size6 size3 mtight\"><span class=\"mord mtight\"><span class=\"mord mtight\">2</span></span></span></span></span></span></span></span></span><span class=\"mspace\" style=\"margin-right: 0.2778em;\"></span><span class=\"mrel\">&lt;</span><span class=\"mspace\" style=\"margin-right: 0.2778em;\"></span></span><span class=\"base\"><span class=\"strut\" style=\"height: 1em; vertical-align: -0.25em;\"></span><span class=\"mord\">7</span><span class=\"mclose\">)</span><span class=\"mspace\" style=\"margin-right: 0.2222em;\"></span><span class=\"mbin\">∨</span><span class=\"mspace\" style=\"margin-right: 0.2222em;\"></span></span><span class=\"base\"><span class=\"strut\" style=\"height: 1em; vertical-align: -0.25em;\"></span><span class=\"mopen\">(</span><span class=\"mord\">5</span><span class=\"mord mathnormal\">x</span><span class=\"mspace\" style=\"margin-right: 0.2222em;\"></span><span class=\"mbin\">+</span><span class=\"mspace\" style=\"margin-right: 0.2222em;\"></span></span><span class=\"base\"><span class=\"strut\" style=\"height: 0.7224em; vertical-align: -0.0391em;\"></span><span class=\"mord mathnormal\">A</span><span class=\"mspace\" style=\"margin-right: 0.2778em;\"></span><span class=\"mrel\">&gt;</span><span class=\"mspace\" style=\"margin-right: 0.2778em;\"></span></span><span class=\"base\"><span class=\"strut\" style=\"height: 1em; vertical-align: -0.25em;\"></span><span class=\"mord mathnormal\" style=\"margin-right: 0.03588em;\">y</span><span class=\"mclose\">)</span></span></span></span></span></p>\n",
    "<p>тождественна истине (т. е. принимает значение 1) при любых положительных x&nbsp;и&nbsp;y?</p></div>"
   ]
  },
  {
   "cell_type": "markdown",
   "metadata": {},
   "source": [
    "<h3><details>\n",
    "\t<summary>Ответ</summary>\n",
    "    41\n",
    "</details></h3>"
   ]
  },
  {
   "cell_type": "code",
   "execution_count": null,
   "metadata": {},
   "outputs": [],
   "source": []
  },
  {
   "cell_type": "markdown",
   "metadata": {},
   "source": [
    "# Задание 1"
   ]
  },
  {
   "cell_type": "markdown",
   "metadata": {},
   "source": [
    "<div class=\"Markdown-module__Markdown--f5ALc TasksBankTaskCard-module__TaskCardContentMarkdown--hsXqP\"><p>На числовой прямой даны два отрезка: <span class=\"math math-inline\"><span class=\"katex\"><span class=\"katex-mathml\"><math xmlns=\"http://www.w3.org/1998/Math/MathML\"><semantics><mrow><mi>P</mi><mo>=</mo><mo stretchy=\"false\">[</mo><mn>64</mn><mo separator=\"true\">;</mo><mn>95</mn><mo stretchy=\"false\">]</mo></mrow><annotation encoding=\"application/x-tex\">P=[64;95]</annotation></semantics></math></span><span class=\"katex-html\" aria-hidden=\"true\"><span class=\"base\"><span class=\"strut\" style=\"height: 0.6833em;\"></span><span class=\"mord mathnormal\" style=\"margin-right: 0.13889em;\">P</span><span class=\"mspace\" style=\"margin-right: 0.2778em;\"></span><span class=\"mrel\">=</span><span class=\"mspace\" style=\"margin-right: 0.2778em;\"></span></span><span class=\"base\"><span class=\"strut\" style=\"height: 1em; vertical-align: -0.25em;\"></span><span class=\"mopen\">[</span><span class=\"mord\">64</span><span class=\"mpunct\">;</span><span class=\"mspace\" style=\"margin-right: 0.1667em;\"></span><span class=\"mord\">95</span><span class=\"mclose\">]</span></span></span></span></span> и <span class=\"math math-inline\"><span class=\"katex\"><span class=\"katex-mathml\"><math xmlns=\"http://www.w3.org/1998/Math/MathML\"><semantics><mrow><mi>Q</mi><mo>=</mo><mo stretchy=\"false\">[</mo><mn>72</mn><mo separator=\"true\">;</mo><mn>106</mn><mo stretchy=\"false\">]</mo></mrow><annotation encoding=\"application/x-tex\">Q=[72;106]</annotation></semantics></math></span><span class=\"katex-html\" aria-hidden=\"true\"><span class=\"base\"><span class=\"strut\" style=\"height: 0.8778em; vertical-align: -0.1944em;\"></span><span class=\"mord mathnormal\">Q</span><span class=\"mspace\" style=\"margin-right: 0.2778em;\"></span><span class=\"mrel\">=</span><span class=\"mspace\" style=\"margin-right: 0.2778em;\"></span></span><span class=\"base\"><span class=\"strut\" style=\"height: 1em; vertical-align: -0.25em;\"></span><span class=\"mopen\">[</span><span class=\"mord\">72</span><span class=\"mpunct\">;</span><span class=\"mspace\" style=\"margin-right: 0.1667em;\"></span><span class=\"mord\">106</span><span class=\"mclose\">]</span></span></span></span></span>. Укажите наименьшую возможную длину такого отрезка&nbsp;A, для которого логическое выражение</p>\n",
    "<p><span class=\"math math-inline\"><span class=\"katex\"><span class=\"katex-mathml\"><math xmlns=\"http://www.w3.org/1998/Math/MathML\"><semantics><mrow><mo stretchy=\"false\">(</mo><mo stretchy=\"false\">(</mo><mi>x</mi><mo>∈</mo><mi>Q</mi><mo stretchy=\"false\">)</mo><mo>∧</mo><mo stretchy=\"false\">(</mo><mi>x</mi><mo mathvariant=\"normal\">∉</mo><mi>A</mi><mo stretchy=\"false\">)</mo><mo stretchy=\"false\">)</mo><mo>→</mo><mo stretchy=\"false\">(</mo><mo stretchy=\"false\">(</mo><mi>x</mi><mo mathvariant=\"normal\">∉</mo><mi>P</mi><mo stretchy=\"false\">)</mo><mo>→</mo><mo stretchy=\"false\">(</mo><mi>x</mi><mo mathvariant=\"normal\">∉</mo><mi>Q</mi><mo stretchy=\"false\">)</mo><mo stretchy=\"false\">)</mo></mrow><annotation encoding=\"application/x-tex\">((x \\in Q) \\land (x \\notin A)) \\to ((x \\notin P) \\to (x \\notin Q))</annotation></semantics></math></span><span class=\"katex-html\" aria-hidden=\"true\"><span class=\"base\"><span class=\"strut\" style=\"height: 1em; vertical-align: -0.25em;\"></span><span class=\"mopen\">((</span><span class=\"mord mathnormal\">x</span><span class=\"mspace\" style=\"margin-right: 0.2778em;\"></span><span class=\"mrel\">∈</span><span class=\"mspace\" style=\"margin-right: 0.2778em;\"></span></span><span class=\"base\"><span class=\"strut\" style=\"height: 1em; vertical-align: -0.25em;\"></span><span class=\"mord mathnormal\">Q</span><span class=\"mclose\">)</span><span class=\"mspace\" style=\"margin-right: 0.2222em;\"></span><span class=\"mbin\">∧</span><span class=\"mspace\" style=\"margin-right: 0.2222em;\"></span></span><span class=\"base\"><span class=\"strut\" style=\"height: 1em; vertical-align: -0.25em;\"></span><span class=\"mopen\">(</span><span class=\"mord mathnormal\">x</span><span class=\"mspace\" style=\"margin-right: 0.2778em;\"></span><span class=\"mrel\"><span class=\"mord\"><span class=\"mrel\">∈</span></span><span class=\"mord vbox\"><span class=\"thinbox\"><span class=\"llap\"><span class=\"strut\" style=\"height: 1em; vertical-align: -0.25em;\"></span><span class=\"inner\"><span class=\"mord\"><span class=\"mord\">/</span><span class=\"mspace\" style=\"margin-right: 0.0556em;\"></span></span></span><span class=\"fix\"></span></span></span></span></span><span class=\"mspace\" style=\"margin-right: 0.2778em;\"></span></span><span class=\"base\"><span class=\"strut\" style=\"height: 1em; vertical-align: -0.25em;\"></span><span class=\"mord mathnormal\">A</span><span class=\"mclose\">))</span><span class=\"mspace\" style=\"margin-right: 0.2778em;\"></span><span class=\"mrel\">→</span><span class=\"mspace\" style=\"margin-right: 0.2778em;\"></span></span><span class=\"base\"><span class=\"strut\" style=\"height: 1em; vertical-align: -0.25em;\"></span><span class=\"mopen\">((</span><span class=\"mord mathnormal\">x</span><span class=\"mspace\" style=\"margin-right: 0.2778em;\"></span><span class=\"mrel\"><span class=\"mord\"><span class=\"mrel\">∈</span></span><span class=\"mord vbox\"><span class=\"thinbox\"><span class=\"llap\"><span class=\"strut\" style=\"height: 1em; vertical-align: -0.25em;\"></span><span class=\"inner\"><span class=\"mord\"><span class=\"mord\">/</span><span class=\"mspace\" style=\"margin-right: 0.0556em;\"></span></span></span><span class=\"fix\"></span></span></span></span></span><span class=\"mspace\" style=\"margin-right: 0.2778em;\"></span></span><span class=\"base\"><span class=\"strut\" style=\"height: 1em; vertical-align: -0.25em;\"></span><span class=\"mord mathnormal\" style=\"margin-right: 0.13889em;\">P</span><span class=\"mclose\">)</span><span class=\"mspace\" style=\"margin-right: 0.2778em;\"></span><span class=\"mrel\">→</span><span class=\"mspace\" style=\"margin-right: 0.2778em;\"></span></span><span class=\"base\"><span class=\"strut\" style=\"height: 1em; vertical-align: -0.25em;\"></span><span class=\"mopen\">(</span><span class=\"mord mathnormal\">x</span><span class=\"mspace\" style=\"margin-right: 0.2778em;\"></span><span class=\"mrel\"><span class=\"mord\"><span class=\"mrel\">∈</span></span><span class=\"mord vbox\"><span class=\"thinbox\"><span class=\"llap\"><span class=\"strut\" style=\"height: 1em; vertical-align: -0.25em;\"></span><span class=\"inner\"><span class=\"mord\"><span class=\"mord\">/</span><span class=\"mspace\" style=\"margin-right: 0.0556em;\"></span></span></span><span class=\"fix\"></span></span></span></span></span><span class=\"mspace\" style=\"margin-right: 0.2778em;\"></span></span><span class=\"base\"><span class=\"strut\" style=\"height: 1em; vertical-align: -0.25em;\"></span><span class=\"mord mathnormal\">Q</span><span class=\"mclose\">))</span></span></span></span></span></p>\n",
    "<p>истинно (т. е. принимает значение 1) при любом значении переменной&nbsp;х.</p></div>"
   ]
  },
  {
   "cell_type": "markdown",
   "metadata": {},
   "source": [
    "<h3><details>\n",
    "\t<summary>Ответ</summary>\n",
    "    11\n",
    "</details></h3>"
   ]
  },
  {
   "cell_type": "markdown",
   "metadata": {},
   "source": [
    "# Задание 2"
   ]
  },
  {
   "cell_type": "markdown",
   "metadata": {},
   "source": [
    "<div class=\"Markdown-module__Markdown--f5ALc TasksBankTaskCard-module__TaskCardContentMarkdown--hsXqP\"><p>На числовой прямой даны два отрезка: <span class=\"math math-inline\"><span class=\"katex\"><span class=\"katex-mathml\"><math xmlns=\"http://www.w3.org/1998/Math/MathML\"><semantics><mrow><mi>P</mi><mo>=</mo><mo stretchy=\"false\">[</mo><mn>15</mn><mo separator=\"true\">;</mo><mn>40</mn><mo stretchy=\"false\">]</mo></mrow><annotation encoding=\"application/x-tex\">P = [15; 40]</annotation></semantics></math></span><span class=\"katex-html\" aria-hidden=\"true\"><span class=\"base\"><span class=\"strut\" style=\"height: 0.6833em;\"></span><span class=\"mord mathnormal\" style=\"margin-right: 0.13889em;\">P</span><span class=\"mspace\" style=\"margin-right: 0.2778em;\"></span><span class=\"mrel\">=</span><span class=\"mspace\" style=\"margin-right: 0.2778em;\"></span></span><span class=\"base\"><span class=\"strut\" style=\"height: 1em; vertical-align: -0.25em;\"></span><span class=\"mopen\">[</span><span class=\"mord\">15</span><span class=\"mpunct\">;</span><span class=\"mspace\" style=\"margin-right: 0.1667em;\"></span><span class=\"mord\">40</span><span class=\"mclose\">]</span></span></span></span></span> и <span class=\"math math-inline\"><span class=\"katex\"><span class=\"katex-mathml\"><math xmlns=\"http://www.w3.org/1998/Math/MathML\"><semantics><mrow><mi>Q</mi><mo>=</mo><mo stretchy=\"false\">[</mo><mn>21</mn><mo separator=\"true\">;</mo><mn>63</mn><mo stretchy=\"false\">]</mo></mrow><annotation encoding=\"application/x-tex\">Q = [21; 63]</annotation></semantics></math></span><span class=\"katex-html\" aria-hidden=\"true\"><span class=\"base\"><span class=\"strut\" style=\"height: 0.8778em; vertical-align: -0.1944em;\"></span><span class=\"mord mathnormal\">Q</span><span class=\"mspace\" style=\"margin-right: 0.2778em;\"></span><span class=\"mrel\">=</span><span class=\"mspace\" style=\"margin-right: 0.2778em;\"></span></span><span class=\"base\"><span class=\"strut\" style=\"height: 1em; vertical-align: -0.25em;\"></span><span class=\"mopen\">[</span><span class=\"mord\">21</span><span class=\"mpunct\">;</span><span class=\"mspace\" style=\"margin-right: 0.1667em;\"></span><span class=\"mord\">63</span><span class=\"mclose\">]</span></span></span></span></span>. Укажите наименьшую возможную длину такого отрезка <span class=\"math math-inline\"><span class=\"katex\"><span class=\"katex-mathml\"><math xmlns=\"http://www.w3.org/1998/Math/MathML\"><semantics><mrow><mi>A</mi></mrow><annotation encoding=\"application/x-tex\">A</annotation></semantics></math></span><span class=\"katex-html\" aria-hidden=\"true\"><span class=\"base\"><span class=\"strut\" style=\"height: 0.6833em;\"></span><span class=\"mord mathnormal\">A</span></span></span></span></span>, для которого логическое выражение</p>\n",
    "<p><span class=\"math math-inline\"><span class=\"katex\"><span class=\"katex-mathml\"><math xmlns=\"http://www.w3.org/1998/Math/MathML\"><semantics><mrow><mo stretchy=\"false\">(</mo><mi>x</mi><mo>∈</mo><mi>P</mi><mo stretchy=\"false\">)</mo><mo>→</mo><mo stretchy=\"false\">(</mo><mo stretchy=\"false\">(</mo><mo stretchy=\"false\">(</mo><mi>x</mi><mo>∈</mo><mi>Q</mi><mo stretchy=\"false\">)</mo><mo>∧</mo><mi mathvariant=\"normal\">¬</mi><mo stretchy=\"false\">(</mo><mi>x</mi><mo>∈</mo><mi>A</mi><mo stretchy=\"false\">)</mo><mo stretchy=\"false\">)</mo><mo>→</mo><mi mathvariant=\"normal\">¬</mi><mo stretchy=\"false\">(</mo><mi>x</mi><mo>∈</mo><mi>P</mi><mo stretchy=\"false\">)</mo><mo stretchy=\"false\">)</mo></mrow><annotation encoding=\"application/x-tex\">(x \\in P) \\rightarrow (((x \\in Q) \\land \\neg (x \\in A)) \\rightarrow \\neg (x \\in P))</annotation></semantics></math></span><span class=\"katex-html\" aria-hidden=\"true\"><span class=\"base\"><span class=\"strut\" style=\"height: 1em; vertical-align: -0.25em;\"></span><span class=\"mopen\">(</span><span class=\"mord mathnormal\">x</span><span class=\"mspace\" style=\"margin-right: 0.2778em;\"></span><span class=\"mrel\">∈</span><span class=\"mspace\" style=\"margin-right: 0.2778em;\"></span></span><span class=\"base\"><span class=\"strut\" style=\"height: 1em; vertical-align: -0.25em;\"></span><span class=\"mord mathnormal\" style=\"margin-right: 0.13889em;\">P</span><span class=\"mclose\">)</span><span class=\"mspace\" style=\"margin-right: 0.2778em;\"></span><span class=\"mrel\">→</span><span class=\"mspace\" style=\"margin-right: 0.2778em;\"></span></span><span class=\"base\"><span class=\"strut\" style=\"height: 1em; vertical-align: -0.25em;\"></span><span class=\"mopen\">(((</span><span class=\"mord mathnormal\">x</span><span class=\"mspace\" style=\"margin-right: 0.2778em;\"></span><span class=\"mrel\">∈</span><span class=\"mspace\" style=\"margin-right: 0.2778em;\"></span></span><span class=\"base\"><span class=\"strut\" style=\"height: 1em; vertical-align: -0.25em;\"></span><span class=\"mord mathnormal\">Q</span><span class=\"mclose\">)</span><span class=\"mspace\" style=\"margin-right: 0.2222em;\"></span><span class=\"mbin\">∧</span><span class=\"mspace\" style=\"margin-right: 0.2222em;\"></span></span><span class=\"base\"><span class=\"strut\" style=\"height: 1em; vertical-align: -0.25em;\"></span><span class=\"mord\">¬</span><span class=\"mopen\">(</span><span class=\"mord mathnormal\">x</span><span class=\"mspace\" style=\"margin-right: 0.2778em;\"></span><span class=\"mrel\">∈</span><span class=\"mspace\" style=\"margin-right: 0.2778em;\"></span></span><span class=\"base\"><span class=\"strut\" style=\"height: 1em; vertical-align: -0.25em;\"></span><span class=\"mord mathnormal\">A</span><span class=\"mclose\">))</span><span class=\"mspace\" style=\"margin-right: 0.2778em;\"></span><span class=\"mrel\">→</span><span class=\"mspace\" style=\"margin-right: 0.2778em;\"></span></span><span class=\"base\"><span class=\"strut\" style=\"height: 1em; vertical-align: -0.25em;\"></span><span class=\"mord\">¬</span><span class=\"mopen\">(</span><span class=\"mord mathnormal\">x</span><span class=\"mspace\" style=\"margin-right: 0.2778em;\"></span><span class=\"mrel\">∈</span><span class=\"mspace\" style=\"margin-right: 0.2778em;\"></span></span><span class=\"base\"><span class=\"strut\" style=\"height: 1em; vertical-align: -0.25em;\"></span><span class=\"mord mathnormal\" style=\"margin-right: 0.13889em;\">P</span><span class=\"mclose\">))</span></span></span></span></span></p>\n",
    "<p>истинно (т.е. принимает значение 1) при любом значении переменной <span class=\"math math-inline\"><span class=\"katex\"><span class=\"katex-mathml\"><math xmlns=\"http://www.w3.org/1998/Math/MathML\"><semantics><mrow><mi>x</mi></mrow><annotation encoding=\"application/x-tex\">x</annotation></semantics></math></span><span class=\"katex-html\" aria-hidden=\"true\"><span class=\"base\"><span class=\"strut\" style=\"height: 0.4306em;\"></span><span class=\"mord mathnormal\">x</span></span></span></span></span>.</p></div>"
   ]
  },
  {
   "cell_type": "markdown",
   "metadata": {},
   "source": [
    "<h3><details>\n",
    "\t<summary>Ответ</summary>\n",
    "    19\n",
    "</details></h3>"
   ]
  },
  {
   "cell_type": "markdown",
   "metadata": {},
   "source": [
    "# Задание 3"
   ]
  },
  {
   "cell_type": "markdown",
   "metadata": {},
   "source": [
    "<div class=\"Markdown-module__Markdown--f5ALc TasksBankTaskCard-module__TaskCardContentMarkdown--hsXqP\"><p>На числовой прямой даны два отрезка: <span class=\"math math-inline\"><span class=\"katex\"><span class=\"katex-mathml\"><math xmlns=\"http://www.w3.org/1998/Math/MathML\"><semantics><mrow><mi>B</mi><mo>=</mo><mo stretchy=\"false\">[</mo><mn>1</mn><mo separator=\"true\">;</mo><mn>9999</mn><mo stretchy=\"false\">]</mo></mrow><annotation encoding=\"application/x-tex\">B = [1; 9999]</annotation></semantics></math></span><span class=\"katex-html\" aria-hidden=\"true\"><span class=\"base\"><span class=\"strut\" style=\"height: 0.6833em;\"></span><span class=\"mord mathnormal\" style=\"margin-right: 0.05017em;\">B</span><span class=\"mspace\" style=\"margin-right: 0.2778em;\"></span><span class=\"mrel\">=</span><span class=\"mspace\" style=\"margin-right: 0.2778em;\"></span></span><span class=\"base\"><span class=\"strut\" style=\"height: 1em; vertical-align: -0.25em;\"></span><span class=\"mopen\">[</span><span class=\"mord\">1</span><span class=\"mpunct\">;</span><span class=\"mspace\" style=\"margin-right: 0.1667em;\"></span><span class=\"mord\">9999</span><span class=\"mclose\">]</span></span></span></span></span> и <span class=\"math math-inline\"><span class=\"katex\"><span class=\"katex-mathml\"><math xmlns=\"http://www.w3.org/1998/Math/MathML\"><semantics><mrow><mi>C</mi><mo>=</mo><mo stretchy=\"false\">[</mo><mn>3648</mn><mo separator=\"true\">;</mo><mn>6287</mn><mo stretchy=\"false\">]</mo></mrow><annotation encoding=\"application/x-tex\">C = [3648; 6287]</annotation></semantics></math></span><span class=\"katex-html\" aria-hidden=\"true\"><span class=\"base\"><span class=\"strut\" style=\"height: 0.6833em;\"></span><span class=\"mord mathnormal\" style=\"margin-right: 0.07153em;\">C</span><span class=\"mspace\" style=\"margin-right: 0.2778em;\"></span><span class=\"mrel\">=</span><span class=\"mspace\" style=\"margin-right: 0.2778em;\"></span></span><span class=\"base\"><span class=\"strut\" style=\"height: 1em; vertical-align: -0.25em;\"></span><span class=\"mopen\">[</span><span class=\"mord\">3648</span><span class=\"mpunct\">;</span><span class=\"mspace\" style=\"margin-right: 0.1667em;\"></span><span class=\"mord\">6287</span><span class=\"mclose\">]</span></span></span></span></span>. Укажите <strong>наименьшую</strong> возможную длину такого отрезка <span class=\"math math-inline\"><span class=\"katex\"><span class=\"katex-mathml\"><math xmlns=\"http://www.w3.org/1998/Math/MathML\"><semantics><mrow><mi>A</mi></mrow><annotation encoding=\"application/x-tex\">A</annotation></semantics></math></span><span class=\"katex-html\" aria-hidden=\"true\"><span class=\"base\"><span class=\"strut\" style=\"height: 0.6833em;\"></span><span class=\"mord mathnormal\">A</span></span></span></span></span>, что формула</p>\n",
    "<p><span class=\"math math-inline\"><span class=\"katex\"><span class=\"katex-mathml\"><math xmlns=\"http://www.w3.org/1998/Math/MathML\"><semantics><mrow><mo stretchy=\"false\">(</mo><mo stretchy=\"false\">(</mo><mi>x</mi><mo>∈</mo><mi>B</mi><mo stretchy=\"false\">)</mo><mo>≡</mo><mo stretchy=\"false\">(</mo><mi>x</mi><mo>∈</mo><mi>C</mi><mo stretchy=\"false\">)</mo><mo stretchy=\"false\">)</mo><mo>∨</mo><mo stretchy=\"false\">(</mo><mi>x</mi><mo>∈</mo><mi>A</mi><mo stretchy=\"false\">)</mo><mo>∨</mo><mo stretchy=\"false\">(</mo><mi>x</mi><mo>&gt;</mo><mn>4200</mn><mo stretchy=\"false\">)</mo></mrow><annotation encoding=\"application/x-tex\">((x \\in B) \\equiv (x \\in C)) \\lor (x \\in A) \\lor (x &gt; 4200)</annotation></semantics></math></span><span class=\"katex-html\" aria-hidden=\"true\"><span class=\"base\"><span class=\"strut\" style=\"height: 1em; vertical-align: -0.25em;\"></span><span class=\"mopen\">((</span><span class=\"mord mathnormal\">x</span><span class=\"mspace\" style=\"margin-right: 0.2778em;\"></span><span class=\"mrel\">∈</span><span class=\"mspace\" style=\"margin-right: 0.2778em;\"></span></span><span class=\"base\"><span class=\"strut\" style=\"height: 1em; vertical-align: -0.25em;\"></span><span class=\"mord mathnormal\" style=\"margin-right: 0.05017em;\">B</span><span class=\"mclose\">)</span><span class=\"mspace\" style=\"margin-right: 0.2778em;\"></span><span class=\"mrel\">≡</span><span class=\"mspace\" style=\"margin-right: 0.2778em;\"></span></span><span class=\"base\"><span class=\"strut\" style=\"height: 1em; vertical-align: -0.25em;\"></span><span class=\"mopen\">(</span><span class=\"mord mathnormal\">x</span><span class=\"mspace\" style=\"margin-right: 0.2778em;\"></span><span class=\"mrel\">∈</span><span class=\"mspace\" style=\"margin-right: 0.2778em;\"></span></span><span class=\"base\"><span class=\"strut\" style=\"height: 1em; vertical-align: -0.25em;\"></span><span class=\"mord mathnormal\" style=\"margin-right: 0.07153em;\">C</span><span class=\"mclose\">))</span><span class=\"mspace\" style=\"margin-right: 0.2222em;\"></span><span class=\"mbin\">∨</span><span class=\"mspace\" style=\"margin-right: 0.2222em;\"></span></span><span class=\"base\"><span class=\"strut\" style=\"height: 1em; vertical-align: -0.25em;\"></span><span class=\"mopen\">(</span><span class=\"mord mathnormal\">x</span><span class=\"mspace\" style=\"margin-right: 0.2778em;\"></span><span class=\"mrel\">∈</span><span class=\"mspace\" style=\"margin-right: 0.2778em;\"></span></span><span class=\"base\"><span class=\"strut\" style=\"height: 1em; vertical-align: -0.25em;\"></span><span class=\"mord mathnormal\">A</span><span class=\"mclose\">)</span><span class=\"mspace\" style=\"margin-right: 0.2222em;\"></span><span class=\"mbin\">∨</span><span class=\"mspace\" style=\"margin-right: 0.2222em;\"></span></span><span class=\"base\"><span class=\"strut\" style=\"height: 1em; vertical-align: -0.25em;\"></span><span class=\"mopen\">(</span><span class=\"mord mathnormal\">x</span><span class=\"mspace\" style=\"margin-right: 0.2778em;\"></span><span class=\"mrel\">&gt;</span><span class=\"mspace\" style=\"margin-right: 0.2778em;\"></span></span><span class=\"base\"><span class=\"strut\" style=\"height: 1em; vertical-align: -0.25em;\"></span><span class=\"mord\">4200</span><span class=\"mclose\">)</span></span></span></span></span></p>\n",
    "<p>истинна, т. е. принимает значение <span class=\"math math-inline\"><span class=\"katex\"><span class=\"katex-mathml\"><math xmlns=\"http://www.w3.org/1998/Math/MathML\"><semantics><mrow><mn>1</mn></mrow><annotation encoding=\"application/x-tex\">1</annotation></semantics></math></span><span class=\"katex-html\" aria-hidden=\"true\"><span class=\"base\"><span class=\"strut\" style=\"height: 0.6444em;\"></span><span class=\"mord\">1</span></span></span></span></span> при любом значении переменной <span class=\"math math-inline\"><span class=\"katex\"><span class=\"katex-mathml\"><math xmlns=\"http://www.w3.org/1998/Math/MathML\"><semantics><mrow><mtext>х</mtext></mrow><annotation encoding=\"application/x-tex\">х</annotation></semantics></math></span><span class=\"katex-html\" aria-hidden=\"true\"><span class=\"base\"><span class=\"strut\" style=\"height: 0.4306em;\"></span><span class=\"mord cyrillic_fallback\">х</span></span></span></span></span>.</p></div>"
   ]
  },
  {
   "cell_type": "code",
   "execution_count": null,
   "metadata": {},
   "outputs": [],
   "source": [
    "b = range(1, 10000)\n",
    "c = range(3648, 6288)\n",
    "a = []\n",
    "for x in range(-5, 4205):\n",
    "    if not( ((x in b) == (x in c)) or (x in a) or (x > 4200)):\n",
    "        print(x)"
   ]
  },
  {
   "cell_type": "markdown",
   "metadata": {},
   "source": [
    "<h3><details>\n",
    "\t<summary>Ответ</summary>\n",
    "    3647\n",
    "</details></h3>"
   ]
  },
  {
   "cell_type": "markdown",
   "metadata": {},
   "source": [
    "# Задание 4"
   ]
  },
  {
   "cell_type": "markdown",
   "metadata": {},
   "source": [
    "<div class=\"Markdown-module__Markdown--f5ALc TasksBankTaskCard-module__TaskCardContentMarkdown--hsXqP\"><p>На числовой прямой даны два отрезка: <span class=\"math math-inline\"><span class=\"katex\"><span class=\"katex-mathml\"><math xmlns=\"http://www.w3.org/1998/Math/MathML\"><semantics><mrow><mi>B</mi><mo>=</mo><mo stretchy=\"false\">[</mo><mn>74</mn><mo separator=\"true\">;</mo><mn>194</mn><mo stretchy=\"false\">]</mo></mrow><annotation encoding=\"application/x-tex\">B = [74; 194]</annotation></semantics></math></span><span class=\"katex-html\" aria-hidden=\"true\"><span class=\"base\"><span class=\"strut\" style=\"height: 0.6833em;\"></span><span class=\"mord mathnormal\" style=\"margin-right: 0.05017em;\">B</span><span class=\"mspace\" style=\"margin-right: 0.2778em;\"></span><span class=\"mrel\">=</span><span class=\"mspace\" style=\"margin-right: 0.2778em;\"></span></span><span class=\"base\"><span class=\"strut\" style=\"height: 1em; vertical-align: -0.25em;\"></span><span class=\"mopen\">[</span><span class=\"mord\">74</span><span class=\"mpunct\">;</span><span class=\"mspace\" style=\"margin-right: 0.1667em;\"></span><span class=\"mord\">194</span><span class=\"mclose\">]</span></span></span></span></span> и <span class=\"math math-inline\"><span class=\"katex\"><span class=\"katex-mathml\"><math xmlns=\"http://www.w3.org/1998/Math/MathML\"><semantics><mrow><mi>C</mi><mo>=</mo><mo stretchy=\"false\">[</mo><mn>152</mn><mo separator=\"true\">;</mo><mn>223</mn><mo stretchy=\"false\">]</mo></mrow><annotation encoding=\"application/x-tex\">C = [152; 223]</annotation></semantics></math></span><span class=\"katex-html\" aria-hidden=\"true\"><span class=\"base\"><span class=\"strut\" style=\"height: 0.6833em;\"></span><span class=\"mord mathnormal\" style=\"margin-right: 0.07153em;\">C</span><span class=\"mspace\" style=\"margin-right: 0.2778em;\"></span><span class=\"mrel\">=</span><span class=\"mspace\" style=\"margin-right: 0.2778em;\"></span></span><span class=\"base\"><span class=\"strut\" style=\"height: 1em; vertical-align: -0.25em;\"></span><span class=\"mopen\">[</span><span class=\"mord\">152</span><span class=\"mpunct\">;</span><span class=\"mspace\" style=\"margin-right: 0.1667em;\"></span><span class=\"mord\">223</span><span class=\"mclose\">]</span></span></span></span></span>. Укажите наименьшую возможную длину такого отрезка <span class=\"math math-inline\"><span class=\"katex\"><span class=\"katex-mathml\"><math xmlns=\"http://www.w3.org/1998/Math/MathML\"><semantics><mrow><mi>A</mi></mrow><annotation encoding=\"application/x-tex\">A</annotation></semantics></math></span><span class=\"katex-html\" aria-hidden=\"true\"><span class=\"base\"><span class=\"strut\" style=\"height: 0.6833em;\"></span><span class=\"mord mathnormal\">A</span></span></span></span></span>, для которого логическое выражение</p>\n",
    "<p><span class=\"math math-inline\"><span class=\"katex\"><span class=\"katex-mathml\"><math xmlns=\"http://www.w3.org/1998/Math/MathML\"><semantics><mrow><mo stretchy=\"false\">(</mo><mi mathvariant=\"normal\">¬</mi><mo stretchy=\"false\">(</mo><mi>x</mi><mo>∈</mo><mi>A</mi><mo stretchy=\"false\">)</mo><mo>∧</mo><mo stretchy=\"false\">(</mo><mi>x</mi><mo>∈</mo><mi>B</mi><mo stretchy=\"false\">)</mo><mo stretchy=\"false\">)</mo><mo>→</mo><mo stretchy=\"false\">(</mo><mo stretchy=\"false\">(</mo><mi>x</mi><mo>∈</mo><mi>B</mi><mo stretchy=\"false\">)</mo><mo>→</mo><mi mathvariant=\"normal\">¬</mi><mo stretchy=\"false\">(</mo><mi>x</mi><mo>∈</mo><mi>C</mi><mo stretchy=\"false\">)</mo><mo stretchy=\"false\">)</mo></mrow><annotation encoding=\"application/x-tex\">(\\neg (x \\in A) \\land (x \\in B)) \\rightarrow ((x \\in B) \\rightarrow \\neg (x \\in C))</annotation></semantics></math></span><span class=\"katex-html\" aria-hidden=\"true\"><span class=\"base\"><span class=\"strut\" style=\"height: 1em; vertical-align: -0.25em;\"></span><span class=\"mopen\">(</span><span class=\"mord\">¬</span><span class=\"mopen\">(</span><span class=\"mord mathnormal\">x</span><span class=\"mspace\" style=\"margin-right: 0.2778em;\"></span><span class=\"mrel\">∈</span><span class=\"mspace\" style=\"margin-right: 0.2778em;\"></span></span><span class=\"base\"><span class=\"strut\" style=\"height: 1em; vertical-align: -0.25em;\"></span><span class=\"mord mathnormal\">A</span><span class=\"mclose\">)</span><span class=\"mspace\" style=\"margin-right: 0.2222em;\"></span><span class=\"mbin\">∧</span><span class=\"mspace\" style=\"margin-right: 0.2222em;\"></span></span><span class=\"base\"><span class=\"strut\" style=\"height: 1em; vertical-align: -0.25em;\"></span><span class=\"mopen\">(</span><span class=\"mord mathnormal\">x</span><span class=\"mspace\" style=\"margin-right: 0.2778em;\"></span><span class=\"mrel\">∈</span><span class=\"mspace\" style=\"margin-right: 0.2778em;\"></span></span><span class=\"base\"><span class=\"strut\" style=\"height: 1em; vertical-align: -0.25em;\"></span><span class=\"mord mathnormal\" style=\"margin-right: 0.05017em;\">B</span><span class=\"mclose\">))</span><span class=\"mspace\" style=\"margin-right: 0.2778em;\"></span><span class=\"mrel\">→</span><span class=\"mspace\" style=\"margin-right: 0.2778em;\"></span></span><span class=\"base\"><span class=\"strut\" style=\"height: 1em; vertical-align: -0.25em;\"></span><span class=\"mopen\">((</span><span class=\"mord mathnormal\">x</span><span class=\"mspace\" style=\"margin-right: 0.2778em;\"></span><span class=\"mrel\">∈</span><span class=\"mspace\" style=\"margin-right: 0.2778em;\"></span></span><span class=\"base\"><span class=\"strut\" style=\"height: 1em; vertical-align: -0.25em;\"></span><span class=\"mord mathnormal\" style=\"margin-right: 0.05017em;\">B</span><span class=\"mclose\">)</span><span class=\"mspace\" style=\"margin-right: 0.2778em;\"></span><span class=\"mrel\">→</span><span class=\"mspace\" style=\"margin-right: 0.2778em;\"></span></span><span class=\"base\"><span class=\"strut\" style=\"height: 1em; vertical-align: -0.25em;\"></span><span class=\"mord\">¬</span><span class=\"mopen\">(</span><span class=\"mord mathnormal\">x</span><span class=\"mspace\" style=\"margin-right: 0.2778em;\"></span><span class=\"mrel\">∈</span><span class=\"mspace\" style=\"margin-right: 0.2778em;\"></span></span><span class=\"base\"><span class=\"strut\" style=\"height: 1em; vertical-align: -0.25em;\"></span><span class=\"mord mathnormal\" style=\"margin-right: 0.07153em;\">C</span><span class=\"mclose\">))</span></span></span></span></span></p>\n",
    "<p>истинно (т. е. принимает значение&nbsp;1) при любом значении переменной <span class=\"math math-inline\"><span class=\"katex\"><span class=\"katex-mathml\"><math xmlns=\"http://www.w3.org/1998/Math/MathML\"><semantics><mrow><mi>x</mi></mrow><annotation encoding=\"application/x-tex\">x</annotation></semantics></math></span><span class=\"katex-html\" aria-hidden=\"true\"><span class=\"base\"><span class=\"strut\" style=\"height: 0.4306em;\"></span><span class=\"mord mathnormal\">x</span></span></span></span></span>.</p></div>"
   ]
  },
  {
   "cell_type": "markdown",
   "metadata": {},
   "source": [
    "<h3><details>\n",
    "\t<summary>Ответ</summary>\n",
    "    42\n",
    "</details></h3>"
   ]
  },
  {
   "cell_type": "markdown",
   "metadata": {},
   "source": [
    "# Задание 5"
   ]
  },
  {
   "cell_type": "markdown",
   "metadata": {},
   "source": [
    "<div class=\"Markdown-module__Markdown--f5ALc TasksBankTaskCard-module__TaskCardContentMarkdown--hsXqP\"><p>Элементами множества <span class=\"math math-inline\"><span class=\"katex\"><span class=\"katex-mathml\"><math xmlns=\"http://www.w3.org/1998/Math/MathML\"><semantics><mrow><mi>A</mi></mrow><annotation encoding=\"application/x-tex\">A</annotation></semantics></math></span><span class=\"katex-html\" aria-hidden=\"true\"><span class=\"base\"><span class=\"strut\" style=\"height: 0.6833em;\"></span><span class=\"mord mathnormal\">A</span></span></span></span></span>, <span class=\"math math-inline\"><span class=\"katex\"><span class=\"katex-mathml\"><math xmlns=\"http://www.w3.org/1998/Math/MathML\"><semantics><mrow><mi>B</mi></mrow><annotation encoding=\"application/x-tex\">B</annotation></semantics></math></span><span class=\"katex-html\" aria-hidden=\"true\"><span class=\"base\"><span class=\"strut\" style=\"height: 0.6833em;\"></span><span class=\"mord mathnormal\" style=\"margin-right: 0.05017em;\">B</span></span></span></span></span> и <span class=\"math math-inline\"><span class=\"katex\"><span class=\"katex-mathml\"><math xmlns=\"http://www.w3.org/1998/Math/MathML\"><semantics><mrow><mi>C</mi></mrow><annotation encoding=\"application/x-tex\">C</annotation></semantics></math></span><span class=\"katex-html\" aria-hidden=\"true\"><span class=\"base\"><span class=\"strut\" style=\"height: 0.6833em;\"></span><span class=\"mord mathnormal\" style=\"margin-right: 0.07153em;\">C</span></span></span></span></span> являются целые числа.</p>\n",
    "<p><span class=\"math math-inline\"><span class=\"katex\"><span class=\"katex-mathml\"><math xmlns=\"http://www.w3.org/1998/Math/MathML\"><semantics><mrow><mi>B</mi><mo>=</mo><mo stretchy=\"false\">{</mo><mo>−</mo><mn>42</mn><mo separator=\"true\">,</mo><mo>−</mo><mn>10</mn><mo separator=\"true\">,</mo><mo>−</mo><mn>8</mn><mo separator=\"true\">,</mo><mn>2</mn><mo separator=\"true\">,</mo><mn>16</mn><mo stretchy=\"false\">}</mo><mo separator=\"true\">,</mo><mi>C</mi><mo>=</mo><mo stretchy=\"false\">{</mo><mo>−</mo><mn>10</mn><mo separator=\"true\">,</mo><mo>−</mo><mn>4</mn><mo separator=\"true\">,</mo><mn>2</mn><mo separator=\"true\">,</mo><mn>15</mn><mo separator=\"true\">,</mo><mn>23</mn><mo stretchy=\"false\">}</mo><mi mathvariant=\"normal\">.</mi></mrow><annotation encoding=\"application/x-tex\">B = \\{-42, -10, -8, 2, 16\\}, C = \\{-10, -4, 2, 15, 23\\}.</annotation></semantics></math></span><span class=\"katex-html\" aria-hidden=\"true\"><span class=\"base\"><span class=\"strut\" style=\"height: 0.6833em;\"></span><span class=\"mord mathnormal\" style=\"margin-right: 0.05017em;\">B</span><span class=\"mspace\" style=\"margin-right: 0.2778em;\"></span><span class=\"mrel\">=</span><span class=\"mspace\" style=\"margin-right: 0.2778em;\"></span></span><span class=\"base\"><span class=\"strut\" style=\"height: 1em; vertical-align: -0.25em;\"></span><span class=\"mopen\">{</span><span class=\"mord\">−</span><span class=\"mord\">42</span><span class=\"mpunct\">,</span><span class=\"mspace\" style=\"margin-right: 0.1667em;\"></span><span class=\"mord\">−</span><span class=\"mord\">10</span><span class=\"mpunct\">,</span><span class=\"mspace\" style=\"margin-right: 0.1667em;\"></span><span class=\"mord\">−</span><span class=\"mord\">8</span><span class=\"mpunct\">,</span><span class=\"mspace\" style=\"margin-right: 0.1667em;\"></span><span class=\"mord\">2</span><span class=\"mpunct\">,</span><span class=\"mspace\" style=\"margin-right: 0.1667em;\"></span><span class=\"mord\">16</span><span class=\"mclose\">}</span><span class=\"mpunct\">,</span><span class=\"mspace\" style=\"margin-right: 0.1667em;\"></span><span class=\"mord mathnormal\" style=\"margin-right: 0.07153em;\">C</span><span class=\"mspace\" style=\"margin-right: 0.2778em;\"></span><span class=\"mrel\">=</span><span class=\"mspace\" style=\"margin-right: 0.2778em;\"></span></span><span class=\"base\"><span class=\"strut\" style=\"height: 1em; vertical-align: -0.25em;\"></span><span class=\"mopen\">{</span><span class=\"mord\">−</span><span class=\"mord\">10</span><span class=\"mpunct\">,</span><span class=\"mspace\" style=\"margin-right: 0.1667em;\"></span><span class=\"mord\">−</span><span class=\"mord\">4</span><span class=\"mpunct\">,</span><span class=\"mspace\" style=\"margin-right: 0.1667em;\"></span><span class=\"mord\">2</span><span class=\"mpunct\">,</span><span class=\"mspace\" style=\"margin-right: 0.1667em;\"></span><span class=\"mord\">15</span><span class=\"mpunct\">,</span><span class=\"mspace\" style=\"margin-right: 0.1667em;\"></span><span class=\"mord\">23</span><span class=\"mclose\">}</span><span class=\"mord\">.</span></span></span></span></span></p>\n",
    "<p>Известно, что выражение</p>\n",
    "<p><span class=\"math math-inline\"><span class=\"katex\"><span class=\"katex-mathml\"><math xmlns=\"http://www.w3.org/1998/Math/MathML\"><semantics><mrow><mrow><mo fence=\"true\">(</mo><mo stretchy=\"false\">(</mo><mi>x</mi><mo>∈</mo><mi>A</mi><mo stretchy=\"false\">)</mo><mo>→</mo><mo stretchy=\"false\">(</mo><mi>x</mi><mo>∈</mo><mi>B</mi><mo stretchy=\"false\">)</mo><mo fence=\"true\">)</mo></mrow><mo>∨</mo><mo stretchy=\"false\">(</mo><mi>x</mi><mo>∈</mo><mi>C</mi><mo stretchy=\"false\">)</mo></mrow><annotation encoding=\"application/x-tex\">\\left((x \\in A) \\to (x \\in B)\\right) \\lor (x \\in C)</annotation></semantics></math></span><span class=\"katex-html\" aria-hidden=\"true\"><span class=\"base\"><span class=\"strut\" style=\"height: 1em; vertical-align: -0.25em;\"></span><span class=\"minner\"><span class=\"mopen delimcenter\" style=\"top: 0em;\">(</span><span class=\"mopen\">(</span><span class=\"mord mathnormal\">x</span><span class=\"mspace\" style=\"margin-right: 0.2778em;\"></span><span class=\"mrel\">∈</span><span class=\"mspace\" style=\"margin-right: 0.2778em;\"></span><span class=\"mord mathnormal\">A</span><span class=\"mclose\">)</span><span class=\"mspace\" style=\"margin-right: 0.2778em;\"></span><span class=\"mrel\">→</span><span class=\"mspace\" style=\"margin-right: 0.2778em;\"></span><span class=\"mopen\">(</span><span class=\"mord mathnormal\">x</span><span class=\"mspace\" style=\"margin-right: 0.2778em;\"></span><span class=\"mrel\">∈</span><span class=\"mspace\" style=\"margin-right: 0.2778em;\"></span><span class=\"mord mathnormal\" style=\"margin-right: 0.05017em;\">B</span><span class=\"mclose\">)</span><span class=\"mclose delimcenter\" style=\"top: 0em;\">)</span></span><span class=\"mspace\" style=\"margin-right: 0.2222em;\"></span><span class=\"mbin\">∨</span><span class=\"mspace\" style=\"margin-right: 0.2222em;\"></span></span><span class=\"base\"><span class=\"strut\" style=\"height: 1em; vertical-align: -0.25em;\"></span><span class=\"mopen\">(</span><span class=\"mord mathnormal\">x</span><span class=\"mspace\" style=\"margin-right: 0.2778em;\"></span><span class=\"mrel\">∈</span><span class=\"mspace\" style=\"margin-right: 0.2778em;\"></span></span><span class=\"base\"><span class=\"strut\" style=\"height: 1em; vertical-align: -0.25em;\"></span><span class=\"mord mathnormal\" style=\"margin-right: 0.07153em;\">C</span><span class=\"mclose\">)</span></span></span></span></span></p>\n",
    "<p>истинно (т. е. принимает значение 1) при любом значении переменной <span class=\"math math-inline\"><span class=\"katex\"><span class=\"katex-mathml\"><math xmlns=\"http://www.w3.org/1998/Math/MathML\"><semantics><mrow><mi>x</mi></mrow><annotation encoding=\"application/x-tex\">x</annotation></semantics></math></span><span class=\"katex-html\" aria-hidden=\"true\"><span class=\"base\"><span class=\"strut\" style=\"height: 0.4306em;\"></span><span class=\"mord mathnormal\">x</span></span></span></span></span>. Определите наибольшую возможную сумму элементов множества&nbsp;<span class=\"math math-inline\"><span class=\"katex\"><span class=\"katex-mathml\"><math xmlns=\"http://www.w3.org/1998/Math/MathML\"><semantics><mrow><mi>A</mi></mrow><annotation encoding=\"application/x-tex\">A</annotation></semantics></math></span><span class=\"katex-html\" aria-hidden=\"true\"><span class=\"base\"><span class=\"strut\" style=\"height: 0.6833em;\"></span><span class=\"mord mathnormal\">A</span></span></span></span></span>.</p></div>"
   ]
  },
  {
   "cell_type": "markdown",
   "metadata": {},
   "source": [
    "<h3><details>\n",
    "\t<summary>Ответ</summary>\n",
    "    56\n",
    "</details></h3>"
   ]
  },
  {
   "cell_type": "markdown",
   "metadata": {},
   "source": [
    "# Задание 6"
   ]
  },
  {
   "cell_type": "markdown",
   "metadata": {},
   "source": [
    "<div class=\"Markdown-module__Markdown--f5ALc TasksBankTaskCard-module__TaskCardContentMarkdown--hsXqP\"><p>Элементами множеств <em>А</em>, <em>P</em>, <em>Q</em> являются натуральные числа, причём</p>\n",
    "<p><span class=\"math math-inline\"><span class=\"katex\"><span class=\"katex-mathml\"><math xmlns=\"http://www.w3.org/1998/Math/MathML\"><semantics><mrow><mi>P</mi><mo>=</mo><mo stretchy=\"false\">{</mo><mn>5</mn><mo separator=\"true\">,</mo><mn>10</mn><mo separator=\"true\">,</mo><mn>15</mn><mo separator=\"true\">,</mo><mn>20</mn><mo separator=\"true\">,</mo><mn>25</mn><mo separator=\"true\">,</mo><mn>30</mn><mo stretchy=\"false\">}</mo></mrow><annotation encoding=\"application/x-tex\">P=\\{5, 10,15,20,25,30\\}</annotation></semantics></math></span><span class=\"katex-html\" aria-hidden=\"true\"><span class=\"base\"><span class=\"strut\" style=\"height: 0.6833em;\"></span><span class=\"mord mathnormal\" style=\"margin-right: 0.13889em;\">P</span><span class=\"mspace\" style=\"margin-right: 0.2778em;\"></span><span class=\"mrel\">=</span><span class=\"mspace\" style=\"margin-right: 0.2778em;\"></span></span><span class=\"base\"><span class=\"strut\" style=\"height: 1em; vertical-align: -0.25em;\"></span><span class=\"mopen\">{</span><span class=\"mord\">5</span><span class=\"mpunct\">,</span><span class=\"mspace\" style=\"margin-right: 0.1667em;\"></span><span class=\"mord\">10</span><span class=\"mpunct\">,</span><span class=\"mspace\" style=\"margin-right: 0.1667em;\"></span><span class=\"mord\">15</span><span class=\"mpunct\">,</span><span class=\"mspace\" style=\"margin-right: 0.1667em;\"></span><span class=\"mord\">20</span><span class=\"mpunct\">,</span><span class=\"mspace\" style=\"margin-right: 0.1667em;\"></span><span class=\"mord\">25</span><span class=\"mpunct\">,</span><span class=\"mspace\" style=\"margin-right: 0.1667em;\"></span><span class=\"mord\">30</span><span class=\"mclose\">}</span></span></span></span></span>, <span class=\"math math-inline\"><span class=\"katex\"><span class=\"katex-mathml\"><math xmlns=\"http://www.w3.org/1998/Math/MathML\"><semantics><mrow><mi>Q</mi><mo>=</mo><mo stretchy=\"false\">{</mo><mn>15</mn><mo separator=\"true\">,</mo><mn>18</mn><mo separator=\"true\">,</mo><mn>21</mn><mo separator=\"true\">,</mo><mn>24</mn><mo separator=\"true\">,</mo><mn>27</mn><mo separator=\"true\">,</mo><mn>30</mn><mo stretchy=\"false\">}</mo></mrow><annotation encoding=\"application/x-tex\">Q=\\{15,18,21,24,27,30\\}</annotation></semantics></math></span><span class=\"katex-html\" aria-hidden=\"true\"><span class=\"base\"><span class=\"strut\" style=\"height: 0.8778em; vertical-align: -0.1944em;\"></span><span class=\"mord mathnormal\">Q</span><span class=\"mspace\" style=\"margin-right: 0.2778em;\"></span><span class=\"mrel\">=</span><span class=\"mspace\" style=\"margin-right: 0.2778em;\"></span></span><span class=\"base\"><span class=\"strut\" style=\"height: 1em; vertical-align: -0.25em;\"></span><span class=\"mopen\">{</span><span class=\"mord\">15</span><span class=\"mpunct\">,</span><span class=\"mspace\" style=\"margin-right: 0.1667em;\"></span><span class=\"mord\">18</span><span class=\"mpunct\">,</span><span class=\"mspace\" style=\"margin-right: 0.1667em;\"></span><span class=\"mord\">21</span><span class=\"mpunct\">,</span><span class=\"mspace\" style=\"margin-right: 0.1667em;\"></span><span class=\"mord\">24</span><span class=\"mpunct\">,</span><span class=\"mspace\" style=\"margin-right: 0.1667em;\"></span><span class=\"mord\">27</span><span class=\"mpunct\">,</span><span class=\"mspace\" style=\"margin-right: 0.1667em;\"></span><span class=\"mord\">30</span><span class=\"mclose\">}</span></span></span></span></span>.</p>\n",
    "<p>Известно, что выражение</p>\n",
    "<p><span class=\"math math-inline\"><span class=\"katex\"><span class=\"katex-mathml\"><math xmlns=\"http://www.w3.org/1998/Math/MathML\"><semantics><mrow><mi mathvariant=\"normal\">¬</mi><mo stretchy=\"false\">(</mo><mo stretchy=\"false\">(</mo><mi>x</mi><mo>∈</mo><mi>P</mi><mo stretchy=\"false\">)</mo><mo>→</mo><mi mathvariant=\"normal\">¬</mi><mo stretchy=\"false\">(</mo><mi>x</mi><mo>∈</mo><mi>Q</mi><mo stretchy=\"false\">)</mo><mo stretchy=\"false\">)</mo><mo>∧</mo><mo stretchy=\"false\">(</mo><mi>x</mi><mo mathvariant=\"normal\">∉</mo><mi>A</mi><mo stretchy=\"false\">)</mo></mrow><annotation encoding=\"application/x-tex\">¬((x ∈ P) → ¬ (x ∈ Q))∧(x ∉ A)</annotation></semantics></math></span><span class=\"katex-html\" aria-hidden=\"true\"><span class=\"base\"><span class=\"strut\" style=\"height: 1em; vertical-align: -0.25em;\"></span><span class=\"mord\">¬</span><span class=\"mopen\">((</span><span class=\"mord mathnormal\">x</span><span class=\"mspace\" style=\"margin-right: 0.2778em;\"></span><span class=\"mrel\">∈</span><span class=\"mspace\" style=\"margin-right: 0.2778em;\"></span></span><span class=\"base\"><span class=\"strut\" style=\"height: 1em; vertical-align: -0.25em;\"></span><span class=\"mord mathnormal\" style=\"margin-right: 0.13889em;\">P</span><span class=\"mclose\">)</span><span class=\"mspace\" style=\"margin-right: 0.2778em;\"></span><span class=\"mrel\">→</span><span class=\"mspace\" style=\"margin-right: 0.2778em;\"></span></span><span class=\"base\"><span class=\"strut\" style=\"height: 1em; vertical-align: -0.25em;\"></span><span class=\"mord\">¬</span><span class=\"mopen\">(</span><span class=\"mord mathnormal\">x</span><span class=\"mspace\" style=\"margin-right: 0.2778em;\"></span><span class=\"mrel\">∈</span><span class=\"mspace\" style=\"margin-right: 0.2778em;\"></span></span><span class=\"base\"><span class=\"strut\" style=\"height: 1em; vertical-align: -0.25em;\"></span><span class=\"mord mathnormal\">Q</span><span class=\"mclose\">))</span><span class=\"mspace\" style=\"margin-right: 0.2222em;\"></span><span class=\"mbin\">∧</span><span class=\"mspace\" style=\"margin-right: 0.2222em;\"></span></span><span class=\"base\"><span class=\"strut\" style=\"height: 1em; vertical-align: -0.25em;\"></span><span class=\"mopen\">(</span><span class=\"mord mathnormal\">x</span><span class=\"mspace\" style=\"margin-right: 0.2778em;\"></span><span class=\"mrel\"><span class=\"mord\"><span class=\"mrel\">∈</span></span><span class=\"mord vbox\"><span class=\"thinbox\"><span class=\"llap\"><span class=\"strut\" style=\"height: 1em; vertical-align: -0.25em;\"></span><span class=\"inner\"><span class=\"mord\"><span class=\"mord\">/</span><span class=\"mspace\" style=\"margin-right: 0.0556em;\"></span></span></span><span class=\"fix\"></span></span></span></span></span><span class=\"mspace\" style=\"margin-right: 0.2778em;\"></span></span><span class=\"base\"><span class=\"strut\" style=\"height: 1em; vertical-align: -0.25em;\"></span><span class=\"mord mathnormal\">A</span><span class=\"mclose\">)</span></span></span></span></span></p>\n",
    "<p>ложно (т. е. принимает значение 0 при любом значении переменной <em>х</em>).</p>\n",
    "<p>Определите <strong>наименьшую</strong> возможную сумму элементов в&nbsp;множестве&nbsp;<em>A</em>.</p></div>"
   ]
  },
  {
   "cell_type": "markdown",
   "metadata": {},
   "source": [
    "<h3><details>\n",
    "\t<summary>Ответ</summary>\n",
    "    45\n",
    "</details></h3>"
   ]
  },
  {
   "cell_type": "markdown",
   "metadata": {},
   "source": [
    "# Задание 7"
   ]
  },
  {
   "cell_type": "markdown",
   "metadata": {},
   "source": [
    "<div class=\"Markdown-module__Markdown--f5ALc TasksBankTaskCard-module__TaskCardContentMarkdown--hsXqP\"><p>Элементами множества <em>А</em> являются натуральные числа. Известно, что выражение</p>\n",
    "<p><span class=\"math math-inline\"><span class=\"katex\"><span class=\"katex-mathml\"><math xmlns=\"http://www.w3.org/1998/Math/MathML\"><semantics><mrow><mi mathvariant=\"normal\">¬</mi><mo stretchy=\"false\">(</mo><mo stretchy=\"false\">(</mo><mi>x</mi><mo>∈</mo><mo stretchy=\"false\">{</mo><mn>12</mn><mo separator=\"true\">,</mo><mn>14</mn><mo separator=\"true\">,</mo><mn>19</mn><mo separator=\"true\">,</mo><mn>20</mn><mo separator=\"true\">,</mo><mn>25</mn><mo stretchy=\"false\">}</mo><mo stretchy=\"false\">)</mo><mo>≡</mo><mo stretchy=\"false\">(</mo><mi>x</mi><mo>∈</mo><mi>A</mi><mo stretchy=\"false\">)</mo><mo stretchy=\"false\">)</mo><mo>→</mo><mo stretchy=\"false\">(</mo><mo stretchy=\"false\">(</mo><mi>x</mi><mo>∈</mo><mo stretchy=\"false\">{</mo><mn>13</mn><mo separator=\"true\">,</mo><mn>18</mn><mo separator=\"true\">,</mo><mn>19</mn><mo separator=\"true\">,</mo><mn>20</mn><mo separator=\"true\">,</mo><mn>30</mn><mo stretchy=\"false\">}</mo><mo stretchy=\"false\">)</mo><mo>≡</mo><mo stretchy=\"false\">(</mo><mi>x</mi><mo>∈</mo><mi>A</mi><mo stretchy=\"false\">)</mo><mo stretchy=\"false\">)</mo></mrow><annotation encoding=\"application/x-tex\">¬((x ∈ \\{12, 14, 19, 20, 25\\}) ≡ (x ∈ A)) →  ((x ∈ \\{13, 18, 19, 20, 30\\}) ≡ (x ∈ A))</annotation></semantics></math></span><span class=\"katex-html\" aria-hidden=\"true\"><span class=\"base\"><span class=\"strut\" style=\"height: 1em; vertical-align: -0.25em;\"></span><span class=\"mord\">¬</span><span class=\"mopen\">((</span><span class=\"mord mathnormal\">x</span><span class=\"mspace\" style=\"margin-right: 0.2778em;\"></span><span class=\"mrel\">∈</span><span class=\"mspace\" style=\"margin-right: 0.2778em;\"></span></span><span class=\"base\"><span class=\"strut\" style=\"height: 1em; vertical-align: -0.25em;\"></span><span class=\"mopen\">{</span><span class=\"mord\">12</span><span class=\"mpunct\">,</span><span class=\"mspace\" style=\"margin-right: 0.1667em;\"></span><span class=\"mord\">14</span><span class=\"mpunct\">,</span><span class=\"mspace\" style=\"margin-right: 0.1667em;\"></span><span class=\"mord\">19</span><span class=\"mpunct\">,</span><span class=\"mspace\" style=\"margin-right: 0.1667em;\"></span><span class=\"mord\">20</span><span class=\"mpunct\">,</span><span class=\"mspace\" style=\"margin-right: 0.1667em;\"></span><span class=\"mord\">25</span><span class=\"mclose\">})</span><span class=\"mspace\" style=\"margin-right: 0.2778em;\"></span><span class=\"mrel\">≡</span><span class=\"mspace\" style=\"margin-right: 0.2778em;\"></span></span><span class=\"base\"><span class=\"strut\" style=\"height: 1em; vertical-align: -0.25em;\"></span><span class=\"mopen\">(</span><span class=\"mord mathnormal\">x</span><span class=\"mspace\" style=\"margin-right: 0.2778em;\"></span><span class=\"mrel\">∈</span><span class=\"mspace\" style=\"margin-right: 0.2778em;\"></span></span><span class=\"base\"><span class=\"strut\" style=\"height: 1em; vertical-align: -0.25em;\"></span><span class=\"mord mathnormal\">A</span><span class=\"mclose\">))</span><span class=\"mspace\" style=\"margin-right: 0.2778em;\"></span><span class=\"mrel\">→</span><span class=\"mspace\" style=\"margin-right: 0.2778em;\"></span></span><span class=\"base\"><span class=\"strut\" style=\"height: 1em; vertical-align: -0.25em;\"></span><span class=\"mopen\">((</span><span class=\"mord mathnormal\">x</span><span class=\"mspace\" style=\"margin-right: 0.2778em;\"></span><span class=\"mrel\">∈</span><span class=\"mspace\" style=\"margin-right: 0.2778em;\"></span></span><span class=\"base\"><span class=\"strut\" style=\"height: 1em; vertical-align: -0.25em;\"></span><span class=\"mopen\">{</span><span class=\"mord\">13</span><span class=\"mpunct\">,</span><span class=\"mspace\" style=\"margin-right: 0.1667em;\"></span><span class=\"mord\">18</span><span class=\"mpunct\">,</span><span class=\"mspace\" style=\"margin-right: 0.1667em;\"></span><span class=\"mord\">19</span><span class=\"mpunct\">,</span><span class=\"mspace\" style=\"margin-right: 0.1667em;\"></span><span class=\"mord\">20</span><span class=\"mpunct\">,</span><span class=\"mspace\" style=\"margin-right: 0.1667em;\"></span><span class=\"mord\">30</span><span class=\"mclose\">})</span><span class=\"mspace\" style=\"margin-right: 0.2778em;\"></span><span class=\"mrel\">≡</span><span class=\"mspace\" style=\"margin-right: 0.2778em;\"></span></span><span class=\"base\"><span class=\"strut\" style=\"height: 1em; vertical-align: -0.25em;\"></span><span class=\"mopen\">(</span><span class=\"mord mathnormal\">x</span><span class=\"mspace\" style=\"margin-right: 0.2778em;\"></span><span class=\"mrel\">∈</span><span class=\"mspace\" style=\"margin-right: 0.2778em;\"></span></span><span class=\"base\"><span class=\"strut\" style=\"height: 1em; vertical-align: -0.25em;\"></span><span class=\"mord mathnormal\">A</span><span class=\"mclose\">))</span></span></span></span></span></p>\n",
    "<p>истинно (т. е. принимает значение 1) при любом значении переменной <em>х</em>.</p>\n",
    "<p>Определите <strong>наибольшее</strong> возможное значение <strong>произведения</strong> элементов множества <em>A</em>.</p></div>"
   ]
  },
  {
   "cell_type": "code",
   "execution_count": null,
   "metadata": {},
   "outputs": [
    {
     "data": {
      "text/plain": [
       "11203920000"
      ]
     },
     "execution_count": 38,
     "metadata": {},
     "output_type": "execute_result"
    }
   ],
   "source": [
    "a = []\n",
    "\n",
    "for x in range(-5, 100):\n",
    "    if not (not (not ((x in [12, 14, 19, 20, 25]) == (x in a))) or ((x in [13, 18, 19, 20, 30]) == (x in a))):\n",
    "        print(x)\n"
   ]
  },
  {
   "cell_type": "markdown",
   "metadata": {},
   "source": [
    "<h3><details>\n",
    "\t<summary>Ответ</summary>\n",
    "    11203920000\n",
    "</details></h3>"
   ]
  },
  {
   "cell_type": "markdown",
   "metadata": {},
   "source": [
    "# Задание 8"
   ]
  },
  {
   "cell_type": "markdown",
   "metadata": {},
   "source": [
    "<div class=\"Markdown-module__Markdown--f5ALc TasksBankTaskCard-module__TaskCardContentMarkdown--hsXqP\"><p>Элементами множества <em>А</em> являются натуральные числа. Известно, что выражение</p>\n",
    "<p><span class=\"math math-inline\"><span class=\"katex\"><span class=\"katex-mathml\"><math xmlns=\"http://www.w3.org/1998/Math/MathML\"><semantics><mrow><mo stretchy=\"false\">(</mo><mo stretchy=\"false\">(</mo><mi>x</mi><mo>∈</mo><mo stretchy=\"false\">{</mo><mn>18</mn><mo separator=\"true\">,</mo><mn>20</mn><mo separator=\"true\">,</mo><mn>22</mn><mo separator=\"true\">,</mo><mn>26</mn><mo separator=\"true\">,</mo><mn>27</mn><mo separator=\"true\">,</mo><mn>30</mn><mo stretchy=\"false\">}</mo><mo stretchy=\"false\">)</mo><mo>→</mo><mo stretchy=\"false\">(</mo><mi>x</mi><mo>∈</mo><mo stretchy=\"false\">{</mo><mn>20</mn><mo separator=\"true\">,</mo><mn>21</mn><mo separator=\"true\">,</mo><mn>27</mn><mo separator=\"true\">,</mo><mn>30</mn><mo stretchy=\"false\">}</mo><mo stretchy=\"false\">)</mo><mo stretchy=\"false\">)</mo><mo>∨</mo><mo stretchy=\"false\">(</mo><mi>x</mi><mo>∈</mo><mi>A</mi><mo stretchy=\"false\">)</mo></mrow><annotation encoding=\"application/x-tex\">((x ∈ \\{18, 20, 22, 26, 27, 30\\}) → (x ∈ \\{20, 21, 27, 30\\})) \\vee  (x ∈ A)</annotation></semantics></math></span><span class=\"katex-html\" aria-hidden=\"true\"><span class=\"base\"><span class=\"strut\" style=\"height: 1em; vertical-align: -0.25em;\"></span><span class=\"mopen\">((</span><span class=\"mord mathnormal\">x</span><span class=\"mspace\" style=\"margin-right: 0.2778em;\"></span><span class=\"mrel\">∈</span><span class=\"mspace\" style=\"margin-right: 0.2778em;\"></span></span><span class=\"base\"><span class=\"strut\" style=\"height: 1em; vertical-align: -0.25em;\"></span><span class=\"mopen\">{</span><span class=\"mord\">18</span><span class=\"mpunct\">,</span><span class=\"mspace\" style=\"margin-right: 0.1667em;\"></span><span class=\"mord\">20</span><span class=\"mpunct\">,</span><span class=\"mspace\" style=\"margin-right: 0.1667em;\"></span><span class=\"mord\">22</span><span class=\"mpunct\">,</span><span class=\"mspace\" style=\"margin-right: 0.1667em;\"></span><span class=\"mord\">26</span><span class=\"mpunct\">,</span><span class=\"mspace\" style=\"margin-right: 0.1667em;\"></span><span class=\"mord\">27</span><span class=\"mpunct\">,</span><span class=\"mspace\" style=\"margin-right: 0.1667em;\"></span><span class=\"mord\">30</span><span class=\"mclose\">})</span><span class=\"mspace\" style=\"margin-right: 0.2778em;\"></span><span class=\"mrel\">→</span><span class=\"mspace\" style=\"margin-right: 0.2778em;\"></span></span><span class=\"base\"><span class=\"strut\" style=\"height: 1em; vertical-align: -0.25em;\"></span><span class=\"mopen\">(</span><span class=\"mord mathnormal\">x</span><span class=\"mspace\" style=\"margin-right: 0.2778em;\"></span><span class=\"mrel\">∈</span><span class=\"mspace\" style=\"margin-right: 0.2778em;\"></span></span><span class=\"base\"><span class=\"strut\" style=\"height: 1em; vertical-align: -0.25em;\"></span><span class=\"mopen\">{</span><span class=\"mord\">20</span><span class=\"mpunct\">,</span><span class=\"mspace\" style=\"margin-right: 0.1667em;\"></span><span class=\"mord\">21</span><span class=\"mpunct\">,</span><span class=\"mspace\" style=\"margin-right: 0.1667em;\"></span><span class=\"mord\">27</span><span class=\"mpunct\">,</span><span class=\"mspace\" style=\"margin-right: 0.1667em;\"></span><span class=\"mord\">30</span><span class=\"mclose\">}))</span><span class=\"mspace\" style=\"margin-right: 0.2222em;\"></span><span class=\"mbin\">∨</span><span class=\"mspace\" style=\"margin-right: 0.2222em;\"></span></span><span class=\"base\"><span class=\"strut\" style=\"height: 1em; vertical-align: -0.25em;\"></span><span class=\"mopen\">(</span><span class=\"mord mathnormal\">x</span><span class=\"mspace\" style=\"margin-right: 0.2778em;\"></span><span class=\"mrel\">∈</span><span class=\"mspace\" style=\"margin-right: 0.2778em;\"></span></span><span class=\"base\"><span class=\"strut\" style=\"height: 1em; vertical-align: -0.25em;\"></span><span class=\"mord mathnormal\">A</span><span class=\"mclose\">)</span></span></span></span></span></p>\n",
    "<p>истинно (т. е. принимает значение 1) при любом значении переменной <em>х</em>.</p>\n",
    "<p>Определите <strong>наименьшее</strong> возможное <strong>количество</strong> элементов множества <em>A</em>.</p></div>"
   ]
  },
  {
   "cell_type": "code",
   "execution_count": null,
   "metadata": {},
   "outputs": [],
   "source": [
    "a = []\n",
    "\n",
    "for i in range(100):\n",
    "    x in [18, 20, 22, 26, 27, 30] x in [20, 21, 27, 30]"
   ]
  },
  {
   "cell_type": "markdown",
   "metadata": {},
   "source": [
    "<h3><details>\n",
    "\t<summary>Ответ</summary>\n",
    "    3\n",
    "</details></h3>"
   ]
  },
  {
   "cell_type": "markdown",
   "metadata": {},
   "source": [
    "# Задание 9"
   ]
  },
  {
   "cell_type": "markdown",
   "metadata": {},
   "source": [
    "<div class=\"Markdown-module__Markdown--f5ALc TasksBankTaskCard-module__TaskCardContentMarkdown--hsXqP\"><p>Обозначим через <em>m&amp;n</em> поразрядную конъюнкцию неотрицательных целых чисел <em>m</em> и <em>n</em>. Так, например,</p>\n",
    "<p><span class=\"math math-inline\"><span class=\"katex\"><span class=\"katex-mathml\"><math xmlns=\"http://www.w3.org/1998/Math/MathML\"><semantics><mrow><mn>13</mn><mtext>&nbsp;</mtext><mi mathvariant=\"normal\">&amp;</mi><mtext>&nbsp;</mtext><mn>7</mn><mo>=</mo><mn>110</mn><msub><mn>1</mn><mn>2</mn></msub><mtext>&nbsp;</mtext><mi mathvariant=\"normal\">&amp;</mi><mtext>&nbsp;</mtext><mn>011</mn><msub><mn>1</mn><mn>2</mn></msub><mo>=</mo><mn>010</mn><msub><mn>1</mn><mn>2</mn></msub><mo>=</mo><mn>5</mn></mrow><annotation encoding=\"application/x-tex\">13&nbsp;\\&amp;&nbsp;7=1101_{2}&nbsp;\\&amp;&nbsp;0111_{2}=0101_{2} = 5</annotation></semantics></math></span><span class=\"katex-html\" aria-hidden=\"true\"><span class=\"base\"><span class=\"strut\" style=\"height: 0.6944em;\"></span><span class=\"mord\">13&nbsp;&amp;&nbsp;7</span><span class=\"mspace\" style=\"margin-right: 0.2778em;\"></span><span class=\"mrel\">=</span><span class=\"mspace\" style=\"margin-right: 0.2778em;\"></span></span><span class=\"base\"><span class=\"strut\" style=\"height: 0.8444em; vertical-align: -0.15em;\"></span><span class=\"mord\">110</span><span class=\"mord\"><span class=\"mord\">1</span><span class=\"msupsub\"><span class=\"vlist-t vlist-t2\"><span class=\"vlist-r\"><span class=\"vlist\" style=\"height: 0.3011em;\"><span style=\"top: -2.55em; margin-left: 0em; margin-right: 0.05em;\"><span class=\"pstrut\" style=\"height: 2.7em;\"></span><span class=\"sizing reset-size6 size3 mtight\"><span class=\"mord mtight\"><span class=\"mord mtight\">2</span></span></span></span></span><span class=\"vlist-s\">&ZeroWidthSpace;</span></span><span class=\"vlist-r\"><span class=\"vlist\" style=\"height: 0.15em;\"><span></span></span></span></span></span></span><span class=\"mord\">&nbsp;&amp;&nbsp;011</span><span class=\"mord\"><span class=\"mord\">1</span><span class=\"msupsub\"><span class=\"vlist-t vlist-t2\"><span class=\"vlist-r\"><span class=\"vlist\" style=\"height: 0.3011em;\"><span style=\"top: -2.55em; margin-left: 0em; margin-right: 0.05em;\"><span class=\"pstrut\" style=\"height: 2.7em;\"></span><span class=\"sizing reset-size6 size3 mtight\"><span class=\"mord mtight\"><span class=\"mord mtight\">2</span></span></span></span></span><span class=\"vlist-s\">&ZeroWidthSpace;</span></span><span class=\"vlist-r\"><span class=\"vlist\" style=\"height: 0.15em;\"><span></span></span></span></span></span></span><span class=\"mspace\" style=\"margin-right: 0.2778em;\"></span><span class=\"mrel\">=</span><span class=\"mspace\" style=\"margin-right: 0.2778em;\"></span></span><span class=\"base\"><span class=\"strut\" style=\"height: 0.7944em; vertical-align: -0.15em;\"></span><span class=\"mord\">010</span><span class=\"mord\"><span class=\"mord\">1</span><span class=\"msupsub\"><span class=\"vlist-t vlist-t2\"><span class=\"vlist-r\"><span class=\"vlist\" style=\"height: 0.3011em;\"><span style=\"top: -2.55em; margin-left: 0em; margin-right: 0.05em;\"><span class=\"pstrut\" style=\"height: 2.7em;\"></span><span class=\"sizing reset-size6 size3 mtight\"><span class=\"mord mtight\"><span class=\"mord mtight\">2</span></span></span></span></span><span class=\"vlist-s\">&ZeroWidthSpace;</span></span><span class=\"vlist-r\"><span class=\"vlist\" style=\"height: 0.15em;\"><span></span></span></span></span></span></span><span class=\"mspace\" style=\"margin-right: 0.2778em;\"></span><span class=\"mrel\">=</span><span class=\"mspace\" style=\"margin-right: 0.2778em;\"></span></span><span class=\"base\"><span class=\"strut\" style=\"height: 0.6444em;\"></span><span class=\"mord\">5</span></span></span></span></span>.</p>\n",
    "<p>Определите наибольшее натуральное число <em>A</em> из интервала [4, 92] такое, что выражение</p>\n",
    "<p><span class=\"math math-inline\"><span class=\"katex\"><span class=\"katex-mathml\"><math xmlns=\"http://www.w3.org/1998/Math/MathML\"><semantics><mrow><mo stretchy=\"false\">(</mo><mo stretchy=\"false\">(</mo><mi>x</mi><mtext>&nbsp;</mtext><mi mathvariant=\"normal\">&amp;</mi><mtext>&nbsp;</mtext><mn>46</mn><mo mathvariant=\"normal\">≠</mo><mn>0</mn><mo stretchy=\"false\">)</mo><mo>→</mo><mo stretchy=\"false\">(</mo><mo stretchy=\"false\">(</mo><mi>x</mi><mtext>&nbsp;</mtext><mi mathvariant=\"normal\">&amp;</mi><mtext>&nbsp;</mtext><mi>A</mi><mo mathvariant=\"normal\">≠</mo><mn>0</mn><mo stretchy=\"false\">)</mo><mo>→</mo><mo stretchy=\"false\">(</mo><mi>x</mi><mtext>&nbsp;</mtext><mi mathvariant=\"normal\">&amp;</mi><mtext>&nbsp;</mtext><mn>70</mn><mo mathvariant=\"normal\">≠</mo><mn>0</mn><mo stretchy=\"false\">)</mo><mo stretchy=\"false\">)</mo><mo stretchy=\"false\">)</mo><mo>→</mo><mo stretchy=\"false\">(</mo><mo stretchy=\"false\">(</mo><mi>x</mi><mtext>&nbsp;</mtext><mi mathvariant=\"normal\">&amp;</mi><mtext>&nbsp;</mtext><mn>6</mn><mo>=</mo><mn>0</mn><mo stretchy=\"false\">)</mo><mo>∧</mo><mo stretchy=\"false\">(</mo><mi>x</mi><mtext>&nbsp;</mtext><mi mathvariant=\"normal\">&amp;</mi><mtext>&nbsp;</mtext><mi>A</mi><mo mathvariant=\"normal\">≠</mo><mn>0</mn><mo stretchy=\"false\">)</mo><mo>∧</mo><mo stretchy=\"false\">(</mo><mi>x</mi><mtext>&nbsp;</mtext><mi mathvariant=\"normal\">&amp;</mi><mtext>&nbsp;</mtext><mn>70</mn><mo>=</mo><mn>0</mn><mo stretchy=\"false\">)</mo><mo stretchy=\"false\">)</mo></mrow><annotation encoding=\"application/x-tex\">((x&nbsp;\\&amp;&nbsp;46 ≠  0) \\to  ((x&nbsp;\\&amp;&nbsp;A  ≠ 0) \\to  (x&nbsp;\\&amp;&nbsp;70  ≠ 0))) \\to  ((x&nbsp;\\&amp;&nbsp;6 = 0) \\wedge  (x&nbsp;\\&amp;&nbsp;A  ≠  0) \\wedge  (x&nbsp;\\&amp;&nbsp;70 = 0))</annotation></semantics></math></span><span class=\"katex-html\" aria-hidden=\"true\"><span class=\"base\"><span class=\"strut\" style=\"height: 1em; vertical-align: -0.25em;\"></span><span class=\"mopen\">((</span><span class=\"mord mathnormal\">x</span><span class=\"mord\">&nbsp;&amp;&nbsp;46</span><span class=\"mspace\" style=\"margin-right: 0.2778em;\"></span><span class=\"mrel\"><span class=\"mrel\"><span class=\"mord vbox\"><span class=\"thinbox\"><span class=\"rlap\"><span class=\"strut\" style=\"height: 0.8889em; vertical-align: -0.1944em;\"></span><span class=\"inner\"><span class=\"mord\"><span class=\"mrel\"></span></span></span><span class=\"fix\"></span></span></span></span></span><span class=\"mrel\">=</span></span><span class=\"mspace\" style=\"margin-right: 0.2778em;\"></span></span><span class=\"base\"><span class=\"strut\" style=\"height: 1em; vertical-align: -0.25em;\"></span><span class=\"mord\">0</span><span class=\"mclose\">)</span><span class=\"mspace\" style=\"margin-right: 0.2778em;\"></span><span class=\"mrel\">→</span><span class=\"mspace\" style=\"margin-right: 0.2778em;\"></span></span><span class=\"base\"><span class=\"strut\" style=\"height: 1em; vertical-align: -0.25em;\"></span><span class=\"mopen\">((</span><span class=\"mord mathnormal\">x</span><span class=\"mord\">&nbsp;&amp;&nbsp;</span><span class=\"mord mathnormal\">A</span><span class=\"mspace\" style=\"margin-right: 0.2778em;\"></span><span class=\"mrel\"><span class=\"mrel\"><span class=\"mord vbox\"><span class=\"thinbox\"><span class=\"rlap\"><span class=\"strut\" style=\"height: 0.8889em; vertical-align: -0.1944em;\"></span><span class=\"inner\"><span class=\"mord\"><span class=\"mrel\"></span></span></span><span class=\"fix\"></span></span></span></span></span><span class=\"mrel\">=</span></span><span class=\"mspace\" style=\"margin-right: 0.2778em;\"></span></span><span class=\"base\"><span class=\"strut\" style=\"height: 1em; vertical-align: -0.25em;\"></span><span class=\"mord\">0</span><span class=\"mclose\">)</span><span class=\"mspace\" style=\"margin-right: 0.2778em;\"></span><span class=\"mrel\">→</span><span class=\"mspace\" style=\"margin-right: 0.2778em;\"></span></span><span class=\"base\"><span class=\"strut\" style=\"height: 1em; vertical-align: -0.25em;\"></span><span class=\"mopen\">(</span><span class=\"mord mathnormal\">x</span><span class=\"mord\">&nbsp;&amp;&nbsp;70</span><span class=\"mspace\" style=\"margin-right: 0.2778em;\"></span><span class=\"mrel\"><span class=\"mrel\"><span class=\"mord vbox\"><span class=\"thinbox\"><span class=\"rlap\"><span class=\"strut\" style=\"height: 0.8889em; vertical-align: -0.1944em;\"></span><span class=\"inner\"><span class=\"mord\"><span class=\"mrel\"></span></span></span><span class=\"fix\"></span></span></span></span></span><span class=\"mrel\">=</span></span><span class=\"mspace\" style=\"margin-right: 0.2778em;\"></span></span><span class=\"base\"><span class=\"strut\" style=\"height: 1em; vertical-align: -0.25em;\"></span><span class=\"mord\">0</span><span class=\"mclose\">)))</span><span class=\"mspace\" style=\"margin-right: 0.2778em;\"></span><span class=\"mrel\">→</span><span class=\"mspace\" style=\"margin-right: 0.2778em;\"></span></span><span class=\"base\"><span class=\"strut\" style=\"height: 1em; vertical-align: -0.25em;\"></span><span class=\"mopen\">((</span><span class=\"mord mathnormal\">x</span><span class=\"mord\">&nbsp;&amp;&nbsp;6</span><span class=\"mspace\" style=\"margin-right: 0.2778em;\"></span><span class=\"mrel\">=</span><span class=\"mspace\" style=\"margin-right: 0.2778em;\"></span></span><span class=\"base\"><span class=\"strut\" style=\"height: 1em; vertical-align: -0.25em;\"></span><span class=\"mord\">0</span><span class=\"mclose\">)</span><span class=\"mspace\" style=\"margin-right: 0.2222em;\"></span><span class=\"mbin\">∧</span><span class=\"mspace\" style=\"margin-right: 0.2222em;\"></span></span><span class=\"base\"><span class=\"strut\" style=\"height: 1em; vertical-align: -0.25em;\"></span><span class=\"mopen\">(</span><span class=\"mord mathnormal\">x</span><span class=\"mord\">&nbsp;&amp;&nbsp;</span><span class=\"mord mathnormal\">A</span><span class=\"mspace\" style=\"margin-right: 0.2778em;\"></span><span class=\"mrel\"><span class=\"mrel\"><span class=\"mord vbox\"><span class=\"thinbox\"><span class=\"rlap\"><span class=\"strut\" style=\"height: 0.8889em; vertical-align: -0.1944em;\"></span><span class=\"inner\"><span class=\"mord\"><span class=\"mrel\"></span></span></span><span class=\"fix\"></span></span></span></span></span><span class=\"mrel\">=</span></span><span class=\"mspace\" style=\"margin-right: 0.2778em;\"></span></span><span class=\"base\"><span class=\"strut\" style=\"height: 1em; vertical-align: -0.25em;\"></span><span class=\"mord\">0</span><span class=\"mclose\">)</span><span class=\"mspace\" style=\"margin-right: 0.2222em;\"></span><span class=\"mbin\">∧</span><span class=\"mspace\" style=\"margin-right: 0.2222em;\"></span></span><span class=\"base\"><span class=\"strut\" style=\"height: 1em; vertical-align: -0.25em;\"></span><span class=\"mopen\">(</span><span class=\"mord mathnormal\">x</span><span class=\"mord\">&nbsp;&amp;&nbsp;70</span><span class=\"mspace\" style=\"margin-right: 0.2778em;\"></span><span class=\"mrel\">=</span><span class=\"mspace\" style=\"margin-right: 0.2778em;\"></span></span><span class=\"base\"><span class=\"strut\" style=\"height: 1em; vertical-align: -0.25em;\"></span><span class=\"mord\">0</span><span class=\"mclose\">))</span></span></span></span></span></p>\n",
    "<p>тождественно ложно (то есть принимает значение 0 при любом натуральном значении переменной <em>x</em>).</p></div>"
   ]
  },
  {
   "cell_type": "code",
   "execution_count": 41,
   "metadata": {},
   "outputs": [],
   "source": [
    "A = 6\n",
    "\n",
    "for x in range(1, 100):\n",
    "    if not (not (x & 46 != 0) or (not (x & A != 0) or (x & 70 != 0))) or ((x & 6 == 0) and (x & A != 0) and (x & 70 == 0)):\n",
    "        print(x)"
   ]
  },
  {
   "cell_type": "markdown",
   "metadata": {},
   "source": [
    "<h3><details>\n",
    "\t<summary>Ответ</summary>\n",
    "    70\n",
    "</details></h3>"
   ]
  },
  {
   "cell_type": "markdown",
   "metadata": {},
   "source": [
    "# Задание 10"
   ]
  },
  {
   "cell_type": "markdown",
   "metadata": {},
   "source": [
    "<div class=\"Markdown-module__Markdown--f5ALc TasksBankTaskCard-module__TaskCardContentMarkdown--hsXqP\"><p>Обозначим через <em>m&amp;n</em> поразрядную конъюнкцию неотрицательных целых чисел <em>m</em> и <em>n</em>. Так, например,</p>\n",
    "<p><span class=\"math math-inline\"><span class=\"katex\"><span class=\"katex-mathml\"><math xmlns=\"http://www.w3.org/1998/Math/MathML\"><semantics><mrow><mn>13</mn><mtext>&nbsp;</mtext><mi mathvariant=\"normal\">&amp;</mi><mtext>&nbsp;</mtext><mn>7</mn><mo>=</mo><mn>110</mn><msub><mn>1</mn><mn>2</mn></msub><mtext>&nbsp;</mtext><mi mathvariant=\"normal\">&amp;</mi><mtext>&nbsp;</mtext><mn>011</mn><msub><mn>1</mn><mn>2</mn></msub><mo>=</mo><mn>010</mn><msub><mn>1</mn><mn>2</mn></msub><mo>=</mo><mn>5</mn></mrow><annotation encoding=\"application/x-tex\">13&nbsp;\\&amp;&nbsp;7=1101_{2}&nbsp;\\&amp;&nbsp;0111_{2}=0101_{2}=5</annotation></semantics></math></span><span class=\"katex-html\" aria-hidden=\"true\"><span class=\"base\"><span class=\"strut\" style=\"height: 0.6944em;\"></span><span class=\"mord\">13&nbsp;&amp;&nbsp;7</span><span class=\"mspace\" style=\"margin-right: 0.2778em;\"></span><span class=\"mrel\">=</span><span class=\"mspace\" style=\"margin-right: 0.2778em;\"></span></span><span class=\"base\"><span class=\"strut\" style=\"height: 0.8444em; vertical-align: -0.15em;\"></span><span class=\"mord\">110</span><span class=\"mord\"><span class=\"mord\">1</span><span class=\"msupsub\"><span class=\"vlist-t vlist-t2\"><span class=\"vlist-r\"><span class=\"vlist\" style=\"height: 0.3011em;\"><span style=\"top: -2.55em; margin-left: 0em; margin-right: 0.05em;\"><span class=\"pstrut\" style=\"height: 2.7em;\"></span><span class=\"sizing reset-size6 size3 mtight\"><span class=\"mord mtight\"><span class=\"mord mtight\">2</span></span></span></span></span><span class=\"vlist-s\">&ZeroWidthSpace;</span></span><span class=\"vlist-r\"><span class=\"vlist\" style=\"height: 0.15em;\"><span></span></span></span></span></span></span><span class=\"mord\">&nbsp;&amp;&nbsp;011</span><span class=\"mord\"><span class=\"mord\">1</span><span class=\"msupsub\"><span class=\"vlist-t vlist-t2\"><span class=\"vlist-r\"><span class=\"vlist\" style=\"height: 0.3011em;\"><span style=\"top: -2.55em; margin-left: 0em; margin-right: 0.05em;\"><span class=\"pstrut\" style=\"height: 2.7em;\"></span><span class=\"sizing reset-size6 size3 mtight\"><span class=\"mord mtight\"><span class=\"mord mtight\">2</span></span></span></span></span><span class=\"vlist-s\">&ZeroWidthSpace;</span></span><span class=\"vlist-r\"><span class=\"vlist\" style=\"height: 0.15em;\"><span></span></span></span></span></span></span><span class=\"mspace\" style=\"margin-right: 0.2778em;\"></span><span class=\"mrel\">=</span><span class=\"mspace\" style=\"margin-right: 0.2778em;\"></span></span><span class=\"base\"><span class=\"strut\" style=\"height: 0.7944em; vertical-align: -0.15em;\"></span><span class=\"mord\">010</span><span class=\"mord\"><span class=\"mord\">1</span><span class=\"msupsub\"><span class=\"vlist-t vlist-t2\"><span class=\"vlist-r\"><span class=\"vlist\" style=\"height: 0.3011em;\"><span style=\"top: -2.55em; margin-left: 0em; margin-right: 0.05em;\"><span class=\"pstrut\" style=\"height: 2.7em;\"></span><span class=\"sizing reset-size6 size3 mtight\"><span class=\"mord mtight\"><span class=\"mord mtight\">2</span></span></span></span></span><span class=\"vlist-s\">&ZeroWidthSpace;</span></span><span class=\"vlist-r\"><span class=\"vlist\" style=\"height: 0.15em;\"><span></span></span></span></span></span></span><span class=\"mspace\" style=\"margin-right: 0.2778em;\"></span><span class=\"mrel\">=</span><span class=\"mspace\" style=\"margin-right: 0.2778em;\"></span></span><span class=\"base\"><span class=\"strut\" style=\"height: 0.6444em;\"></span><span class=\"mord\">5</span></span></span></span></span>.</p>\n",
    "<p>Определите наибольшее натуральное число A, при котором выражение</p>\n",
    "<p><span class=\"math math-inline\"><span class=\"katex\"><span class=\"katex-mathml\"><math xmlns=\"http://www.w3.org/1998/Math/MathML\"><semantics><mrow><mo stretchy=\"false\">(</mo><mi>x</mi><mtext>&nbsp;</mtext><mi mathvariant=\"normal\">&amp;</mi><mtext>&nbsp;</mtext><mi>A</mi><mo>=</mo><mn>0</mn><mo stretchy=\"false\">)</mo><mo>∨</mo><mo stretchy=\"false\">(</mo><mo stretchy=\"false\">(</mo><mi>x</mi><mtext>&nbsp;</mtext><mi mathvariant=\"normal\">&amp;</mi><mtext>&nbsp;</mtext><mn>44</mn><mo>=</mo><mn>4</mn><mo stretchy=\"false\">)</mo><mo>→</mo><mo stretchy=\"false\">(</mo><mi>x</mi><mtext>&nbsp;</mtext><mi mathvariant=\"normal\">&amp;</mi><mtext>&nbsp;</mtext><mn>27</mn><mo>=</mo><mn>10</mn><mo stretchy=\"false\">)</mo><mo stretchy=\"false\">)</mo></mrow><annotation encoding=\"application/x-tex\">(x&nbsp;\\&amp;&nbsp;A = 0) \\vee  ((x&nbsp;\\&amp;&nbsp;44= 4) \\to  (x&nbsp;\\&amp;&nbsp;27 = 10))</annotation></semantics></math></span><span class=\"katex-html\" aria-hidden=\"true\"><span class=\"base\"><span class=\"strut\" style=\"height: 1em; vertical-align: -0.25em;\"></span><span class=\"mopen\">(</span><span class=\"mord mathnormal\">x</span><span class=\"mord\">&nbsp;&amp;&nbsp;</span><span class=\"mord mathnormal\">A</span><span class=\"mspace\" style=\"margin-right: 0.2778em;\"></span><span class=\"mrel\">=</span><span class=\"mspace\" style=\"margin-right: 0.2778em;\"></span></span><span class=\"base\"><span class=\"strut\" style=\"height: 1em; vertical-align: -0.25em;\"></span><span class=\"mord\">0</span><span class=\"mclose\">)</span><span class=\"mspace\" style=\"margin-right: 0.2222em;\"></span><span class=\"mbin\">∨</span><span class=\"mspace\" style=\"margin-right: 0.2222em;\"></span></span><span class=\"base\"><span class=\"strut\" style=\"height: 1em; vertical-align: -0.25em;\"></span><span class=\"mopen\">((</span><span class=\"mord mathnormal\">x</span><span class=\"mord\">&nbsp;&amp;&nbsp;44</span><span class=\"mspace\" style=\"margin-right: 0.2778em;\"></span><span class=\"mrel\">=</span><span class=\"mspace\" style=\"margin-right: 0.2778em;\"></span></span><span class=\"base\"><span class=\"strut\" style=\"height: 1em; vertical-align: -0.25em;\"></span><span class=\"mord\">4</span><span class=\"mclose\">)</span><span class=\"mspace\" style=\"margin-right: 0.2778em;\"></span><span class=\"mrel\">→</span><span class=\"mspace\" style=\"margin-right: 0.2778em;\"></span></span><span class=\"base\"><span class=\"strut\" style=\"height: 1em; vertical-align: -0.25em;\"></span><span class=\"mopen\">(</span><span class=\"mord mathnormal\">x</span><span class=\"mord\">&nbsp;&amp;&nbsp;27</span><span class=\"mspace\" style=\"margin-right: 0.2778em;\"></span><span class=\"mrel\">=</span><span class=\"mspace\" style=\"margin-right: 0.2778em;\"></span></span><span class=\"base\"><span class=\"strut\" style=\"height: 1em; vertical-align: -0.25em;\"></span><span class=\"mord\">10</span><span class=\"mclose\">))</span></span></span></span></span></p>\n",
    "<p>тождественно истинно (то есть принимает значение 1 при любом натуральном значении переменной  <em>x</em>).</p></div>"
   ]
  },
  {
   "cell_type": "markdown",
   "metadata": {},
   "source": [
    "<h3><details>\n",
    "\t<summary>Ответ</summary>\n",
    "    40\n",
    "</details></h3>"
   ]
  },
  {
   "cell_type": "markdown",
   "metadata": {},
   "source": [
    "# Задание 11"
   ]
  },
  {
   "cell_type": "markdown",
   "metadata": {},
   "source": [
    "<div class=\"Markdown-module__Markdown--f5ALc TasksBankTaskCard-module__TaskCardContentMarkdown--hsXqP\"><p>Обозначим через m&nbsp;&amp; n&nbsp;поразрядную конъюнкцию неотрицательных целых чисел m&nbsp;и&nbsp;n. Так, например,</p>\n",
    "<p><span class=\"math math-inline\"><span class=\"katex\"><span class=\"katex-mathml\"><math xmlns=\"http://www.w3.org/1998/Math/MathML\"><semantics><mrow><mn>13</mn><mi mathvariant=\"normal\">&amp;</mi><mn>7</mn><mo>=</mo><mn>110</mn><msub><mn>1</mn><mn>2</mn></msub><mi mathvariant=\"normal\">&amp;</mi><mn>011</mn><msub><mn>1</mn><mn>2</mn></msub><mo>=</mo><mn>010</mn><msub><mn>1</mn><mn>2</mn></msub><mo>=</mo><mn>5</mn></mrow><annotation encoding=\"application/x-tex\">13 \\&amp; 7 = 1101_{2} \\&amp; 0111_{2} = 0101_{2} = 5</annotation></semantics></math></span><span class=\"katex-html\" aria-hidden=\"true\"><span class=\"base\"><span class=\"strut\" style=\"height: 0.6944em;\"></span><span class=\"mord\">13&amp;7</span><span class=\"mspace\" style=\"margin-right: 0.2778em;\"></span><span class=\"mrel\">=</span><span class=\"mspace\" style=\"margin-right: 0.2778em;\"></span></span><span class=\"base\"><span class=\"strut\" style=\"height: 0.8444em; vertical-align: -0.15em;\"></span><span class=\"mord\">110</span><span class=\"mord\"><span class=\"mord\">1</span><span class=\"msupsub\"><span class=\"vlist-t vlist-t2\"><span class=\"vlist-r\"><span class=\"vlist\" style=\"height: 0.3011em;\"><span style=\"top: -2.55em; margin-left: 0em; margin-right: 0.05em;\"><span class=\"pstrut\" style=\"height: 2.7em;\"></span><span class=\"sizing reset-size6 size3 mtight\"><span class=\"mord mtight\"><span class=\"mord mtight\">2</span></span></span></span></span><span class=\"vlist-s\">&ZeroWidthSpace;</span></span><span class=\"vlist-r\"><span class=\"vlist\" style=\"height: 0.15em;\"><span></span></span></span></span></span></span><span class=\"mord\">&amp;011</span><span class=\"mord\"><span class=\"mord\">1</span><span class=\"msupsub\"><span class=\"vlist-t vlist-t2\"><span class=\"vlist-r\"><span class=\"vlist\" style=\"height: 0.3011em;\"><span style=\"top: -2.55em; margin-left: 0em; margin-right: 0.05em;\"><span class=\"pstrut\" style=\"height: 2.7em;\"></span><span class=\"sizing reset-size6 size3 mtight\"><span class=\"mord mtight\"><span class=\"mord mtight\">2</span></span></span></span></span><span class=\"vlist-s\">&ZeroWidthSpace;</span></span><span class=\"vlist-r\"><span class=\"vlist\" style=\"height: 0.15em;\"><span></span></span></span></span></span></span><span class=\"mspace\" style=\"margin-right: 0.2778em;\"></span><span class=\"mrel\">=</span><span class=\"mspace\" style=\"margin-right: 0.2778em;\"></span></span><span class=\"base\"><span class=\"strut\" style=\"height: 0.7944em; vertical-align: -0.15em;\"></span><span class=\"mord\">010</span><span class=\"mord\"><span class=\"mord\">1</span><span class=\"msupsub\"><span class=\"vlist-t vlist-t2\"><span class=\"vlist-r\"><span class=\"vlist\" style=\"height: 0.3011em;\"><span style=\"top: -2.55em; margin-left: 0em; margin-right: 0.05em;\"><span class=\"pstrut\" style=\"height: 2.7em;\"></span><span class=\"sizing reset-size6 size3 mtight\"><span class=\"mord mtight\"><span class=\"mord mtight\">2</span></span></span></span></span><span class=\"vlist-s\">&ZeroWidthSpace;</span></span><span class=\"vlist-r\"><span class=\"vlist\" style=\"height: 0.15em;\"><span></span></span></span></span></span></span><span class=\"mspace\" style=\"margin-right: 0.2778em;\"></span><span class=\"mrel\">=</span><span class=\"mspace\" style=\"margin-right: 0.2778em;\"></span></span><span class=\"base\"><span class=\"strut\" style=\"height: 0.6444em;\"></span><span class=\"mord\">5</span></span></span></span></span>.</p>\n",
    "<p>Для какого наименьшего неотрицательного целого числа B&nbsp;формула</p>\n",
    "<p><span class=\"math math-inline\"><span class=\"katex\"><span class=\"katex-mathml\"><math xmlns=\"http://www.w3.org/1998/Math/MathML\"><semantics><mrow><mo stretchy=\"false\">(</mo><mo stretchy=\"false\">(</mo><mi>x</mi><mi mathvariant=\"normal\">&amp;</mi><mn>500</mn><mo mathvariant=\"normal\">≠</mo><mn>0</mn><mo stretchy=\"false\">)</mo><mo>∧</mo><mo stretchy=\"false\">(</mo><mi>x</mi><mi mathvariant=\"normal\">&amp;</mi><mn>200</mn><mo>=</mo><mn>0</mn><mo stretchy=\"false\">)</mo><mo stretchy=\"false\">)</mo><mo>→</mo><mi mathvariant=\"normal\">¬</mi><mo stretchy=\"false\">(</mo><mi>x</mi><mi mathvariant=\"normal\">&amp;</mi><mi>B</mi><mo>=</mo><mn>0</mn><mo stretchy=\"false\">)</mo></mrow><annotation encoding=\"application/x-tex\">((x\\&amp;500 \\neq 0)\\wedge (x\\&amp;200=0))\\to \\neg (x\\&amp;B=0)</annotation></semantics></math></span><span class=\"katex-html\" aria-hidden=\"true\"><span class=\"base\"><span class=\"strut\" style=\"height: 1em; vertical-align: -0.25em;\"></span><span class=\"mopen\">((</span><span class=\"mord mathnormal\">x</span><span class=\"mord\">&amp;500</span><span class=\"mspace\" style=\"margin-right: 0.2778em;\"></span><span class=\"mrel\"><span class=\"mrel\"><span class=\"mord vbox\"><span class=\"thinbox\"><span class=\"rlap\"><span class=\"strut\" style=\"height: 0.8889em; vertical-align: -0.1944em;\"></span><span class=\"inner\"><span class=\"mord\"><span class=\"mrel\"></span></span></span><span class=\"fix\"></span></span></span></span></span><span class=\"mrel\">=</span></span><span class=\"mspace\" style=\"margin-right: 0.2778em;\"></span></span><span class=\"base\"><span class=\"strut\" style=\"height: 1em; vertical-align: -0.25em;\"></span><span class=\"mord\">0</span><span class=\"mclose\">)</span><span class=\"mspace\" style=\"margin-right: 0.2222em;\"></span><span class=\"mbin\">∧</span><span class=\"mspace\" style=\"margin-right: 0.2222em;\"></span></span><span class=\"base\"><span class=\"strut\" style=\"height: 1em; vertical-align: -0.25em;\"></span><span class=\"mopen\">(</span><span class=\"mord mathnormal\">x</span><span class=\"mord\">&amp;200</span><span class=\"mspace\" style=\"margin-right: 0.2778em;\"></span><span class=\"mrel\">=</span><span class=\"mspace\" style=\"margin-right: 0.2778em;\"></span></span><span class=\"base\"><span class=\"strut\" style=\"height: 1em; vertical-align: -0.25em;\"></span><span class=\"mord\">0</span><span class=\"mclose\">))</span><span class=\"mspace\" style=\"margin-right: 0.2778em;\"></span><span class=\"mrel\">→</span><span class=\"mspace\" style=\"margin-right: 0.2778em;\"></span></span><span class=\"base\"><span class=\"strut\" style=\"height: 1em; vertical-align: -0.25em;\"></span><span class=\"mord\">¬</span><span class=\"mopen\">(</span><span class=\"mord mathnormal\">x</span><span class=\"mord\">&amp;</span><span class=\"mord mathnormal\" style=\"margin-right: 0.05017em;\">B</span><span class=\"mspace\" style=\"margin-right: 0.2778em;\"></span><span class=\"mrel\">=</span><span class=\"mspace\" style=\"margin-right: 0.2778em;\"></span></span><span class=\"base\"><span class=\"strut\" style=\"height: 1em; vertical-align: -0.25em;\"></span><span class=\"mord\">0</span><span class=\"mclose\">)</span></span></span></span></span></p>\n",
    "<p>тождественно истинна (т.е. принимает значение 1) при любом неотрицательном целом значении переменной&nbsp;х?</p></div>"
   ]
  },
  {
   "cell_type": "markdown",
   "metadata": {},
   "source": [
    "<h3><details>\n",
    "\t<summary>Ответ</summary>\n",
    "    308\n",
    "</details></h3>"
   ]
  },
  {
   "cell_type": "markdown",
   "metadata": {},
   "source": [
    "# Задание 12"
   ]
  },
  {
   "cell_type": "markdown",
   "metadata": {},
   "source": [
    "<div class=\"Markdown-module__Markdown--f5ALc TasksBankTaskCard-module__TaskCardContentMarkdown--hsXqP\"><p>Введём выражение <em>M&nbsp;&amp; K</em>, обозначающее поразрядную конъюнкцию <em>M</em>&nbsp;и&nbsp;<em>K</em>&nbsp;(логическое «И» между соответствующими битами двоичной записи). Так, например,</p>\n",
    "<p><span class=\"math math-inline\"><span class=\"katex\"><span class=\"katex-mathml\"><math xmlns=\"http://www.w3.org/1998/Math/MathML\"><semantics><mrow><mn>14</mn><mtext>&nbsp;</mtext><mi mathvariant=\"normal\">&amp;</mi><mtext>&nbsp;</mtext><mn>5</mn><mo>=</mo><mn>111</mn><msub><mn>0</mn><mn>2</mn></msub><mtext>&nbsp;</mtext><mi mathvariant=\"normal\">&amp;</mi><mtext>&nbsp;</mtext><mn>010</mn><msub><mn>1</mn><mn>2</mn></msub><mo>=</mo><mn>010</mn><msub><mn>0</mn><mn>2</mn></msub><mo>=</mo><mn>4</mn></mrow><annotation encoding=\"application/x-tex\">14&nbsp;\\&amp;&nbsp;5 = 1110_{2}&nbsp;\\&amp;&nbsp;0101_{2} = 0100_{2} = 4</annotation></semantics></math></span><span class=\"katex-html\" aria-hidden=\"true\"><span class=\"base\"><span class=\"strut\" style=\"height: 0.6944em;\"></span><span class=\"mord\">14&nbsp;&amp;&nbsp;5</span><span class=\"mspace\" style=\"margin-right: 0.2778em;\"></span><span class=\"mrel\">=</span><span class=\"mspace\" style=\"margin-right: 0.2778em;\"></span></span><span class=\"base\"><span class=\"strut\" style=\"height: 0.8444em; vertical-align: -0.15em;\"></span><span class=\"mord\">111</span><span class=\"mord\"><span class=\"mord\">0</span><span class=\"msupsub\"><span class=\"vlist-t vlist-t2\"><span class=\"vlist-r\"><span class=\"vlist\" style=\"height: 0.3011em;\"><span style=\"top: -2.55em; margin-left: 0em; margin-right: 0.05em;\"><span class=\"pstrut\" style=\"height: 2.7em;\"></span><span class=\"sizing reset-size6 size3 mtight\"><span class=\"mord mtight\"><span class=\"mord mtight\">2</span></span></span></span></span><span class=\"vlist-s\">&ZeroWidthSpace;</span></span><span class=\"vlist-r\"><span class=\"vlist\" style=\"height: 0.15em;\"><span></span></span></span></span></span></span><span class=\"mord\">&nbsp;&amp;&nbsp;010</span><span class=\"mord\"><span class=\"mord\">1</span><span class=\"msupsub\"><span class=\"vlist-t vlist-t2\"><span class=\"vlist-r\"><span class=\"vlist\" style=\"height: 0.3011em;\"><span style=\"top: -2.55em; margin-left: 0em; margin-right: 0.05em;\"><span class=\"pstrut\" style=\"height: 2.7em;\"></span><span class=\"sizing reset-size6 size3 mtight\"><span class=\"mord mtight\"><span class=\"mord mtight\">2</span></span></span></span></span><span class=\"vlist-s\">&ZeroWidthSpace;</span></span><span class=\"vlist-r\"><span class=\"vlist\" style=\"height: 0.15em;\"><span></span></span></span></span></span></span><span class=\"mspace\" style=\"margin-right: 0.2778em;\"></span><span class=\"mrel\">=</span><span class=\"mspace\" style=\"margin-right: 0.2778em;\"></span></span><span class=\"base\"><span class=\"strut\" style=\"height: 0.7944em; vertical-align: -0.15em;\"></span><span class=\"mord\">010</span><span class=\"mord\"><span class=\"mord\">0</span><span class=\"msupsub\"><span class=\"vlist-t vlist-t2\"><span class=\"vlist-r\"><span class=\"vlist\" style=\"height: 0.3011em;\"><span style=\"top: -2.55em; margin-left: 0em; margin-right: 0.05em;\"><span class=\"pstrut\" style=\"height: 2.7em;\"></span><span class=\"sizing reset-size6 size3 mtight\"><span class=\"mord mtight\"><span class=\"mord mtight\">2</span></span></span></span></span><span class=\"vlist-s\">&ZeroWidthSpace;</span></span><span class=\"vlist-r\"><span class=\"vlist\" style=\"height: 0.15em;\"><span></span></span></span></span></span></span><span class=\"mspace\" style=\"margin-right: 0.2778em;\"></span><span class=\"mrel\">=</span><span class=\"mspace\" style=\"margin-right: 0.2778em;\"></span></span><span class=\"base\"><span class=\"strut\" style=\"height: 0.6444em;\"></span><span class=\"mord\">4</span></span></span></span></span>.</p>\n",
    "<p>Определите количество натуральных чисел <em>a</em>, таких что выражение</p>\n",
    "<p><span class=\"math math-inline\"><span class=\"katex\"><span class=\"katex-mathml\"><math xmlns=\"http://www.w3.org/1998/Math/MathML\"><semantics><mrow><mo stretchy=\"false\">(</mo><mi>x</mi><mtext>&nbsp;</mtext><mi mathvariant=\"normal\">&amp;</mi><mtext>&nbsp;</mtext><mn>13</mn><mo>=</mo><mn>0</mn><mo stretchy=\"false\">)</mo><mo>∧</mo><mo stretchy=\"false\">(</mo><mi>x</mi><mtext>&nbsp;</mtext><mi mathvariant=\"normal\">&amp;</mi><mtext>&nbsp;</mtext><mn>18</mn><mo mathvariant=\"normal\">≠</mo><mn>0</mn><mo stretchy=\"false\">)</mo><mo>∨</mo><mo stretchy=\"false\">(</mo><mo stretchy=\"false\">(</mo><mi>x</mi><mtext>&nbsp;</mtext><mi mathvariant=\"normal\">&amp;</mi><mtext>&nbsp;</mtext><mn>21</mn><mo>=</mo><mn>0</mn><mo stretchy=\"false\">)</mo><mo>→</mo><mo stretchy=\"false\">(</mo><mo stretchy=\"false\">(</mo><mi>x</mi><mtext>&nbsp;</mtext><mi mathvariant=\"normal\">&amp;</mi><mtext>&nbsp;</mtext><mi>a</mi><mo>=</mo><mn>0</mn><mo stretchy=\"false\">)</mo><mo>∧</mo><mo stretchy=\"false\">(</mo><mi>x</mi><mtext>&nbsp;</mtext><mi mathvariant=\"normal\">&amp;</mi><mtext>&nbsp;</mtext><mn>21</mn><mo>=</mo><mn>0</mn><mo stretchy=\"false\">)</mo><mo stretchy=\"false\">)</mo><mo stretchy=\"false\">)</mo></mrow><annotation encoding=\"application/x-tex\">(x&nbsp;\\&amp;&nbsp;13 = 0) ∧ (x&nbsp;\\&amp;&nbsp;18 \\neq 0) \\vee ((x&nbsp;\\&amp;&nbsp;21 = 0) \\to ((x&nbsp;\\&amp;&nbsp;a = 0) ∧ (x&nbsp;\\&amp;&nbsp;21 = 0)))</annotation></semantics></math></span><span class=\"katex-html\" aria-hidden=\"true\"><span class=\"base\"><span class=\"strut\" style=\"height: 1em; vertical-align: -0.25em;\"></span><span class=\"mopen\">(</span><span class=\"mord mathnormal\">x</span><span class=\"mord\">&nbsp;&amp;&nbsp;13</span><span class=\"mspace\" style=\"margin-right: 0.2778em;\"></span><span class=\"mrel\">=</span><span class=\"mspace\" style=\"margin-right: 0.2778em;\"></span></span><span class=\"base\"><span class=\"strut\" style=\"height: 1em; vertical-align: -0.25em;\"></span><span class=\"mord\">0</span><span class=\"mclose\">)</span><span class=\"mspace\" style=\"margin-right: 0.2222em;\"></span><span class=\"mbin\">∧</span><span class=\"mspace\" style=\"margin-right: 0.2222em;\"></span></span><span class=\"base\"><span class=\"strut\" style=\"height: 1em; vertical-align: -0.25em;\"></span><span class=\"mopen\">(</span><span class=\"mord mathnormal\">x</span><span class=\"mord\">&nbsp;&amp;&nbsp;18</span><span class=\"mspace\" style=\"margin-right: 0.2778em;\"></span><span class=\"mrel\"><span class=\"mrel\"><span class=\"mord vbox\"><span class=\"thinbox\"><span class=\"rlap\"><span class=\"strut\" style=\"height: 0.8889em; vertical-align: -0.1944em;\"></span><span class=\"inner\"><span class=\"mord\"><span class=\"mrel\"></span></span></span><span class=\"fix\"></span></span></span></span></span><span class=\"mrel\">=</span></span><span class=\"mspace\" style=\"margin-right: 0.2778em;\"></span></span><span class=\"base\"><span class=\"strut\" style=\"height: 1em; vertical-align: -0.25em;\"></span><span class=\"mord\">0</span><span class=\"mclose\">)</span><span class=\"mspace\" style=\"margin-right: 0.2222em;\"></span><span class=\"mbin\">∨</span><span class=\"mspace\" style=\"margin-right: 0.2222em;\"></span></span><span class=\"base\"><span class=\"strut\" style=\"height: 1em; vertical-align: -0.25em;\"></span><span class=\"mopen\">((</span><span class=\"mord mathnormal\">x</span><span class=\"mord\">&nbsp;&amp;&nbsp;21</span><span class=\"mspace\" style=\"margin-right: 0.2778em;\"></span><span class=\"mrel\">=</span><span class=\"mspace\" style=\"margin-right: 0.2778em;\"></span></span><span class=\"base\"><span class=\"strut\" style=\"height: 1em; vertical-align: -0.25em;\"></span><span class=\"mord\">0</span><span class=\"mclose\">)</span><span class=\"mspace\" style=\"margin-right: 0.2778em;\"></span><span class=\"mrel\">→</span><span class=\"mspace\" style=\"margin-right: 0.2778em;\"></span></span><span class=\"base\"><span class=\"strut\" style=\"height: 1em; vertical-align: -0.25em;\"></span><span class=\"mopen\">((</span><span class=\"mord mathnormal\">x</span><span class=\"mord\">&nbsp;&amp;&nbsp;</span><span class=\"mord mathnormal\">a</span><span class=\"mspace\" style=\"margin-right: 0.2778em;\"></span><span class=\"mrel\">=</span><span class=\"mspace\" style=\"margin-right: 0.2778em;\"></span></span><span class=\"base\"><span class=\"strut\" style=\"height: 1em; vertical-align: -0.25em;\"></span><span class=\"mord\">0</span><span class=\"mclose\">)</span><span class=\"mspace\" style=\"margin-right: 0.2222em;\"></span><span class=\"mbin\">∧</span><span class=\"mspace\" style=\"margin-right: 0.2222em;\"></span></span><span class=\"base\"><span class=\"strut\" style=\"height: 1em; vertical-align: -0.25em;\"></span><span class=\"mopen\">(</span><span class=\"mord mathnormal\">x</span><span class=\"mord\">&nbsp;&amp;&nbsp;21</span><span class=\"mspace\" style=\"margin-right: 0.2778em;\"></span><span class=\"mrel\">=</span><span class=\"mspace\" style=\"margin-right: 0.2778em;\"></span></span><span class=\"base\"><span class=\"strut\" style=\"height: 1em; vertical-align: -0.25em;\"></span><span class=\"mord\">0</span><span class=\"mclose\">)))</span></span></span></span></span></p>\n",
    "<p>тождественно истинно, то есть принимает значение 1, при любом неотрицательном целом значении переменной <em>х</em>.</p></div>"
   ]
  },
  {
   "cell_type": "code",
   "execution_count": 45,
   "metadata": {},
   "outputs": [
    {
     "name": "stdout",
     "output_type": "stream",
     "text": [
      "1\n",
      "4\n",
      "5\n",
      "16\n",
      "17\n",
      "20\n",
      "21\n"
     ]
    }
   ],
   "source": [
    "a = 5\n",
    "for a in range(1, 100):\n",
    "    f = 1\n",
    "    for x in range(100):\n",
    "        if not (((x & 13) == 0 and (x & 18) != 0) or (((x & 21) == 0) <= ((x & a) == 0 and (x & 21) == 0))):\n",
    "            f = 0\n",
    "            # print(x)\n",
    "    if f:\n",
    "        print(a)"
   ]
  },
  {
   "cell_type": "markdown",
   "metadata": {},
   "source": [
    "<h3><details>\n",
    "\t<summary>Ответ</summary>\n",
    "    7\n",
    "</details></h3>"
   ]
  },
  {
   "cell_type": "markdown",
   "metadata": {},
   "source": [
    "# Задание 13"
   ]
  },
  {
   "cell_type": "markdown",
   "metadata": {},
   "source": [
    "<div class=\"Markdown-module__Markdown--f5ALc TasksBankTaskCard-module__TaskCardContentMarkdown--hsXqP\"><p>Для какого наименьшего целого неотрицательного числа <em>A</em> выражение</p>\n",
    "<p><span class=\"math math-inline\"><span class=\"katex\"><span class=\"katex-mathml\"><math xmlns=\"http://www.w3.org/1998/Math/MathML\"><semantics><mrow><mo stretchy=\"false\">(</mo><mn>3</mn><mi>x</mi><mo>+</mo><mi>y</mi><mo>&gt;</mo><mi>A</mi><mo stretchy=\"false\">)</mo><mo>∧</mo><mo stretchy=\"false\">(</mo><mi>y</mi><mo>&lt;</mo><mi>x</mi><mo stretchy=\"false\">)</mo><mo>∧</mo><mo stretchy=\"false\">(</mo><mi>x</mi><mo>&lt;</mo><mn>30</mn><mo stretchy=\"false\">)</mo></mrow><annotation encoding=\"application/x-tex\">(3x + y &gt; A) \\land (y &lt; x) \\land (x &lt; 30)</annotation></semantics></math></span><span class=\"katex-html\" aria-hidden=\"true\"><span class=\"base\"><span class=\"strut\" style=\"height: 1em; vertical-align: -0.25em;\"></span><span class=\"mopen\">(</span><span class=\"mord\">3</span><span class=\"mord mathnormal\">x</span><span class=\"mspace\" style=\"margin-right: 0.2222em;\"></span><span class=\"mbin\">+</span><span class=\"mspace\" style=\"margin-right: 0.2222em;\"></span></span><span class=\"base\"><span class=\"strut\" style=\"height: 0.7335em; vertical-align: -0.1944em;\"></span><span class=\"mord mathnormal\" style=\"margin-right: 0.03588em;\">y</span><span class=\"mspace\" style=\"margin-right: 0.2778em;\"></span><span class=\"mrel\">&gt;</span><span class=\"mspace\" style=\"margin-right: 0.2778em;\"></span></span><span class=\"base\"><span class=\"strut\" style=\"height: 1em; vertical-align: -0.25em;\"></span><span class=\"mord mathnormal\">A</span><span class=\"mclose\">)</span><span class=\"mspace\" style=\"margin-right: 0.2222em;\"></span><span class=\"mbin\">∧</span><span class=\"mspace\" style=\"margin-right: 0.2222em;\"></span></span><span class=\"base\"><span class=\"strut\" style=\"height: 1em; vertical-align: -0.25em;\"></span><span class=\"mopen\">(</span><span class=\"mord mathnormal\" style=\"margin-right: 0.03588em;\">y</span><span class=\"mspace\" style=\"margin-right: 0.2778em;\"></span><span class=\"mrel\">&lt;</span><span class=\"mspace\" style=\"margin-right: 0.2778em;\"></span></span><span class=\"base\"><span class=\"strut\" style=\"height: 1em; vertical-align: -0.25em;\"></span><span class=\"mord mathnormal\">x</span><span class=\"mclose\">)</span><span class=\"mspace\" style=\"margin-right: 0.2222em;\"></span><span class=\"mbin\">∧</span><span class=\"mspace\" style=\"margin-right: 0.2222em;\"></span></span><span class=\"base\"><span class=\"strut\" style=\"height: 1em; vertical-align: -0.25em;\"></span><span class=\"mopen\">(</span><span class=\"mord mathnormal\">x</span><span class=\"mspace\" style=\"margin-right: 0.2778em;\"></span><span class=\"mrel\">&lt;</span><span class=\"mspace\" style=\"margin-right: 0.2778em;\"></span></span><span class=\"base\"><span class=\"strut\" style=\"height: 1em; vertical-align: -0.25em;\"></span><span class=\"mord\">30</span><span class=\"mclose\">)</span></span></span></span></span></p>\n",
    "<p>тождественно ложно, т. е. принимает значение 0 при любых целых неотрицательных <em>x</em> и <em>y</em>?</p></div>"
   ]
  },
  {
   "cell_type": "code",
   "execution_count": null,
   "metadata": {},
   "outputs": [],
   "source": [
    "(3 * x + y > A) and (y < x) and (x < 30)"
   ]
  },
  {
   "cell_type": "markdown",
   "metadata": {},
   "source": [
    "<h3><details>\n",
    "\t<summary>Ответ</summary>\n",
    "    115\n",
    "</details></h3>"
   ]
  },
  {
   "cell_type": "markdown",
   "metadata": {},
   "source": [
    "# Задание 14"
   ]
  },
  {
   "cell_type": "markdown",
   "metadata": {},
   "source": [
    "<div class=\"Markdown-module__Markdown--f5ALc TasksBankTaskCard-module__TaskCardContentMarkdown--hsXqP\"><p>Для какого наименьшего натурального числа А формула</p>\n",
    "<p><span class=\"math math-inline\"><span class=\"katex\"><span class=\"katex-mathml\"><math xmlns=\"http://www.w3.org/1998/Math/MathML\"><semantics><mrow><mi mathvariant=\"normal\">¬</mi><mo stretchy=\"false\">(</mo><mo stretchy=\"false\">(</mo><mi>x</mi><mo>+</mo><mn>5</mn><mo>&lt;</mo><mi>A</mi><mo stretchy=\"false\">)</mo><mo>→</mo><mo stretchy=\"false\">(</mo><mi>y</mi><mo>&gt;</mo><mi>A</mi><mo stretchy=\"false\">)</mo><mo stretchy=\"false\">)</mo><mo>∨</mo><mo stretchy=\"false\">(</mo><mi>x</mi><mo>∗</mo><mi>y</mi><mo>≥</mo><mn>76</mn><mo stretchy=\"false\">)</mo></mrow><annotation encoding=\"application/x-tex\">\\neg ((x + 5 &lt; A) \\to  (y &gt; A)) ∨ (x * y \\ge  76)</annotation></semantics></math></span><span class=\"katex-html\" aria-hidden=\"true\"><span class=\"base\"><span class=\"strut\" style=\"height: 1em; vertical-align: -0.25em;\"></span><span class=\"mord\">¬</span><span class=\"mopen\">((</span><span class=\"mord mathnormal\">x</span><span class=\"mspace\" style=\"margin-right: 0.2222em;\"></span><span class=\"mbin\">+</span><span class=\"mspace\" style=\"margin-right: 0.2222em;\"></span></span><span class=\"base\"><span class=\"strut\" style=\"height: 0.6835em; vertical-align: -0.0391em;\"></span><span class=\"mord\">5</span><span class=\"mspace\" style=\"margin-right: 0.2778em;\"></span><span class=\"mrel\">&lt;</span><span class=\"mspace\" style=\"margin-right: 0.2778em;\"></span></span><span class=\"base\"><span class=\"strut\" style=\"height: 1em; vertical-align: -0.25em;\"></span><span class=\"mord mathnormal\">A</span><span class=\"mclose\">)</span><span class=\"mspace\" style=\"margin-right: 0.2778em;\"></span><span class=\"mrel\">→</span><span class=\"mspace\" style=\"margin-right: 0.2778em;\"></span></span><span class=\"base\"><span class=\"strut\" style=\"height: 1em; vertical-align: -0.25em;\"></span><span class=\"mopen\">(</span><span class=\"mord mathnormal\" style=\"margin-right: 0.03588em;\">y</span><span class=\"mspace\" style=\"margin-right: 0.2778em;\"></span><span class=\"mrel\">&gt;</span><span class=\"mspace\" style=\"margin-right: 0.2778em;\"></span></span><span class=\"base\"><span class=\"strut\" style=\"height: 1em; vertical-align: -0.25em;\"></span><span class=\"mord mathnormal\">A</span><span class=\"mclose\">))</span><span class=\"mspace\" style=\"margin-right: 0.2222em;\"></span><span class=\"mbin\">∨</span><span class=\"mspace\" style=\"margin-right: 0.2222em;\"></span></span><span class=\"base\"><span class=\"strut\" style=\"height: 1em; vertical-align: -0.25em;\"></span><span class=\"mopen\">(</span><span class=\"mord mathnormal\">x</span><span class=\"mspace\" style=\"margin-right: 0.2222em;\"></span><span class=\"mbin\">∗</span><span class=\"mspace\" style=\"margin-right: 0.2222em;\"></span></span><span class=\"base\"><span class=\"strut\" style=\"height: 0.8304em; vertical-align: -0.1944em;\"></span><span class=\"mord mathnormal\" style=\"margin-right: 0.03588em;\">y</span><span class=\"mspace\" style=\"margin-right: 0.2778em;\"></span><span class=\"mrel\">≥</span><span class=\"mspace\" style=\"margin-right: 0.2778em;\"></span></span><span class=\"base\"><span class=\"strut\" style=\"height: 1em; vertical-align: -0.25em;\"></span><span class=\"mord\">76</span><span class=\"mclose\">)</span></span></span></span></span></p>\n",
    "<p>тождественно истинна (т.е. принимает значение 1) при любых натуральных значениях переменных х и y?</p></div>"
   ]
  },
  {
   "cell_type": "code",
   "execution_count": null,
   "metadata": {},
   "outputs": [],
   "source": [
    "not ((x + 5 < A) <= (y > A)) or (x * y >= 76)\n"
   ]
  },
  {
   "cell_type": "markdown",
   "metadata": {},
   "source": [
    "<h3><details>\n",
    "\t<summary>Ответ</summary>\n",
    "    81\n",
    "</details></h3>"
   ]
  },
  {
   "cell_type": "markdown",
   "metadata": {},
   "source": [
    "# Задание 15"
   ]
  },
  {
   "cell_type": "markdown",
   "metadata": {},
   "source": [
    "<div class=\"Markdown-module__Markdown--f5ALc TasksBankTaskCard-module__TaskCardContentMarkdown--hsXqP\"><p>Для какого <strong>наименьшего</strong> целого неотрицательного числа <em>А</em> логическое выражение</p>\n",
    "<p><span class=\"math math-inline\"><span class=\"katex\"><span class=\"katex-mathml\"><math xmlns=\"http://www.w3.org/1998/Math/MathML\"><semantics><mrow><mo stretchy=\"false\">(</mo><mi>x</mi><mo>≥</mo><mn>12</mn><mo stretchy=\"false\">)</mo><mo>∨</mo><mo stretchy=\"false\">(</mo><mn>3</mn><mi>x</mi><mo>&lt;</mo><mi>y</mi><mo stretchy=\"false\">)</mo><mo>∨</mo><mo stretchy=\"false\">(</mo><mi>x</mi><mi>y</mi><mo>&lt;</mo><mi>A</mi><mo stretchy=\"false\">)</mo></mrow><annotation encoding=\"application/x-tex\">(x\\ge 12) \\vee  (3x &lt; y) \\vee  (xy &lt;A)</annotation></semantics></math></span><span class=\"katex-html\" aria-hidden=\"true\"><span class=\"base\"><span class=\"strut\" style=\"height: 1em; vertical-align: -0.25em;\"></span><span class=\"mopen\">(</span><span class=\"mord mathnormal\">x</span><span class=\"mspace\" style=\"margin-right: 0.2778em;\"></span><span class=\"mrel\">≥</span><span class=\"mspace\" style=\"margin-right: 0.2778em;\"></span></span><span class=\"base\"><span class=\"strut\" style=\"height: 1em; vertical-align: -0.25em;\"></span><span class=\"mord\">12</span><span class=\"mclose\">)</span><span class=\"mspace\" style=\"margin-right: 0.2222em;\"></span><span class=\"mbin\">∨</span><span class=\"mspace\" style=\"margin-right: 0.2222em;\"></span></span><span class=\"base\"><span class=\"strut\" style=\"height: 1em; vertical-align: -0.25em;\"></span><span class=\"mopen\">(</span><span class=\"mord\">3</span><span class=\"mord mathnormal\">x</span><span class=\"mspace\" style=\"margin-right: 0.2778em;\"></span><span class=\"mrel\">&lt;</span><span class=\"mspace\" style=\"margin-right: 0.2778em;\"></span></span><span class=\"base\"><span class=\"strut\" style=\"height: 1em; vertical-align: -0.25em;\"></span><span class=\"mord mathnormal\" style=\"margin-right: 0.03588em;\">y</span><span class=\"mclose\">)</span><span class=\"mspace\" style=\"margin-right: 0.2222em;\"></span><span class=\"mbin\">∨</span><span class=\"mspace\" style=\"margin-right: 0.2222em;\"></span></span><span class=\"base\"><span class=\"strut\" style=\"height: 1em; vertical-align: -0.25em;\"></span><span class=\"mopen\">(</span><span class=\"mord mathnormal\">x</span><span class=\"mord mathnormal\" style=\"margin-right: 0.03588em;\">y</span><span class=\"mspace\" style=\"margin-right: 0.2778em;\"></span><span class=\"mrel\">&lt;</span><span class=\"mspace\" style=\"margin-right: 0.2778em;\"></span></span><span class=\"base\"><span class=\"strut\" style=\"height: 1em; vertical-align: -0.25em;\"></span><span class=\"mord mathnormal\">A</span><span class=\"mclose\">)</span></span></span></span></span></p>\n",
    "<p>тождественно истинно (т.е. принимает значение 1) при любых целых неотрицательных <em>x</em> и <em>y</em>?</p></div>"
   ]
  },
  {
   "cell_type": "markdown",
   "metadata": {},
   "source": [
    "<h3><details>\n",
    "\t<summary>Ответ</summary>\n",
    "    364\n",
    "</details></h3>"
   ]
  },
  {
   "cell_type": "markdown",
   "metadata": {},
   "source": [
    "# Задание 16"
   ]
  },
  {
   "cell_type": "markdown",
   "metadata": {},
   "source": [
    "<div class=\"Markdown-module__Markdown--f5ALc TasksBankTaskCard-module__TaskCardContentMarkdown--hsXqP\"><p>Найдите минимальное целое значение параметра <span class=\"math math-inline\"><span class=\"katex\"><span class=\"katex-mathml\"><math xmlns=\"http://www.w3.org/1998/Math/MathML\"><semantics><mrow><mtext>А</mtext></mrow><annotation encoding=\"application/x-tex\">А</annotation></semantics></math></span><span class=\"katex-html\" aria-hidden=\"true\"><span class=\"base\"><span class=\"strut\" style=\"height: 0.6833em;\"></span><span class=\"mord cyrillic_fallback\">А</span></span></span></span></span>, при котором выражение</p>\n",
    "<p><span class=\"math math-inline\"><span class=\"katex\"><span class=\"katex-mathml\"><math xmlns=\"http://www.w3.org/1998/Math/MathML\"><semantics><mrow><mo stretchy=\"false\">(</mo><mn>3</mn><mi>x</mi><mo>+</mo><mn>4</mn><mi>y</mi><mo mathvariant=\"normal\">≠</mo><mn>101</mn><mo stretchy=\"false\">)</mo><mo>∨</mo><mo stretchy=\"false\">(</mo><mi>x</mi><mo>&lt;</mo><mi>A</mi><mo stretchy=\"false\">)</mo><mo>∨</mo><mo stretchy=\"false\">(</mo><mn>3</mn><mi>y</mi><mo>≤</mo><mi>A</mi><mo stretchy=\"false\">)</mo></mrow><annotation encoding=\"application/x-tex\">(3x + 4y\\neq 101) \\vee (x &lt; A) \\vee (3y \\le A)</annotation></semantics></math></span><span class=\"katex-html\" aria-hidden=\"true\"><span class=\"base\"><span class=\"strut\" style=\"height: 1em; vertical-align: -0.25em;\"></span><span class=\"mopen\">(</span><span class=\"mord\">3</span><span class=\"mord mathnormal\">x</span><span class=\"mspace\" style=\"margin-right: 0.2222em;\"></span><span class=\"mbin\">+</span><span class=\"mspace\" style=\"margin-right: 0.2222em;\"></span></span><span class=\"base\"><span class=\"strut\" style=\"height: 0.8889em; vertical-align: -0.1944em;\"></span><span class=\"mord\">4</span><span class=\"mord mathnormal\" style=\"margin-right: 0.03588em;\">y</span><span class=\"mspace\" style=\"margin-right: 0.2778em;\"></span><span class=\"mrel\"><span class=\"mrel\"><span class=\"mord vbox\"><span class=\"thinbox\"><span class=\"rlap\"><span class=\"strut\" style=\"height: 0.8889em; vertical-align: -0.1944em;\"></span><span class=\"inner\"><span class=\"mord\"><span class=\"mrel\"></span></span></span><span class=\"fix\"></span></span></span></span></span><span class=\"mrel\">=</span></span><span class=\"mspace\" style=\"margin-right: 0.2778em;\"></span></span><span class=\"base\"><span class=\"strut\" style=\"height: 1em; vertical-align: -0.25em;\"></span><span class=\"mord\">101</span><span class=\"mclose\">)</span><span class=\"mspace\" style=\"margin-right: 0.2222em;\"></span><span class=\"mbin\">∨</span><span class=\"mspace\" style=\"margin-right: 0.2222em;\"></span></span><span class=\"base\"><span class=\"strut\" style=\"height: 1em; vertical-align: -0.25em;\"></span><span class=\"mopen\">(</span><span class=\"mord mathnormal\">x</span><span class=\"mspace\" style=\"margin-right: 0.2778em;\"></span><span class=\"mrel\">&lt;</span><span class=\"mspace\" style=\"margin-right: 0.2778em;\"></span></span><span class=\"base\"><span class=\"strut\" style=\"height: 1em; vertical-align: -0.25em;\"></span><span class=\"mord mathnormal\">A</span><span class=\"mclose\">)</span><span class=\"mspace\" style=\"margin-right: 0.2222em;\"></span><span class=\"mbin\">∨</span><span class=\"mspace\" style=\"margin-right: 0.2222em;\"></span></span><span class=\"base\"><span class=\"strut\" style=\"height: 1em; vertical-align: -0.25em;\"></span><span class=\"mopen\">(</span><span class=\"mord\">3</span><span class=\"mord mathnormal\" style=\"margin-right: 0.03588em;\">y</span><span class=\"mspace\" style=\"margin-right: 0.2778em;\"></span><span class=\"mrel\">≤</span><span class=\"mspace\" style=\"margin-right: 0.2778em;\"></span></span><span class=\"base\"><span class=\"strut\" style=\"height: 1em; vertical-align: -0.25em;\"></span><span class=\"mord mathnormal\">A</span><span class=\"mclose\">)</span></span></span></span></span></p>\n",
    "<p>истинно для любых целых положительных значений x и y.</p></div>"
   ]
  },
  {
   "cell_type": "markdown",
   "metadata": {},
   "source": [
    "<h3><details>\n",
    "\t<summary>Ответ</summary>\n",
    "    24\n",
    "</details></h3>"
   ]
  },
  {
   "cell_type": "markdown",
   "metadata": {},
   "source": [
    "# Задание 17"
   ]
  },
  {
   "cell_type": "markdown",
   "metadata": {},
   "source": [
    "<div class=\"Markdown-module__Markdown--f5ALc TasksBankTaskCard-module__TaskCardContentMarkdown--hsXqP\"><p>Обозначим через <strong>ДЕЛ(<em>n, m</em>)</strong> утверждение «натуральное число <em>n</em> делится без остатка на натуральное число <em>m</em>». Для какого наибольшего натурального числа <em>А</em> логическое выражение</p>\n",
    "<p><span class=\"math math-inline\"><span class=\"katex\"><span class=\"katex-mathml\"><math xmlns=\"http://www.w3.org/1998/Math/MathML\"><semantics><mrow><mi mathvariant=\"normal\">¬</mi><mtext>ДЕЛ</mtext><mo stretchy=\"false\">(</mo><mi>x</mi><mo separator=\"true\">,</mo><mtext>А</mtext><mo stretchy=\"false\">)</mo><mo>→</mo><mo stretchy=\"false\">(</mo><mtext>ДЕЛ</mtext><mo stretchy=\"false\">(</mo><mi>x</mi><mo separator=\"true\">,</mo><mn>12</mn><mo stretchy=\"false\">)</mo><mo>→</mo><mi mathvariant=\"normal\">¬</mi><mtext>ДЕЛ</mtext><mo stretchy=\"false\">(</mo><mi>x</mi><mo separator=\"true\">,</mo><mn>14</mn><mo stretchy=\"false\">)</mo><mo stretchy=\"false\">)</mo></mrow><annotation encoding=\"application/x-tex\">\\neg ДЕЛ(x, А)\\to (ДЕЛ(x, 12)\\to  \\neg ДЕЛ(x, 14))</annotation></semantics></math></span><span class=\"katex-html\" aria-hidden=\"true\"><span class=\"base\"><span class=\"strut\" style=\"height: 1em; vertical-align: -0.25em;\"></span><span class=\"mord\">¬</span><span class=\"mord cyrillic_fallback\">ДЕЛ</span><span class=\"mopen\">(</span><span class=\"mord mathnormal\">x</span><span class=\"mpunct\">,</span><span class=\"mspace\" style=\"margin-right: 0.1667em;\"></span><span class=\"mord cyrillic_fallback\">А</span><span class=\"mclose\">)</span><span class=\"mspace\" style=\"margin-right: 0.2778em;\"></span><span class=\"mrel\">→</span><span class=\"mspace\" style=\"margin-right: 0.2778em;\"></span></span><span class=\"base\"><span class=\"strut\" style=\"height: 1em; vertical-align: -0.25em;\"></span><span class=\"mopen\">(</span><span class=\"mord cyrillic_fallback\">ДЕЛ</span><span class=\"mopen\">(</span><span class=\"mord mathnormal\">x</span><span class=\"mpunct\">,</span><span class=\"mspace\" style=\"margin-right: 0.1667em;\"></span><span class=\"mord\">12</span><span class=\"mclose\">)</span><span class=\"mspace\" style=\"margin-right: 0.2778em;\"></span><span class=\"mrel\">→</span><span class=\"mspace\" style=\"margin-right: 0.2778em;\"></span></span><span class=\"base\"><span class=\"strut\" style=\"height: 1em; vertical-align: -0.25em;\"></span><span class=\"mord\">¬</span><span class=\"mord cyrillic_fallback\">ДЕЛ</span><span class=\"mopen\">(</span><span class=\"mord mathnormal\">x</span><span class=\"mpunct\">,</span><span class=\"mspace\" style=\"margin-right: 0.1667em;\"></span><span class=\"mord\">14</span><span class=\"mclose\">))</span></span></span></span></span></p>\n",
    "<p>тождественно истинно (т.&nbsp;е. принимает значение 1) при любом неотрицательном целом значении переменной <em>х</em>?</p></div>"
   ]
  },
  {
   "cell_type": "markdown",
   "metadata": {},
   "source": [
    "<h3><details>\n",
    "\t<summary>Ответ</summary>\n",
    "    84\n",
    "</details></h3>"
   ]
  },
  {
   "cell_type": "markdown",
   "metadata": {},
   "source": [
    "# Задание 18"
   ]
  },
  {
   "cell_type": "markdown",
   "metadata": {},
   "source": [
    "<div class=\"Markdown-module__Markdown--f5ALc TasksBankTaskCard-module__TaskCardContentMarkdown--hsXqP\"><p>Обозначим через ДЕЛ(n, m) утверждение «натуральное число n&nbsp;делится без остатка на&nbsp;натуральное число m». Для какого наименьшего натурального числа A&nbsp;формула</p>\n",
    "<p><span class=\"math math-inline\"><span class=\"katex\"><span class=\"katex-mathml\"><math xmlns=\"http://www.w3.org/1998/Math/MathML\"><semantics><mrow><mo stretchy=\"false\">(</mo><mo stretchy=\"false\">(</mo><mtext>ДЕЛ</mtext><mo stretchy=\"false\">(</mo><mi>x</mi><mo separator=\"true\">,</mo><mi>A</mi><mo stretchy=\"false\">)</mo><mo>∧</mo><mtext>ДЕЛ</mtext><mo stretchy=\"false\">(</mo><mi>x</mi><mo separator=\"true\">,</mo><mn>375</mn><mo stretchy=\"false\">)</mo><mo stretchy=\"false\">)</mo><mo>→</mo><mtext>ДЕЛ</mtext><mo stretchy=\"false\">(</mo><mi>x</mi><mo separator=\"true\">,</mo><mn>100</mn><mo stretchy=\"false\">)</mo><mo stretchy=\"false\">)</mo><mo>∧</mo><mo stretchy=\"false\">(</mo><mi>A</mi><mo>&gt;</mo><mn>10</mn><mo stretchy=\"false\">)</mo></mrow><annotation encoding=\"application/x-tex\">((ДЕЛ(x, A) \\wedge ДЕЛ(x, 375)) \\to ДЕЛ(x, 100)) \\wedge ( A &gt; 10)</annotation></semantics></math></span><span class=\"katex-html\" aria-hidden=\"true\"><span class=\"base\"><span class=\"strut\" style=\"height: 1em; vertical-align: -0.25em;\"></span><span class=\"mopen\">((</span><span class=\"mord cyrillic_fallback\">ДЕЛ</span><span class=\"mopen\">(</span><span class=\"mord mathnormal\">x</span><span class=\"mpunct\">,</span><span class=\"mspace\" style=\"margin-right: 0.1667em;\"></span><span class=\"mord mathnormal\">A</span><span class=\"mclose\">)</span><span class=\"mspace\" style=\"margin-right: 0.2222em;\"></span><span class=\"mbin\">∧</span><span class=\"mspace\" style=\"margin-right: 0.2222em;\"></span></span><span class=\"base\"><span class=\"strut\" style=\"height: 1em; vertical-align: -0.25em;\"></span><span class=\"mord cyrillic_fallback\">ДЕЛ</span><span class=\"mopen\">(</span><span class=\"mord mathnormal\">x</span><span class=\"mpunct\">,</span><span class=\"mspace\" style=\"margin-right: 0.1667em;\"></span><span class=\"mord\">375</span><span class=\"mclose\">))</span><span class=\"mspace\" style=\"margin-right: 0.2778em;\"></span><span class=\"mrel\">→</span><span class=\"mspace\" style=\"margin-right: 0.2778em;\"></span></span><span class=\"base\"><span class=\"strut\" style=\"height: 1em; vertical-align: -0.25em;\"></span><span class=\"mord cyrillic_fallback\">ДЕЛ</span><span class=\"mopen\">(</span><span class=\"mord mathnormal\">x</span><span class=\"mpunct\">,</span><span class=\"mspace\" style=\"margin-right: 0.1667em;\"></span><span class=\"mord\">100</span><span class=\"mclose\">))</span><span class=\"mspace\" style=\"margin-right: 0.2222em;\"></span><span class=\"mbin\">∧</span><span class=\"mspace\" style=\"margin-right: 0.2222em;\"></span></span><span class=\"base\"><span class=\"strut\" style=\"height: 1em; vertical-align: -0.25em;\"></span><span class=\"mopen\">(</span><span class=\"mord mathnormal\">A</span><span class=\"mspace\" style=\"margin-right: 0.2778em;\"></span><span class=\"mrel\">&gt;</span><span class=\"mspace\" style=\"margin-right: 0.2778em;\"></span></span><span class=\"base\"><span class=\"strut\" style=\"height: 1em; vertical-align: -0.25em;\"></span><span class=\"mord\">10</span><span class=\"mclose\">)</span></span></span></span></span></p>\n",
    "<p>тождественно истинна (то&nbsp;есть принимает значение 1 при любом натуральном значении переменной х)?</p></div>"
   ]
  },
  {
   "cell_type": "markdown",
   "metadata": {},
   "source": [
    "<h3><details>\n",
    "\t<summary>Ответ</summary>\n",
    "    12\n",
    "</details></h3>"
   ]
  },
  {
   "cell_type": "markdown",
   "metadata": {},
   "source": [
    "# Задание 19"
   ]
  },
  {
   "cell_type": "markdown",
   "metadata": {},
   "source": [
    "<div class=\"Markdown-module__Markdown--f5ALc TasksBankTaskCard-module__TaskCardContentMarkdown--hsXqP\"><p>Обозначим через ДЕЛ(n, m) утверждение «натуральное число n&nbsp;делится без остатка на&nbsp;натуральное число m». Для какого наибольшего натурального числа A&nbsp;формула</p>\n",
    "<p><span class=\"math math-inline\"><span class=\"katex\"><span class=\"katex-mathml\"><math xmlns=\"http://www.w3.org/1998/Math/MathML\"><semantics><mrow><mo stretchy=\"false\">(</mo><mo stretchy=\"false\">(</mo><mtext>ДЕЛ</mtext><mo stretchy=\"false\">(</mo><mi>x</mi><mo separator=\"true\">,</mo><mn>12</mn><mo stretchy=\"false\">)</mo><mo>∨</mo><mtext>ДЕЛ</mtext><mo stretchy=\"false\">(</mo><mi>x</mi><mo separator=\"true\">,</mo><mn>36</mn><mo stretchy=\"false\">)</mo><mo stretchy=\"false\">)</mo><mo>→</mo><mtext>ДЕЛ</mtext><mo stretchy=\"false\">(</mo><mi>x</mi><mo separator=\"true\">,</mo><mi>A</mi><mo stretchy=\"false\">)</mo><mo stretchy=\"false\">)</mo><mo>∧</mo><mo stretchy=\"false\">(</mo><msup><mi>A</mi><mn>2</mn></msup><mo>−</mo><mi>A</mi><mo>−</mo><mn>90</mn><mo>&lt;</mo><mn>0</mn><mo stretchy=\"false\">)</mo></mrow><annotation encoding=\"application/x-tex\">((ДЕЛ(x, 12) \\vee ДЕЛ(x, 36)) \\to ДЕЛ(x, A)) \\wedge  ( A^{2} - A - 90 &lt; 0)</annotation></semantics></math></span><span class=\"katex-html\" aria-hidden=\"true\"><span class=\"base\"><span class=\"strut\" style=\"height: 1em; vertical-align: -0.25em;\"></span><span class=\"mopen\">((</span><span class=\"mord cyrillic_fallback\">ДЕЛ</span><span class=\"mopen\">(</span><span class=\"mord mathnormal\">x</span><span class=\"mpunct\">,</span><span class=\"mspace\" style=\"margin-right: 0.1667em;\"></span><span class=\"mord\">12</span><span class=\"mclose\">)</span><span class=\"mspace\" style=\"margin-right: 0.2222em;\"></span><span class=\"mbin\">∨</span><span class=\"mspace\" style=\"margin-right: 0.2222em;\"></span></span><span class=\"base\"><span class=\"strut\" style=\"height: 1em; vertical-align: -0.25em;\"></span><span class=\"mord cyrillic_fallback\">ДЕЛ</span><span class=\"mopen\">(</span><span class=\"mord mathnormal\">x</span><span class=\"mpunct\">,</span><span class=\"mspace\" style=\"margin-right: 0.1667em;\"></span><span class=\"mord\">36</span><span class=\"mclose\">))</span><span class=\"mspace\" style=\"margin-right: 0.2778em;\"></span><span class=\"mrel\">→</span><span class=\"mspace\" style=\"margin-right: 0.2778em;\"></span></span><span class=\"base\"><span class=\"strut\" style=\"height: 1em; vertical-align: -0.25em;\"></span><span class=\"mord cyrillic_fallback\">ДЕЛ</span><span class=\"mopen\">(</span><span class=\"mord mathnormal\">x</span><span class=\"mpunct\">,</span><span class=\"mspace\" style=\"margin-right: 0.1667em;\"></span><span class=\"mord mathnormal\">A</span><span class=\"mclose\">))</span><span class=\"mspace\" style=\"margin-right: 0.2222em;\"></span><span class=\"mbin\">∧</span><span class=\"mspace\" style=\"margin-right: 0.2222em;\"></span></span><span class=\"base\"><span class=\"strut\" style=\"height: 1.0641em; vertical-align: -0.25em;\"></span><span class=\"mopen\">(</span><span class=\"mord\"><span class=\"mord mathnormal\">A</span><span class=\"msupsub\"><span class=\"vlist-t\"><span class=\"vlist-r\"><span class=\"vlist\" style=\"height: 0.8141em;\"><span style=\"top: -3.063em; margin-right: 0.05em;\"><span class=\"pstrut\" style=\"height: 2.7em;\"></span><span class=\"sizing reset-size6 size3 mtight\"><span class=\"mord mtight\"><span class=\"mord mtight\">2</span></span></span></span></span></span></span></span></span><span class=\"mspace\" style=\"margin-right: 0.2222em;\"></span><span class=\"mbin\">−</span><span class=\"mspace\" style=\"margin-right: 0.2222em;\"></span></span><span class=\"base\"><span class=\"strut\" style=\"height: 0.7667em; vertical-align: -0.0833em;\"></span><span class=\"mord mathnormal\">A</span><span class=\"mspace\" style=\"margin-right: 0.2222em;\"></span><span class=\"mbin\">−</span><span class=\"mspace\" style=\"margin-right: 0.2222em;\"></span></span><span class=\"base\"><span class=\"strut\" style=\"height: 0.6835em; vertical-align: -0.0391em;\"></span><span class=\"mord\">90</span><span class=\"mspace\" style=\"margin-right: 0.2778em;\"></span><span class=\"mrel\">&lt;</span><span class=\"mspace\" style=\"margin-right: 0.2778em;\"></span></span><span class=\"base\"><span class=\"strut\" style=\"height: 1em; vertical-align: -0.25em;\"></span><span class=\"mord\">0</span><span class=\"mclose\">)</span></span></span></span></span></p>\n",
    "<p>тождественно истинна (то&nbsp;есть принимает значение 1 при любом натуральном значении переменной х)?</p></div>"
   ]
  },
  {
   "cell_type": "markdown",
   "metadata": {},
   "source": [
    "<h3><details>\n",
    "\t<summary>Ответ</summary>\n",
    "    6\n",
    "</details></h3>"
   ]
  },
  {
   "cell_type": "markdown",
   "metadata": {},
   "source": [
    "# Задание 20"
   ]
  },
  {
   "cell_type": "markdown",
   "metadata": {},
   "source": [
    "<div class=\"Markdown-module__Markdown--f5ALc TasksBankTaskCard-module__TaskCardContentMarkdown--hsXqP\"><p>Обозначим через ДЕЛ(х, А) утверждение «х делится на А без остатка». Например, ДЕЛ(21, 3) = ИСТИНА, потому что 21 делится на&nbsp;3 нацело. ДЕЛ(20, 7) = ЛОЖЬ, так&nbsp;как 20 не&nbsp;делится на&nbsp;7 нацело.</p>\n",
    "<p>Найдите минимальное значение А, для которого приведённое выражение истинно, то есть принимает значение&nbsp;1 для любого целого значения х.</p>\n",
    "<p><span class=\"math math-inline\"><span class=\"katex\"><span class=\"katex-mathml\"><math xmlns=\"http://www.w3.org/1998/Math/MathML\"><semantics><mrow><mi mathvariant=\"normal\">¬</mi><mtext>ДЕЛ</mtext><mo stretchy=\"false\">(</mo><mi>x</mi><mo separator=\"true\">,</mo><mi>A</mi><mo stretchy=\"false\">)</mo><mo>∨</mo><mi mathvariant=\"normal\">¬</mi><mtext>ДЕЛ</mtext><mo stretchy=\"false\">(</mo><mi>x</mi><mo separator=\"true\">,</mo><mn>2205</mn><mo stretchy=\"false\">)</mo><mo>∨</mo><mtext>ДЕЛ</mtext><mo stretchy=\"false\">(</mo><mi>x</mi><mo separator=\"true\">,</mo><mn>2800</mn><mo stretchy=\"false\">)</mo></mrow><annotation encoding=\"application/x-tex\">\\neg ДЕЛ(x,A) \\vee \\neg ДЕЛ(x,2205) \\vee ДЕЛ(x,2800)</annotation></semantics></math></span><span class=\"katex-html\" aria-hidden=\"true\"><span class=\"base\"><span class=\"strut\" style=\"height: 1em; vertical-align: -0.25em;\"></span><span class=\"mord\">¬</span><span class=\"mord cyrillic_fallback\">ДЕЛ</span><span class=\"mopen\">(</span><span class=\"mord mathnormal\">x</span><span class=\"mpunct\">,</span><span class=\"mspace\" style=\"margin-right: 0.1667em;\"></span><span class=\"mord mathnormal\">A</span><span class=\"mclose\">)</span><span class=\"mspace\" style=\"margin-right: 0.2222em;\"></span><span class=\"mbin\">∨</span><span class=\"mspace\" style=\"margin-right: 0.2222em;\"></span></span><span class=\"base\"><span class=\"strut\" style=\"height: 1em; vertical-align: -0.25em;\"></span><span class=\"mord\">¬</span><span class=\"mord cyrillic_fallback\">ДЕЛ</span><span class=\"mopen\">(</span><span class=\"mord mathnormal\">x</span><span class=\"mpunct\">,</span><span class=\"mspace\" style=\"margin-right: 0.1667em;\"></span><span class=\"mord\">2205</span><span class=\"mclose\">)</span><span class=\"mspace\" style=\"margin-right: 0.2222em;\"></span><span class=\"mbin\">∨</span><span class=\"mspace\" style=\"margin-right: 0.2222em;\"></span></span><span class=\"base\"><span class=\"strut\" style=\"height: 1em; vertical-align: -0.25em;\"></span><span class=\"mord cyrillic_fallback\">ДЕЛ</span><span class=\"mopen\">(</span><span class=\"mord mathnormal\">x</span><span class=\"mpunct\">,</span><span class=\"mspace\" style=\"margin-right: 0.1667em;\"></span><span class=\"mord\">2800</span><span class=\"mclose\">)</span></span></span></span></span></p></div>"
   ]
  },
  {
   "cell_type": "code",
   "execution_count": null,
   "metadata": {},
   "outputs": [],
   "source": [
    "for a in range(1, 500):\n",
    "    f = 1\n",
    "    for x in range(1, 600000):\n",
    "        if not(not (x % a == 0) or not (x % 2205 == 0) or (x % 2800 == 0)):\n",
    "            f = 0\n",
    "            # print(x)\n",
    "            \n",
    "    if f:\n",
    "        print(a)"
   ]
  },
  {
   "cell_type": "markdown",
   "metadata": {},
   "source": [
    "<h3><details>\n",
    "\t<summary>Ответ</summary>\n",
    "    400\n",
    "</details></h3>"
   ]
  },
  {
   "cell_type": "markdown",
   "metadata": {},
   "source": [
    "# Задание 21"
   ]
  },
  {
   "cell_type": "markdown",
   "metadata": {},
   "source": [
    "<div class=\"Markdown-module__Markdown--f5ALc TasksBankTaskCard-module__TaskCardContentMarkdown--hsXqP\"><p>Обозначим через <span class=\"math math-inline\"><span class=\"katex\"><span class=\"katex-mathml\"><math xmlns=\"http://www.w3.org/1998/Math/MathML\"><semantics><mrow><mtext>ДЕЛ</mtext><mo stretchy=\"false\">(</mo><mi>n</mi><mo separator=\"true\">,</mo><mi>m</mi><mo stretchy=\"false\">)</mo></mrow><annotation encoding=\"application/x-tex\">\\text{ДЕЛ}(n, m)</annotation></semantics></math></span><span class=\"katex-html\" aria-hidden=\"true\"><span class=\"base\"><span class=\"strut\" style=\"height: 1em; vertical-align: -0.25em;\"></span><span class=\"mord text\"><span class=\"mord cyrillic_fallback\">ДЕЛ</span></span><span class=\"mopen\">(</span><span class=\"mord mathnormal\">n</span><span class=\"mpunct\">,</span><span class=\"mspace\" style=\"margin-right: 0.1667em;\"></span><span class=\"mord mathnormal\">m</span><span class=\"mclose\">)</span></span></span></span></span> утверждение «натуральное число <span class=\"math math-inline\"><span class=\"katex\"><span class=\"katex-mathml\"><math xmlns=\"http://www.w3.org/1998/Math/MathML\"><semantics><mrow><mi>n</mi></mrow><annotation encoding=\"application/x-tex\">n</annotation></semantics></math></span><span class=\"katex-html\" aria-hidden=\"true\"><span class=\"base\"><span class=\"strut\" style=\"height: 0.4306em;\"></span><span class=\"mord mathnormal\">n</span></span></span></span></span> делится без остатка на натуральное число <span class=\"math math-inline\"><span class=\"katex\"><span class=\"katex-mathml\"><math xmlns=\"http://www.w3.org/1998/Math/MathML\"><semantics><mrow><mi>m</mi></mrow><annotation encoding=\"application/x-tex\">m</annotation></semantics></math></span><span class=\"katex-html\" aria-hidden=\"true\"><span class=\"base\"><span class=\"strut\" style=\"height: 0.4306em;\"></span><span class=\"mord mathnormal\">m</span></span></span></span></span>». Пусть на&nbsp;числовой прямой дан отрезок <span class=\"math math-inline\"><span class=\"katex\"><span class=\"katex-mathml\"><math xmlns=\"http://www.w3.org/1998/Math/MathML\"><semantics><mrow><mi>B</mi><mo>=</mo><mo stretchy=\"false\">[</mo><mn>132</mn><mo separator=\"true\">;</mo><mn>150</mn><mo stretchy=\"false\">]</mo></mrow><annotation encoding=\"application/x-tex\">B = [132; 150]</annotation></semantics></math></span><span class=\"katex-html\" aria-hidden=\"true\"><span class=\"base\"><span class=\"strut\" style=\"height: 0.6833em;\"></span><span class=\"mord mathnormal\" style=\"margin-right: 0.05017em;\">B</span><span class=\"mspace\" style=\"margin-right: 0.2778em;\"></span><span class=\"mrel\">=</span><span class=\"mspace\" style=\"margin-right: 0.2778em;\"></span></span><span class=\"base\"><span class=\"strut\" style=\"height: 1em; vertical-align: -0.25em;\"></span><span class=\"mopen\">[</span><span class=\"mord\">132</span><span class=\"mpunct\">;</span><span class=\"mspace\" style=\"margin-right: 0.1667em;\"></span><span class=\"mord\">150</span><span class=\"mclose\">]</span></span></span></span></span>. Для какого наименьшего натурального числа&nbsp;А большего&nbsp;1 логическое выражение</p>\n",
    "<p><span class=\"math math-inline\"><span class=\"katex\"><span class=\"katex-mathml\"><math xmlns=\"http://www.w3.org/1998/Math/MathML\"><semantics><mrow><mo stretchy=\"false\">(</mo><mi mathvariant=\"normal\">¬</mi><mtext>ДЕЛ</mtext><mo stretchy=\"false\">(</mo><mi>x</mi><mo separator=\"true\">,</mo><mi>A</mi><mo stretchy=\"false\">)</mo><mo>∧</mo><mo stretchy=\"false\">(</mo><mi>x</mi><mo>∈</mo><mi>B</mi><mo stretchy=\"false\">)</mo><mo stretchy=\"false\">)</mo><mo>→</mo><mi mathvariant=\"normal\">¬</mi><mtext>ДЕЛ</mtext><mo stretchy=\"false\">(</mo><mi>x</mi><mo separator=\"true\">,</mo><mn>13</mn><mo stretchy=\"false\">)</mo></mrow><annotation encoding=\"application/x-tex\">(\\lnot\\text{ДЕЛ}(x, A) \\land (x \\in B)) \\to \\lnot \\text{ДЕЛ}(x, 13)</annotation></semantics></math></span><span class=\"katex-html\" aria-hidden=\"true\"><span class=\"base\"><span class=\"strut\" style=\"height: 1em; vertical-align: -0.25em;\"></span><span class=\"mopen\">(</span><span class=\"mord\">¬</span><span class=\"mord text\"><span class=\"mord cyrillic_fallback\">ДЕЛ</span></span><span class=\"mopen\">(</span><span class=\"mord mathnormal\">x</span><span class=\"mpunct\">,</span><span class=\"mspace\" style=\"margin-right: 0.1667em;\"></span><span class=\"mord mathnormal\">A</span><span class=\"mclose\">)</span><span class=\"mspace\" style=\"margin-right: 0.2222em;\"></span><span class=\"mbin\">∧</span><span class=\"mspace\" style=\"margin-right: 0.2222em;\"></span></span><span class=\"base\"><span class=\"strut\" style=\"height: 1em; vertical-align: -0.25em;\"></span><span class=\"mopen\">(</span><span class=\"mord mathnormal\">x</span><span class=\"mspace\" style=\"margin-right: 0.2778em;\"></span><span class=\"mrel\">∈</span><span class=\"mspace\" style=\"margin-right: 0.2778em;\"></span></span><span class=\"base\"><span class=\"strut\" style=\"height: 1em; vertical-align: -0.25em;\"></span><span class=\"mord mathnormal\" style=\"margin-right: 0.05017em;\">B</span><span class=\"mclose\">))</span><span class=\"mspace\" style=\"margin-right: 0.2778em;\"></span><span class=\"mrel\">→</span><span class=\"mspace\" style=\"margin-right: 0.2778em;\"></span></span><span class=\"base\"><span class=\"strut\" style=\"height: 1em; vertical-align: -0.25em;\"></span><span class=\"mord\">¬</span><span class=\"mord text\"><span class=\"mord cyrillic_fallback\">ДЕЛ</span></span><span class=\"mopen\">(</span><span class=\"mord mathnormal\">x</span><span class=\"mpunct\">,</span><span class=\"mspace\" style=\"margin-right: 0.1667em;\"></span><span class=\"mord\">13</span><span class=\"mclose\">)</span></span></span></span></span></p>\n",
    "<p>истинно (т. е. принимает значение&nbsp;1) при любом целом положительном значении переменной х?</p></div>"
   ]
  },
  {
   "cell_type": "markdown",
   "metadata": {},
   "source": [
    "<h3><details>\n",
    "\t<summary>Ответ</summary>\n",
    "    11\n",
    "</details></h3>"
   ]
  },
  {
   "cell_type": "markdown",
   "metadata": {},
   "source": [
    "# Задание 22"
   ]
  },
  {
   "cell_type": "markdown",
   "metadata": {},
   "source": [
    "<div class=\"Markdown-module__Markdown--f5ALc TasksBankTaskCard-module__TaskCardContentMarkdown--hsXqP\"><p>Обозначим через ДЕЛ(<em>n, m</em>) утверждение «натуральное число <em>n</em> делится без остатка на натуральное число <em>m</em>».</p>\n",
    "<p>Для какого <strong>наименьшего</strong> натурального числа <em>А</em> формула</p>\n",
    "<p><span class=\"math math-inline\"><span class=\"katex\"><span class=\"katex-mathml\"><math xmlns=\"http://www.w3.org/1998/Math/MathML\"><semantics><mrow><mo stretchy=\"false\">(</mo><mtext>ДЕЛ</mtext><mo stretchy=\"false\">(</mo><mi>x</mi><mo separator=\"true\">,</mo><mn>2</mn><mo stretchy=\"false\">)</mo><mo>→</mo><mi mathvariant=\"normal\">¬</mi><mtext>ДЕЛ</mtext><mo stretchy=\"false\">(</mo><mi>x</mi><mo separator=\"true\">,</mo><mn>3</mn><mo stretchy=\"false\">)</mo><mo stretchy=\"false\">)</mo><mo>∨</mo><mo stretchy=\"false\">(</mo><mi>x</mi><mo>+</mo><mi>A</mi><mo>≥</mo><mn>100</mn><mo stretchy=\"false\">)</mo></mrow><annotation encoding=\"application/x-tex\">(ДЕЛ(x, 2) \\to  \\neg ДЕЛ(x, 3)) \\vee  (x + A \\ge  100)</annotation></semantics></math></span><span class=\"katex-html\" aria-hidden=\"true\"><span class=\"base\"><span class=\"strut\" style=\"height: 1em; vertical-align: -0.25em;\"></span><span class=\"mopen\">(</span><span class=\"mord cyrillic_fallback\">ДЕЛ</span><span class=\"mopen\">(</span><span class=\"mord mathnormal\">x</span><span class=\"mpunct\">,</span><span class=\"mspace\" style=\"margin-right: 0.1667em;\"></span><span class=\"mord\">2</span><span class=\"mclose\">)</span><span class=\"mspace\" style=\"margin-right: 0.2778em;\"></span><span class=\"mrel\">→</span><span class=\"mspace\" style=\"margin-right: 0.2778em;\"></span></span><span class=\"base\"><span class=\"strut\" style=\"height: 1em; vertical-align: -0.25em;\"></span><span class=\"mord\">¬</span><span class=\"mord cyrillic_fallback\">ДЕЛ</span><span class=\"mopen\">(</span><span class=\"mord mathnormal\">x</span><span class=\"mpunct\">,</span><span class=\"mspace\" style=\"margin-right: 0.1667em;\"></span><span class=\"mord\">3</span><span class=\"mclose\">))</span><span class=\"mspace\" style=\"margin-right: 0.2222em;\"></span><span class=\"mbin\">∨</span><span class=\"mspace\" style=\"margin-right: 0.2222em;\"></span></span><span class=\"base\"><span class=\"strut\" style=\"height: 1em; vertical-align: -0.25em;\"></span><span class=\"mopen\">(</span><span class=\"mord mathnormal\">x</span><span class=\"mspace\" style=\"margin-right: 0.2222em;\"></span><span class=\"mbin\">+</span><span class=\"mspace\" style=\"margin-right: 0.2222em;\"></span></span><span class=\"base\"><span class=\"strut\" style=\"height: 0.8193em; vertical-align: -0.136em;\"></span><span class=\"mord mathnormal\">A</span><span class=\"mspace\" style=\"margin-right: 0.2778em;\"></span><span class=\"mrel\">≥</span><span class=\"mspace\" style=\"margin-right: 0.2778em;\"></span></span><span class=\"base\"><span class=\"strut\" style=\"height: 1em; vertical-align: -0.25em;\"></span><span class=\"mord\">100</span><span class=\"mclose\">)</span></span></span></span></span></p>\n",
    "<p>тождественно истинна (т.&nbsp;е. принимает значение 1) при любом натуральном значении переменной <em>х</em>?</p></div>"
   ]
  },
  {
   "cell_type": "markdown",
   "metadata": {},
   "source": [
    "<h3><details>\n",
    "\t<summary>Ответ</summary>\n",
    "    94\n",
    "</details></h3>"
   ]
  },
  {
   "cell_type": "markdown",
   "metadata": {},
   "source": [
    "# Задание 23"
   ]
  },
  {
   "cell_type": "markdown",
   "metadata": {},
   "source": [
    "<div class=\"Markdown-module__Markdown--f5ALc TasksBankTaskCard-module__TaskCardContentMarkdown--hsXqP\"><p>Обозначим через ДЕЛ(n, m) утверждение «натуральное число <em>n</em>&nbsp;делится без остатка на&nbsp;натуральное число <em>m</em>»; и&nbsp;пусть на&nbsp;числовой прямой дан отрезок <em>B</em>&nbsp;=&nbsp;[160;&nbsp;180].</p>\n",
    "<p>Для какого количества различных натуральных значений числа <em>А</em> формула</p>\n",
    "<p><span class=\"math math-inline\"><span class=\"katex\"><span class=\"katex-mathml\"><math xmlns=\"http://www.w3.org/1998/Math/MathML\"><semantics><mrow><mo stretchy=\"false\">(</mo><mi>x</mi><mo>∈</mo><mi>B</mi><mo stretchy=\"false\">)</mo><mo>→</mo><mo stretchy=\"false\">(</mo><mtext>ДЕЛ</mtext><mo stretchy=\"false\">(</mo><mi>x</mi><mo separator=\"true\">,</mo><mn>35</mn><mo stretchy=\"false\">)</mo><mo>→</mo><mtext>ДЕЛ</mtext><mo stretchy=\"false\">(</mo><mi>x</mi><mo separator=\"true\">,</mo><mi>A</mi><mo stretchy=\"false\">)</mo><mo stretchy=\"false\">)</mo></mrow><annotation encoding=\"application/x-tex\">(x \\in B) \\to (ДЕЛ(x, 35) \\to ДЕЛ(x, A))</annotation></semantics></math></span><span class=\"katex-html\" aria-hidden=\"true\"><span class=\"base\"><span class=\"strut\" style=\"height: 1em; vertical-align: -0.25em;\"></span><span class=\"mopen\">(</span><span class=\"mord mathnormal\">x</span><span class=\"mspace\" style=\"margin-right: 0.2778em;\"></span><span class=\"mrel\">∈</span><span class=\"mspace\" style=\"margin-right: 0.2778em;\"></span></span><span class=\"base\"><span class=\"strut\" style=\"height: 1em; vertical-align: -0.25em;\"></span><span class=\"mord mathnormal\" style=\"margin-right: 0.05017em;\">B</span><span class=\"mclose\">)</span><span class=\"mspace\" style=\"margin-right: 0.2778em;\"></span><span class=\"mrel\">→</span><span class=\"mspace\" style=\"margin-right: 0.2778em;\"></span></span><span class=\"base\"><span class=\"strut\" style=\"height: 1em; vertical-align: -0.25em;\"></span><span class=\"mopen\">(</span><span class=\"mord cyrillic_fallback\">ДЕЛ</span><span class=\"mopen\">(</span><span class=\"mord mathnormal\">x</span><span class=\"mpunct\">,</span><span class=\"mspace\" style=\"margin-right: 0.1667em;\"></span><span class=\"mord\">35</span><span class=\"mclose\">)</span><span class=\"mspace\" style=\"margin-right: 0.2778em;\"></span><span class=\"mrel\">→</span><span class=\"mspace\" style=\"margin-right: 0.2778em;\"></span></span><span class=\"base\"><span class=\"strut\" style=\"height: 1em; vertical-align: -0.25em;\"></span><span class=\"mord cyrillic_fallback\">ДЕЛ</span><span class=\"mopen\">(</span><span class=\"mord mathnormal\">x</span><span class=\"mpunct\">,</span><span class=\"mspace\" style=\"margin-right: 0.1667em;\"></span><span class=\"mord mathnormal\">A</span><span class=\"mclose\">))</span></span></span></span></span></p>\n",
    "<p>тождественно истинна (т. е. принимает значение&nbsp;1) при любом натуральном значении переменной <em>х</em>?</p></div>"
   ]
  },
  {
   "cell_type": "markdown",
   "metadata": {},
   "source": [
    "<h3><details>\n",
    "\t<summary>Ответ</summary>\n",
    "    6\n",
    "</details></h3>"
   ]
  },
  {
   "cell_type": "markdown",
   "metadata": {},
   "source": [
    "# Задание 24"
   ]
  },
  {
   "cell_type": "markdown",
   "metadata": {},
   "source": [
    "<div class=\"Markdown-module__Markdown--f5ALc TasksBankTaskCard-module__TaskCardContentMarkdown--hsXqP\"><p>На числовой прямой дан отрезок <em>B</em> = [20; 47].</p>\n",
    "<p>Пусть <em>A</em> – множество чисел <em>a</em>, для которых формула</p>\n",
    "<p><span class=\"math math-inline\"><span class=\"katex\"><span class=\"katex-mathml\"><math xmlns=\"http://www.w3.org/1998/Math/MathML\"><semantics><mrow><mo stretchy=\"false\">(</mo><mi>x</mi><mtext>&nbsp;</mtext><mi mathvariant=\"normal\">&amp;</mi><mtext>&nbsp;</mtext><mn>45</mn><mo mathvariant=\"normal\">≠</mo><mn>0</mn><mo stretchy=\"false\">)</mo><mo>→</mo><mo stretchy=\"false\">(</mo><mo stretchy=\"false\">(</mo><mi>x</mi><mtext>&nbsp;</mtext><mi mathvariant=\"normal\">&amp;</mi><mtext>&nbsp;</mtext><mn>21</mn><mo>=</mo><mn>0</mn><mo stretchy=\"false\">)</mo><mo>→</mo><mo stretchy=\"false\">(</mo><mi>x</mi><mtext>&nbsp;</mtext><mi mathvariant=\"normal\">&amp;</mi><mtext>&nbsp;</mtext><mi>a</mi><mo mathvariant=\"normal\">≠</mo><mn>0</mn><mo stretchy=\"false\">)</mo><mo stretchy=\"false\">)</mo></mrow><annotation encoding=\"application/x-tex\">(x&nbsp;\\&amp;&nbsp;45 \\neq  0) \\to ((x&nbsp;\\&amp;&nbsp;21 = 0) \\to (x&nbsp;\\&amp;&nbsp;a \\neq  0))</annotation></semantics></math></span><span class=\"katex-html\" aria-hidden=\"true\"><span class=\"base\"><span class=\"strut\" style=\"height: 1em; vertical-align: -0.25em;\"></span><span class=\"mopen\">(</span><span class=\"mord mathnormal\">x</span><span class=\"mord\">&nbsp;&amp;&nbsp;45</span><span class=\"mspace\" style=\"margin-right: 0.2778em;\"></span><span class=\"mrel\"><span class=\"mrel\"><span class=\"mord vbox\"><span class=\"thinbox\"><span class=\"rlap\"><span class=\"strut\" style=\"height: 0.8889em; vertical-align: -0.1944em;\"></span><span class=\"inner\"><span class=\"mord\"><span class=\"mrel\"></span></span></span><span class=\"fix\"></span></span></span></span></span><span class=\"mrel\">=</span></span><span class=\"mspace\" style=\"margin-right: 0.2778em;\"></span></span><span class=\"base\"><span class=\"strut\" style=\"height: 1em; vertical-align: -0.25em;\"></span><span class=\"mord\">0</span><span class=\"mclose\">)</span><span class=\"mspace\" style=\"margin-right: 0.2778em;\"></span><span class=\"mrel\">→</span><span class=\"mspace\" style=\"margin-right: 0.2778em;\"></span></span><span class=\"base\"><span class=\"strut\" style=\"height: 1em; vertical-align: -0.25em;\"></span><span class=\"mopen\">((</span><span class=\"mord mathnormal\">x</span><span class=\"mord\">&nbsp;&amp;&nbsp;21</span><span class=\"mspace\" style=\"margin-right: 0.2778em;\"></span><span class=\"mrel\">=</span><span class=\"mspace\" style=\"margin-right: 0.2778em;\"></span></span><span class=\"base\"><span class=\"strut\" style=\"height: 1em; vertical-align: -0.25em;\"></span><span class=\"mord\">0</span><span class=\"mclose\">)</span><span class=\"mspace\" style=\"margin-right: 0.2778em;\"></span><span class=\"mrel\">→</span><span class=\"mspace\" style=\"margin-right: 0.2778em;\"></span></span><span class=\"base\"><span class=\"strut\" style=\"height: 1em; vertical-align: -0.25em;\"></span><span class=\"mopen\">(</span><span class=\"mord mathnormal\">x</span><span class=\"mord\">&nbsp;&amp;&nbsp;</span><span class=\"mord mathnormal\">a</span><span class=\"mspace\" style=\"margin-right: 0.2778em;\"></span><span class=\"mrel\"><span class=\"mrel\"><span class=\"mord vbox\"><span class=\"thinbox\"><span class=\"rlap\"><span class=\"strut\" style=\"height: 0.8889em; vertical-align: -0.1944em;\"></span><span class=\"inner\"><span class=\"mord\"><span class=\"mrel\"></span></span></span><span class=\"fix\"></span></span></span></span></span><span class=\"mrel\">=</span></span><span class=\"mspace\" style=\"margin-right: 0.2778em;\"></span></span><span class=\"base\"><span class=\"strut\" style=\"height: 1em; vertical-align: -0.25em;\"></span><span class=\"mord\">0</span><span class=\"mclose\">))</span></span></span></span></span></p>\n",
    "<p>тождественно истинна при всех натуральных значениях переменной <em>х</em>.</p>\n",
    "<p>Для какого <strong>наименьшего</strong> натурального числа <span class=\"math math-inline\"><span class=\"katex\"><span class=\"katex-mathml\"><math xmlns=\"http://www.w3.org/1998/Math/MathML\"><semantics><mrow><mi>x</mi></mrow><annotation encoding=\"application/x-tex\">x</annotation></semantics></math></span><span class=\"katex-html\" aria-hidden=\"true\"><span class=\"base\"><span class=\"strut\" style=\"height: 0.4306em;\"></span><span class=\"mord mathnormal\">x</span></span></span></span></span> формула</p>\n",
    "<p><span class=\"math math-inline\"><span class=\"katex\"><span class=\"katex-mathml\"><math xmlns=\"http://www.w3.org/1998/Math/MathML\"><semantics><mrow><mo stretchy=\"false\">(</mo><mi>x</mi><mo>∈</mo><mi>A</mi><mo stretchy=\"false\">)</mo><mo>→</mo><mo stretchy=\"false\">(</mo><mi>x</mi><mo>∈</mo><mi>B</mi><mo stretchy=\"false\">)</mo></mrow><annotation encoding=\"application/x-tex\">(x ∈ A) \\to (x ∈ B)</annotation></semantics></math></span><span class=\"katex-html\" aria-hidden=\"true\"><span class=\"base\"><span class=\"strut\" style=\"height: 1em; vertical-align: -0.25em;\"></span><span class=\"mopen\">(</span><span class=\"mord mathnormal\">x</span><span class=\"mspace\" style=\"margin-right: 0.2778em;\"></span><span class=\"mrel\">∈</span><span class=\"mspace\" style=\"margin-right: 0.2778em;\"></span></span><span class=\"base\"><span class=\"strut\" style=\"height: 1em; vertical-align: -0.25em;\"></span><span class=\"mord mathnormal\">A</span><span class=\"mclose\">)</span><span class=\"mspace\" style=\"margin-right: 0.2778em;\"></span><span class=\"mrel\">→</span><span class=\"mspace\" style=\"margin-right: 0.2778em;\"></span></span><span class=\"base\"><span class=\"strut\" style=\"height: 1em; vertical-align: -0.25em;\"></span><span class=\"mopen\">(</span><span class=\"mord mathnormal\">x</span><span class=\"mspace\" style=\"margin-right: 0.2778em;\"></span><span class=\"mrel\">∈</span><span class=\"mspace\" style=\"margin-right: 0.2778em;\"></span></span><span class=\"base\"><span class=\"strut\" style=\"height: 1em; vertical-align: -0.25em;\"></span><span class=\"mord mathnormal\" style=\"margin-right: 0.05017em;\">B</span><span class=\"mclose\">)</span></span></span></span></span></p>\n",
    "<p>ложна?</p></div>"
   ]
  },
  {
   "cell_type": "markdown",
   "metadata": {},
   "source": [
    "<h3><details>\n",
    "\t<summary>Ответ</summary>\n",
    "    56\n",
    "</details></h3>"
   ]
  }
 ],
 "metadata": {
  "kernelspec": {
   "display_name": "Python 3",
   "language": "python",
   "name": "python3"
  },
  "language_info": {
   "codemirror_mode": {
    "name": "ipython",
    "version": 3
   },
   "file_extension": ".py",
   "mimetype": "text/x-python",
   "name": "python",
   "nbconvert_exporter": "python",
   "pygments_lexer": "ipython3",
   "version": "3.10.12"
  }
 },
 "nbformat": 4,
 "nbformat_minor": 2
}
