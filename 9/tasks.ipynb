{
 "cells": [
  {
   "cell_type": "markdown",
   "metadata": {},
   "source": [
    "# Задание 1"
   ]
  },
  {
   "cell_type": "markdown",
   "metadata": {},
   "source": [
    "<div class=\"Markdown-module__Markdown--f5ALc TasksBankTaskCard-module__TaskCardContentMarkdown--hsXqP\"><p>Откройте файл электронной таблицы, в&nbsp;каждой строке которой семь натуральных чисел. Определите количество строк таблицы с&nbsp;числами, для которых выполнены все условия:</p>\n",
    "<ul>\n",
    "<li>в&nbsp;строке не&nbsp;менее двух чётных и&nbsp;не&nbsp;менее двух нечётных чисел</li>\n",
    "<li>утроенная сумма нечётных чисел больше произведения чётных</li>\n",
    "</ul>\n",
    "<p>В&nbsp;ответе запишите только число.</p></div>"
   ]
  },
  {
   "cell_type": "markdown",
   "metadata": {},
   "source": [
    "9_1_1731690408.xlsx"
   ]
  },
  {
   "cell_type": "markdown",
   "metadata": {},
   "source": [
    "<h3><details>\n",
    "\t<summary>Ответ</summary>\n",
    "    160\n",
    "</details></h3>"
   ]
  },
  {
   "cell_type": "markdown",
   "metadata": {},
   "source": [
    "# Задание 2"
   ]
  },
  {
   "cell_type": "markdown",
   "metadata": {},
   "source": [
    "<div class=\"Markdown-module__Markdown--f5ALc TasksBankTaskCard-module__TaskCardContentMarkdown--hsXqP\"><p>Откройте файл электронной таблицы, в&nbsp;каждой строке которой четыре натуральных числа. Определите количество строк таблицы с&nbsp;числами, для которых выполнено строго одно из&nbsp;условий:</p>\n",
    "<ul>\n",
    "<li>в строке есть повторяющиеся числа</li>\n",
    "<li>в строке есть ровно три нечётных числа</li>\n",
    "</ul>\n",
    "<p>В ответе запишите только число.</p></div>"
   ]
  },
  {
   "cell_type": "markdown",
   "metadata": {},
   "source": [
    "9_2_1726060726.xlsx"
   ]
  },
  {
   "cell_type": "markdown",
   "metadata": {},
   "source": [
    "<h3><details>\n",
    "\t<summary>Ответ</summary>\n",
    "    1628\n",
    "</details></h3>"
   ]
  },
  {
   "cell_type": "markdown",
   "metadata": {},
   "source": [
    "# Задание 3"
   ]
  },
  {
   "cell_type": "markdown",
   "metadata": {},
   "source": [
    "<div class=\"Markdown-module__Markdown--f5ALc TasksBankTaskCard-module__TaskCardContentMarkdown--hsXqP\"><p>Откройте файл электронной таблицы, содержащей в&nbsp;каждой строке семь натуральных чисел. Определите сумму всех чисел в&nbsp;строке таблицы с&nbsp;наименьшим номером, для чисел которой выполнены оба условия:</p>\n",
    "<ul>\n",
    "<li>в&nbsp;строке есть два числа, каждое из&nbsp;которых повторяется дважды, остальные три числа различны;</li>\n",
    "<li>максимальное число строки не&nbsp;повторяется.</li>\n",
    "</ul>\n",
    "<p>В&nbsp;ответе запишите только число.</p></div>"
   ]
  },
  {
   "cell_type": "markdown",
   "metadata": {},
   "source": [
    "9_9832_9_1717427579.xls"
   ]
  },
  {
   "cell_type": "markdown",
   "metadata": {},
   "source": [
    "<h3><details>\n",
    "\t<summary>Ответ</summary>\n",
    "    261\n",
    "</details></h3>"
   ]
  },
  {
   "cell_type": "markdown",
   "metadata": {},
   "source": [
    "# Задание 4"
   ]
  },
  {
   "cell_type": "markdown",
   "metadata": {},
   "source": [
    "<div class=\"Markdown-module__Markdown--f5ALc TasksBankTaskCard-module__TaskCardContentMarkdown--hsXqP\"><p>Откройте файл электронной таблицы, содержащей в&nbsp;каждой строке шесть натуральных чисел. Определите наименьший номер строки таблицы, для чисел которой выполнены оба условия:</p>\n",
    "<ul>\n",
    "<li>в&nbsp;строке есть только одно число, которое повторяется дважды, остальные четыре числа различны;</li>\n",
    "<li>повторяющееся число строки не&nbsp;меньше, чем среднее арифметическое четырёх её&nbsp;неповторяющихся чисел.</li>\n",
    "</ul>\n",
    "<p>В&nbsp;ответе запишите только число.</p></div>"
   ]
  },
  {
   "cell_type": "markdown",
   "metadata": {},
   "source": [
    "9_9778_09_1717427476.csv"
   ]
  },
  {
   "cell_type": "markdown",
   "metadata": {},
   "source": [
    "<h3><details>\n",
    "\t<summary>Ответ</summary>\n",
    "    34\n",
    "</details></h3>"
   ]
  },
  {
   "cell_type": "markdown",
   "metadata": {},
   "source": [
    "# Задание 5"
   ]
  },
  {
   "cell_type": "markdown",
   "metadata": {},
   "source": [
    "<div class=\"Markdown-module__Markdown--f5ALc TasksBankTaskCard-module__TaskCardContentMarkdown--hsXqP\"><p>Откройте файл электронной таблицы, содержащей в&nbsp;каждой строке шесть натуральных чисел. Определите количество строк таблицы, содержащих числа, для которых выполнены оба условия:</p>\n",
    "<ul>\n",
    "<li>в&nbsp;строке все числа различны;</li>\n",
    "<li>количество чётных чисел превышает количество нечётных чисел.</li>\n",
    "</ul>\n",
    "<p>В&nbsp;ответе запишите только число.</p></div>"
   ]
  },
  {
   "cell_type": "markdown",
   "metadata": {},
   "source": [
    "9_5946_9_1717426136.xlsx"
   ]
  },
  {
   "cell_type": "markdown",
   "metadata": {},
   "source": [
    "<h3><details>\n",
    "\t<summary>Ответ</summary>\n",
    "    1078\n",
    "</details></h3>"
   ]
  },
  {
   "cell_type": "markdown",
   "metadata": {},
   "source": [
    "# Задание 6"
   ]
  },
  {
   "cell_type": "markdown",
   "metadata": {},
   "source": [
    "<div class=\"Markdown-module__Markdown--f5ALc TasksBankTaskCard-module__TaskCardContentMarkdown--hsXqP\"><p>В&nbsp;файле электронной таблицы содержатся строки по&nbsp;5 чисел в&nbsp;каждой. Найдите строки, соответствующие обоим условиям:</p>\n",
    "<ol>\n",
    "<li>В&nbsp;строке есть как положительные, так и&nbsp;отрицательные числа, но&nbsp;количество отрицательных чисел в&nbsp;строке больше чем положительных.</li>\n",
    "<li>Минимальное отрицательное число больше по&nbsp;модулю чем максимальное положительное.</li>\n",
    "</ol>\n",
    "<p>В&nbsp;ответе укажите количество таких строк.</p></div>"
   ]
  },
  {
   "cell_type": "markdown",
   "metadata": {},
   "source": [
    "9_2_1717258483.xlsx"
   ]
  },
  {
   "cell_type": "markdown",
   "metadata": {},
   "source": [
    "<h3><details>\n",
    "\t<summary>Ответ</summary>\n",
    "    3036\n",
    "</details></h3>"
   ]
  },
  {
   "cell_type": "markdown",
   "metadata": {},
   "source": [
    "# Задание 7"
   ]
  },
  {
   "cell_type": "markdown",
   "metadata": {},
   "source": [
    "<div class=\"Markdown-module__Markdown--f5ALc TasksBankTaskCard-module__TaskCardContentMarkdown--hsXqP\"><p>Откройте файл электронной таблицы, которая содержит в каждой строке семь натуральных чисел. Определите количество строк таблицы, для чисел которых выполнены все условия:</p>\n",
    "<ul>\n",
    "<li>в строке есть число, которое повторяется трижды</li>\n",
    "<li>в строке ровно 5 различных значений</li>\n",
    "<li>сумма чисел в строке меньше 502</li>\n",
    "</ul>\n",
    "<p>В ответе запишите только число.</p></div>"
   ]
  },
  {
   "cell_type": "markdown",
   "metadata": {},
   "source": [
    "09_6_1714235730.xlsx"
   ]
  },
  {
   "cell_type": "markdown",
   "metadata": {},
   "source": [
    "<h3><details>\n",
    "\t<summary>Ответ</summary>\n",
    "    41\n",
    "</details></h3>"
   ]
  },
  {
   "cell_type": "markdown",
   "metadata": {},
   "source": [
    "# Задание 8"
   ]
  },
  {
   "cell_type": "markdown",
   "metadata": {},
   "source": [
    "<div class=\"Markdown-module__Markdown--f5ALc TasksBankTaskCard-module__TaskCardContentMarkdown--hsXqP\"><p>Откройте файл электронной таблицы, содержащей в&nbsp;каждой строке четыре натуральных числа. Определите количество строк таблицы, содержащих числа, для которых выполнены все условия:</p>\n",
    "<ul>\n",
    "<li>четыре числа строки можно разбить на&nbsp;две пары чисел с&nbsp;равными суммами</li>\n",
    "<li>максимальное число строки меньше суммы трёх оставшихся чисел</li>\n",
    "<li>сумма чисел в&nbsp;строке чётна</li>\n",
    "</ul>\n",
    "<p>В&nbsp;ответе запишите только число.</p></div>"
   ]
  },
  {
   "cell_type": "markdown",
   "metadata": {},
   "source": [
    "09_5_1712933656.xlsx"
   ]
  },
  {
   "cell_type": "markdown",
   "metadata": {},
   "source": [
    "<h3><details>\n",
    "\t<summary>Ответ</summary>\n",
    "    139\n",
    "</details></h3>"
   ]
  }
 ],
 "metadata": {
  "language_info": {
   "name": "python"
  }
 },
 "nbformat": 4,
 "nbformat_minor": 2
}
