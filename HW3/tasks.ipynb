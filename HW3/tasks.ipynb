{
 "cells": [
  {
   "cell_type": "markdown",
   "metadata": {},
   "source": [
    "# Задание 17"
   ]
  },
  {
   "cell_type": "markdown",
   "metadata": {
    "vscode": {
     "languageId": "plaintext"
    }
   },
   "source": [
    "## 1"
   ]
  },
  {
   "cell_type": "markdown",
   "metadata": {},
   "source": [
    "В файле содержится последовательность целых чисел. Элементы последовательности могут принимать целые значения от −10 000 до 10 000 включительно. Определите и запишите в ответе сначала количество пар элементов последовательности, в которых хотя бы одно число делится на 3, затем максимальную из сумм элементов таких пар. В данной задаче под парой подразумевается два идущих подряд элемента последовательности. Например, для последовательности из пяти элементов: 6; 2; 9; –3; 6  — ответ 4 11."
   ]
  },
  {
   "cell_type": "markdown",
   "metadata": {},
   "source": [
    "<h2><details>\n",
    "\t<summary>Ответ</summary>\n",
    "\t2802 1990\n",
    "</details></h2>"
   ]
  },
  {
   "cell_type": "markdown",
   "metadata": {},
   "source": [
    "## 2"
   ]
  },
  {
   "cell_type": "markdown",
   "metadata": {},
   "source": [
    "В файле содержится последовательность целых чисел. Её элементы по модулю не превышают 100000 включительно. Определите количество троек элементов последовательности, в которых хотя бы два элемента оканчиваются на 42 и являются четырёхзначными числами. При этом сумма всех элементов тройки должна быть больше максимального элемента последовательности, который оканчивается на 42 и является четырёхзначным числом. В ответе запишите количество найденных троек, затем максимальную из сумм элементов таких троек.\n",
    "\n",
    "Под тройками в задаче подразумеваются три идущих подряд элемента последовательности."
   ]
  },
  {
   "cell_type": "markdown",
   "metadata": {},
   "source": [
    "<h2><details>\n",
    "\t<summary>Ответ</summary>\n",
    "\t11 86252\n",
    "</details></h2>"
   ]
  },
  {
   "cell_type": "markdown",
   "metadata": {},
   "source": [
    "# Задание 18"
   ]
  },
  {
   "cell_type": "markdown",
   "metadata": {},
   "source": [
    "## 1"
   ]
  },
  {
   "cell_type": "markdown",
   "metadata": {},
   "source": [
    "<div class=\"Markdown-module__Markdown--f5ALc TasksBankTaskCard-module__TaskCardContentMarkdown--hsXqP\"><p>Квадрат разлинован на&nbsp;<span class=\"math math-inline\"><span class=\"katex\"><span class=\"katex-mathml\"><math xmlns=\"http://www.w3.org/1998/Math/MathML\"><semantics><mrow><mi>N</mi><mo>×</mo><mi>N</mi></mrow><annotation encoding=\"application/x-tex\">N \\times N</annotation></semantics></math></span><span class=\"katex-html\" aria-hidden=\"true\"><span class=\"base\"><span class=\"strut\" style=\"height: 0.7667em; vertical-align: -0.0833em;\"></span><span class=\"mord mathnormal\" style=\"margin-right: 0.10903em;\">N</span><span class=\"mspace\" style=\"margin-right: 0.2222em;\"></span><span class=\"mbin\">×</span><span class=\"mspace\" style=\"margin-right: 0.2222em;\"></span></span><span class=\"base\"><span class=\"strut\" style=\"height: 0.6833em;\"></span><span class=\"mord mathnormal\" style=\"margin-right: 0.10903em;\">N</span></span></span></span></span> клеток (<span class=\"math math-inline\"><span class=\"katex\"><span class=\"katex-mathml\"><math xmlns=\"http://www.w3.org/1998/Math/MathML\"><semantics><mrow><mn>1</mn><mo>&lt;</mo><mi>N</mi><mtext>&nbsp;</mtext><mo>&lt;</mo><mn>30</mn></mrow><annotation encoding=\"application/x-tex\">1 &lt; N&nbsp;&lt; 30</annotation></semantics></math></span><span class=\"katex-html\" aria-hidden=\"true\"><span class=\"base\"><span class=\"strut\" style=\"height: 0.6835em; vertical-align: -0.0391em;\"></span><span class=\"mord\">1</span><span class=\"mspace\" style=\"margin-right: 0.2778em;\"></span><span class=\"mrel\">&lt;</span><span class=\"mspace\" style=\"margin-right: 0.2778em;\"></span></span><span class=\"base\"><span class=\"strut\" style=\"height: 0.7224em; vertical-align: -0.0391em;\"></span><span class=\"mord mathnormal\" style=\"margin-right: 0.10903em;\">N</span><span class=\"mord\">&nbsp;</span><span class=\"mspace\" style=\"margin-right: 0.2778em;\"></span><span class=\"mrel\">&lt;</span><span class=\"mspace\" style=\"margin-right: 0.2778em;\"></span></span><span class=\"base\"><span class=\"strut\" style=\"height: 0.6444em;\"></span><span class=\"mord\">30</span></span></span></span></span>). Исполнитель Робот может перемещаться по&nbsp;клеткам, выполняя за&nbsp;одно перемещение одну из&nbsp;двух команд: <strong>влево</strong> или <strong>вниз</strong>. По&nbsp;команде <strong>влево</strong> Робот перемещается в&nbsp;соседнюю левую клетку, по&nbsp;команде <strong>вниз</strong>&nbsp;— в&nbsp;соседнюю нижнюю. Квадрат ограничен внешними стенами. Между соседними клетками квадрата также могут быть внутренние стены. Сквозь стену Робот пройти не&nbsp;может.</p>\n",
    "<p>Перед каждым запуском Робота в&nbsp;каждой клетке квадрата лежит монета достоинством от&nbsp;1 до&nbsp;100. Посетив клетку, Робот забирает монету с&nbsp;собой; это также относится к&nbsp;начальной и&nbsp;конечной клеткам маршрута Робота. В&nbsp;«угловых» клетках поля (тех, которые слева и&nbsp;снизу ограничены стенами) Робот продолжать движение не&nbsp;может, поэтому накопленная сумма считается итоговой. Таких конечных клеток на&nbsp;поле может быть несколько, включая левую нижнюю клетку поля. При разных запусках итоговые накопленные суммы могут различаться.</p>\n",
    "<p>Определите максимальную и&nbsp;минимальную денежные суммы среди всех возможных итоговых сумм, которые может собрать Робот, пройдя из&nbsp;правой верхней клетки в&nbsp;конечную клетку маршрута. В&nbsp;ответе укажите два числа&nbsp;— сначала максимальную сумму, затем минимальную.</p>\n",
    "<p>Исходные данные представляют собой электронную таблицу размером <span class=\"math math-inline\"><span class=\"katex\"><span class=\"katex-mathml\"><math xmlns=\"http://www.w3.org/1998/Math/MathML\"><semantics><mrow><mi>N</mi><mo>×</mo><mi>N</mi></mrow><annotation encoding=\"application/x-tex\">N \\times N</annotation></semantics></math></span><span class=\"katex-html\" aria-hidden=\"true\"><span class=\"base\"><span class=\"strut\" style=\"height: 0.7667em; vertical-align: -0.0833em;\"></span><span class=\"mord mathnormal\" style=\"margin-right: 0.10903em;\">N</span><span class=\"mspace\" style=\"margin-right: 0.2222em;\"></span><span class=\"mbin\">×</span><span class=\"mspace\" style=\"margin-right: 0.2222em;\"></span></span><span class=\"base\"><span class=\"strut\" style=\"height: 0.6833em;\"></span><span class=\"mord mathnormal\" style=\"margin-right: 0.10903em;\">N</span></span></span></span></span>, каждая ячейка которой соответствует клетке квадрата. Внутренние и&nbsp;внешние стены обозначены утолщёнными линиями.</p>\n",
    "<p><em>Пример входных данных</em><br>\n",
    "<img src=\"https://avatars.mds.yandex.net/get-schoolbook-images/5519467/a9a9580920e22697dd9bb96ea1742e6f/orig\" alt=\"Screenshot\"></p></div>"
   ]
  },
  {
   "cell_type": "markdown",
   "metadata": {},
   "source": [
    "<h2><details>\n",
    "\t<summary>Ответ</summary>\n",
    "\t1854 623\n",
    "</details></h2>"
   ]
  },
  {
   "cell_type": "markdown",
   "metadata": {},
   "source": [
    "## 2"
   ]
  },
  {
   "cell_type": "markdown",
   "metadata": {},
   "source": [
    "<div class=\"Markdown-module__Markdown--f5ALc TasksBankTaskCard-module__TaskCardContentMarkdown--hsXqP\"><p>Квадрат разлинован на&nbsp;<span class=\"math math-inline\"><span class=\"katex\"><span class=\"katex-mathml\"><math xmlns=\"http://www.w3.org/1998/Math/MathML\"><semantics><mrow><mi>N</mi><mo>×</mo><mi>N</mi></mrow><annotation encoding=\"application/x-tex\">N \\times N</annotation></semantics></math></span><span class=\"katex-html\" aria-hidden=\"true\"><span class=\"base\"><span class=\"strut\" style=\"height: 0.7667em; vertical-align: -0.0833em;\"></span><span class=\"mord mathnormal\" style=\"margin-right: 0.10903em;\">N</span><span class=\"mspace\" style=\"margin-right: 0.2222em;\"></span><span class=\"mbin\">×</span><span class=\"mspace\" style=\"margin-right: 0.2222em;\"></span></span><span class=\"base\"><span class=\"strut\" style=\"height: 0.6833em;\"></span><span class=\"mord mathnormal\" style=\"margin-right: 0.10903em;\">N</span></span></span></span></span> клеток (<span class=\"math math-inline\"><span class=\"katex\"><span class=\"katex-mathml\"><math xmlns=\"http://www.w3.org/1998/Math/MathML\"><semantics><mrow><mn>1</mn><mo>&lt;</mo><mi>N</mi><mtext>&nbsp;</mtext><mo>&lt;</mo><mn>30</mn></mrow><annotation encoding=\"application/x-tex\">1 &lt; N&nbsp;&lt; 30</annotation></semantics></math></span><span class=\"katex-html\" aria-hidden=\"true\"><span class=\"base\"><span class=\"strut\" style=\"height: 0.6835em; vertical-align: -0.0391em;\"></span><span class=\"mord\">1</span><span class=\"mspace\" style=\"margin-right: 0.2778em;\"></span><span class=\"mrel\">&lt;</span><span class=\"mspace\" style=\"margin-right: 0.2778em;\"></span></span><span class=\"base\"><span class=\"strut\" style=\"height: 0.7224em; vertical-align: -0.0391em;\"></span><span class=\"mord mathnormal\" style=\"margin-right: 0.10903em;\">N</span><span class=\"mord\">&nbsp;</span><span class=\"mspace\" style=\"margin-right: 0.2778em;\"></span><span class=\"mrel\">&lt;</span><span class=\"mspace\" style=\"margin-right: 0.2778em;\"></span></span><span class=\"base\"><span class=\"strut\" style=\"height: 0.6444em;\"></span><span class=\"mord\">30</span></span></span></span></span>). Исполнитель Робот может перемещаться по&nbsp;клеткам, выполняя за&nbsp;одно перемещение одну из&nbsp;двух команд: <strong>вправо</strong> или <strong>вверх</strong>. По&nbsp;команде <strong>вправо</strong> Робот перемещается в&nbsp;соседнюю правую клетку, по&nbsp;команде <strong>вверх</strong>&nbsp;— в&nbsp;соседнюю верхнюю. Квадрат ограничен внешними стенами. Между соседними клетками квадрата также могут быть внутренние стены. Сквозь стену Робот пройти не&nbsp;может.</p>\n",
    "<p>Перед запуском Робота в&nbsp;каждой клетке квадрата лежит монета достоинством от&nbsp;1 до&nbsp;100. Пройдя через клетку, Робот забирает монету с&nbsp;собой; это также относится к&nbsp;начальной и&nbsp;конечной клеткам маршрута Робота. Если робот переместился в&nbsp;клетку по&nbsp;команде <strong>вправо</strong>, он&nbsp;получает 10&nbsp;бонусных монет. В&nbsp;«угловых» клетках поля (которые справа и&nbsp;сверху ограничены стенами) Робот продолжать движение не&nbsp;может, поэтому накопленная сумма считается итоговой. Таких конечных клеток на&nbsp;поле может быть несколько, включая правую верхнюю клетку поля. При разных запусках итоговые накопленные суммы могут различаться.</p>\n",
    "<p>Определите максимальную и&nbsp;минимальную денежные суммы среди всех возможных итоговых сумм, которые может собрать Робот, пройдя из&nbsp;левой нижней клетки в&nbsp;конечную клетку маршрута. В&nbsp;ответе укажите два числа&nbsp;— сначала максимальную сумму, затем минимальную.</p>\n",
    "<p>Исходные данные представляют собой электронную таблицу размером <span class=\"math math-inline\"><span class=\"katex\"><span class=\"katex-mathml\"><math xmlns=\"http://www.w3.org/1998/Math/MathML\"><semantics><mrow><mi>N</mi><mo>×</mo><mi>N</mi></mrow><annotation encoding=\"application/x-tex\">N \\times N</annotation></semantics></math></span><span class=\"katex-html\" aria-hidden=\"true\"><span class=\"base\"><span class=\"strut\" style=\"height: 0.7667em; vertical-align: -0.0833em;\"></span><span class=\"mord mathnormal\" style=\"margin-right: 0.10903em;\">N</span><span class=\"mspace\" style=\"margin-right: 0.2222em;\"></span><span class=\"mbin\">×</span><span class=\"mspace\" style=\"margin-right: 0.2222em;\"></span></span><span class=\"base\"><span class=\"strut\" style=\"height: 0.6833em;\"></span><span class=\"mord mathnormal\" style=\"margin-right: 0.10903em;\">N</span></span></span></span></span>, каждая ячейка которой соответствует клетке квадрата. Внутренние и&nbsp;внешние стены обозначены утолщёнными линиями.</p>\n",
    "<p><em>Пример входных данных</em></p>\n",
    "<p><img src=\"https://avatars.mds.yandex.net/get-schoolbook-images/5519467/71cb26fbbd929d2f6bb6cbc37bda16e2/orig\" alt=\"Screenshot\"></p></div>"
   ]
  },
  {
   "cell_type": "markdown",
   "metadata": {},
   "source": [
    "<h2><details>\n",
    "\t<summary>Ответ</summary>\n",
    "    1961 534\n",
    "</details></h2>"
   ]
  },
  {
   "cell_type": "markdown",
   "metadata": {},
   "source": [
    "# Задание 19-21"
   ]
  },
  {
   "cell_type": "markdown",
   "metadata": {},
   "source": [
    "## 1"
   ]
  },
  {
   "cell_type": "markdown",
   "metadata": {},
   "source": [
    "<td class=\"topicview\">\n",
    "  <script>\n",
    "  document.write( changeImageFilePath('(ЕГЭ-2024) Два игрока, Петя и Ваня, играют в следующую игру. Перед игроками лежит куча камней. Игроки ходят по очереди, первый ход делает Петя. За один ход игрок может добавить в кучу один или три камня либо увеличить количество камней в куче в два раза. У каждого игрока есть неограниченное количество камней, чтобы делать ходы. Игра завершается в тот момент, когда количество камней в куче становится не менее 39. Победителем считается игрок, сделавший последний ход, т.е. первым получивший кучу из 39 камней или больше. В начальный момент в куче было S камней; 1 ≤ S ≤ 38. Будем говорить, что игрок имеет выигрышную стратегию, если он может выиграть при любых ходах противника.<br/>Ответьте на следующие вопросы:<br/>&nbsp;&nbsp;<b>Вопрос 1.</b> Укажите минимальное значение S, при котором Петя не может выиграть за один ход, но при любом ходе Пети Ваня может выиграть своим первым ходом.<br/>&nbsp;&nbsp;<b>Вопрос 2.</b> Найдите два значения S, когда Петя имеет выигрышную стратегию, причём одновременно выполняются два условия: <br/>− Петя не может выиграть за один ход; <br/>− Петя может выиграть своим вторым ходом независимо от того, как будет ходить Ваня.<br/>&nbsp;&nbsp;<b>Вопрос 3.</b> Найдите минимальное значение S, при котором одновременно выполняются два условия:<br/>– у Вани есть выигрышная стратегия, позволяющая ему выиграть первым или вторым ходом при любой игре Пети; <br/>– у Вани нет стратегии, которая позволит ему гарантированно выиграть первым ходом.') );\n",
    "  </script> (ЕГЭ-2024) Два игрока, Петя и Ваня, играют в следующую игру. Перед игроками лежит куча камней. Игроки ходят по очереди, первый ход делает Петя. За один ход игрок может добавить в кучу один или три камня либо увеличить количество камней в куче в два раза. У каждого игрока есть неограниченное количество камней, чтобы делать ходы. Игра завершается в тот момент, когда количество камней в куче становится не менее 39. Победителем считается игрок, сделавший последний ход, т.е. первым получивший кучу из 39 камней или больше. В начальный момент в куче было S камней; 1 ≤ S ≤ 38. Будем говорить, что игрок имеет выигрышную стратегию, если он может выиграть при любых ходах противника.<br>Ответьте на следующие вопросы:<br>&nbsp;&nbsp;<b>Вопрос 1.</b> Укажите минимальное значение S, при котором Петя не может выиграть за один ход, но при любом ходе Пети Ваня может выиграть своим первым ходом.<br>&nbsp;&nbsp;<b>Вопрос 2.</b> Найдите два значения S, когда Петя имеет выигрышную стратегию, причём одновременно выполняются два условия: <br>− Петя не может выиграть за один ход; <br>− Петя может выиграть своим вторым ходом независимо от того, как будет ходить Ваня.<br>&nbsp;&nbsp;<b>Вопрос 3.</b> Найдите минимальное значение S, при котором одновременно выполняются два условия:<br>– у Вани есть выигрышная стратегия, позволяющая ему выиграть первым или вторым ходом при любой игре Пети; <br>– у Вани нет стратегии, которая позволит ему гарантированно выиграть первым ходом.\n",
    "  </td>"
   ]
  },
  {
   "cell_type": "markdown",
   "metadata": {},
   "source": [
    "<h2><details>\n",
    "\t<summary>Ответ</summary>\n",
    "    1) 19<br>\n",
    "2) 16 18<br>\n",
    "3) 15<br>\n",
    "</details></h2>"
   ]
  },
  {
   "cell_type": "markdown",
   "metadata": {},
   "source": [
    "## 2"
   ]
  },
  {
   "cell_type": "markdown",
   "metadata": {},
   "source": [
    "<td class=\"topicview\">\n",
    "  <script>\n",
    "  document.write( changeImageFilePath('(Е. Джобс) Два игрока, Петя и Ваня, играют в следующую игру. Перед игроками лежит куча камней. Игроки ходят по очереди, первый ход делает Петя. За один ход игрок может добавить в кучу четыре камня или увеличить количество камней в куче в два раза. Чтобы делать ходы, у каждого игрока есть неограниченное количество камней. Игра завершается, когда количество камней в куче становится не менее 20. Если при этом в куче оказалось не более 26 камней, то победителем считается игрок, сделавший последний ход. В противном случае победителем становится его противник (при этом победа учитывается как ход противника). В начальный момент в куче было S камней, 1 ≤ S ≤ 19.<br/>Ответьте на следующие вопросы:<br/>&nbsp;&nbsp;<b>Вопрос 1.</b>Найдите минимальное значение S, при котором Петя не может выиграть за один ход, но Ваня может выиграть своим первым ходом после любого хода Пети.<br/>&nbsp;&nbsp;<b>Вопрос 2.</b> Найдите наименьшее и наибольшее значения S, когда Петя имеет выигрышную стратегию, причём одновременно выполняются два условия:<br/>– Петя не может выиграть за один ход;<br/>– Петя может выиграть своим вторым ходом независимо от того, как будет ходить Ваня.<br/>Найденные значения запишите в ответе в порядке возрастания.<br/>&nbsp;&nbsp;<b>Вопрос 3.</b> Найдите значение S, при котором одновременно выполняются два условия:<br/>– у Вани есть выигрышная стратегия, позволяющая ему выиграть первым или вторым ходом при любой игре Пети;<br/>– у Вани нет стратегии, которая позволит ему гарантированно выиграть первым ходом.') );\n",
    "  </script> (Е. Джобс) Два игрока, Петя и Ваня, играют в следующую игру. Перед игроками лежит куча камней. Игроки ходят по очереди, первый ход делает Петя. За один ход игрок может добавить в кучу четыре камня или увеличить количество камней в куче в два раза. Чтобы делать ходы, у каждого игрока есть неограниченное количество камней. Игра завершается, когда количество камней в куче становится не менее 20. Если при этом в куче оказалось не более 26 камней, то победителем считается игрок, сделавший последний ход. В противном случае победителем становится его противник (при этом победа учитывается как ход противника). В начальный момент в куче было S камней, 1 ≤ S ≤ 19.<br>Ответьте на следующие вопросы:<br>&nbsp;&nbsp;<b>Вопрос 1.</b>Найдите минимальное значение S, при котором Петя не может выиграть за один ход, но Ваня может выиграть своим первым ходом после любого хода Пети.<br>&nbsp;&nbsp;<b>Вопрос 2.</b> Найдите наименьшее и наибольшее значения S, когда Петя имеет выигрышную стратегию, причём одновременно выполняются два условия:<br>– Петя не может выиграть за один ход;<br>– Петя может выиграть своим вторым ходом независимо от того, как будет ходить Ваня.<br>Найденные значения запишите в ответе в порядке возрастания.<br>&nbsp;&nbsp;<b>Вопрос 3.</b> Найдите значение S, при котором одновременно выполняются два условия:<br>– у Вани есть выигрышная стратегия, позволяющая ему выиграть первым или вторым ходом при любой игре Пети;<br>– у Вани нет стратегии, которая позволит ему гарантированно выиграть первым ходом.\n",
    "  </td>"
   ]
  },
  {
   "cell_type": "markdown",
   "metadata": {},
   "source": [
    "<h2><details>\n",
    "\t<summary>Ответ</summary>\n",
    "    1) 6<br>\n",
    "2) 2 7<br>\n",
    "3) 1<br>\n",
    "</details></h2>"
   ]
  }
 ],
 "metadata": {
  "language_info": {
   "name": "python"
  }
 },
 "nbformat": 4,
 "nbformat_minor": 2
}
