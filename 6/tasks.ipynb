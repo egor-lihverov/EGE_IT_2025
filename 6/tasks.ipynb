{
 "cells": [
  {
   "cell_type": "markdown",
   "metadata": {},
   "source": [
    "<image src='./2024-11-18_19-26-32.png'>"
   ]
  },
  {
   "cell_type": "markdown",
   "metadata": {},
   "source": [
    "Пример"
   ]
  },
  {
   "cell_type": "code",
   "execution_count": 44,
   "metadata": {},
   "outputs": [],
   "source": [
    "import turtle as t\n",
    "\n",
    "k = 20  # масштаб\n",
    "\n",
    "t.screensize(800, 800)\n",
    "t.speed(1000)  # скорость отрисовки\n",
    "\n",
    "\n",
    "def make_grid():  # рисуем сетку, чтобы было понятно сколько клеток\n",
    "\tt.color((0, 1, 0))\n",
    "\n",
    "\tfor i in range(20):\n",
    "\t\tt.up() \n",
    "\t\tt.goto(k * i, -10 * k)\n",
    "\t\tt.down()\n",
    "\t\tt.goto(k * i, 50 * k)\n",
    "\n",
    "\tfor i in range(20):\n",
    "\t\tt.up() \n",
    "\t\tt.goto(-10 * k, k * i)\n",
    "\t\tt.down()\n",
    "\t\tt.goto(50 * k, k * i)\n",
    "\tt.up()   \n",
    "\tt.goto(0, 0)\n",
    "\tt.color((0, 0, 0))\n",
    "\tt.down()  \n",
    " \n",
    "make_grid()\n",
    "\n",
    "\n",
    "\n",
    "t.left(90)  # развернуть Черепаху \"вверх\"\n",
    "for i in range(9):\n",
    "    t.forward(22 * k)\n",
    "    t.right(90)\n",
    "    t.forward(6 * k)\n",
    "    t.right(90)\n",
    "    \n",
    "t.up()  # «подними перо»\n",
    "\n",
    "t.forward(k)\n",
    "t.right(90)\n",
    "t.forward(5 * k)\n",
    "t.right(90)\n",
    "\n",
    "t.down()  # опускаем перо\n",
    "\n",
    "for i in range(9):\n",
    "    t.forward(53 * k)\n",
    "    t.right(90)\n",
    "    t.forward(75 * k)\n",
    "    t.right(90)\n",
    "\n",
    "\n",
    "t.exitonclick()"
   ]
  },
  {
   "cell_type": "markdown",
   "metadata": {},
   "source": [
    "<div class=\"Markdown-module__Markdown--f5ALc TasksBankTaskCard-module__TaskCardContentMarkdown--hsXqP\"><p>Исполнитель Черепаха действует на&nbsp;плоскости с&nbsp;декартовой системой координат. В&nbsp;начальный момент Черепаха находится в&nbsp;начале координат, её&nbsp;голова направлена вдоль положительного направления оси ординат, хвост опущен. При опущенном хвосте Черепаха оставляет на&nbsp;поле след в&nbsp;виде линии. В&nbsp;каждый конкретный момент известно положение исполнителя и&nbsp;направление его движения.</p>\n",
    "<p>У исполнителя существует 6 команд:<br>\n",
    "<strong>Поднять хвост</strong>, означающая переход к перемещению без рисования;<br>\n",
    "<strong>Опустить хвост</strong>, означающая переход в режим рисования;<br>\n",
    "<strong>Вперёд n</strong> (где n&nbsp;— целое число), вызывающая передвижение Черепахи на n единиц в том направлении, куда указывает её голова;<br>\n",
    "<strong>Назад n</strong> (где n&nbsp;— целое число), вызывающая передвижение в противоположном голове направлении;<br>\n",
    "<strong>Направо m</strong> (где m&nbsp;— целое число), вызывающая изменение направления движения на m градусов по часовой стрелке;<br>\n",
    "<strong>Налево m</strong> (где m&nbsp;— целое число), вызывающая изменение направления движения на m градусов против часовой стрелки.</p>\n",
    "<p>Запись <strong>Повтори k [Команда1 Команда2 ... КомандаS]</strong> означает, что последовательность из S команд повторится k раз.</p>\n",
    "<p>Черепахе был дан для исполнения следующий алгоритм:<br>\n",
    "<strong>Налево 40</strong><br>\n",
    "<strong>Повтори 5 [Налево 95 Вперёд 12 Налево 45 Вперёд 8 Налево 40]</strong></p>\n",
    "<p>Определите, сколько точек с&nbsp;целочисленными координатами будут находиться внутри полученного контура. Точки на&nbsp;линии не&nbsp;следует учитывать.</p></div>"
   ]
  },
  {
   "cell_type": "markdown",
   "metadata": {},
   "source": [
    "56"
   ]
  },
  {
   "cell_type": "code",
   "execution_count": 3,
   "metadata": {},
   "outputs": [],
   "source": [
    "from turtle import *\n",
    "\n",
    "\n",
    "screensize(500, 500)\n",
    "tracer(1, 0)\n",
    "\n",
    "k = 20\n",
    "\n",
    "# grid draw begin\n",
    "up()\n",
    "for i in range(-20, 20):\n",
    "    for j in range(-20, 20):\n",
    "        goto(i * k, j * k)\n",
    "        dot(3, (0, 0, 1))\n",
    "# grid draw end\n",
    "\n",
    "goto(0, 0)\n",
    "left(90)\n",
    "width(3)\n",
    "down()\n",
    "# color((0, 0, 0))\n",
    "color(\"black\")\n",
    "\n",
    "\n",
    "left(40)\n",
    "for i in range(5):\n",
    "    left(95)\n",
    "    forward(k * 12)\n",
    "    left(45)\n",
    "    forward(k * 8)\n",
    "    left(40)\n",
    "\n",
    "exitonclick()"
   ]
  },
  {
   "cell_type": "markdown",
   "metadata": {},
   "source": [
    "<div class=\"Markdown-module__Markdown--f5ALc TasksBankTaskCard-module__TaskCardContentMarkdown--hsXqP\"><p>Исполнитель Черепаха действует на&nbsp;плоскости с&nbsp;декартовой системой координат. В&nbsp;начальный момент Черепаха находится в&nbsp;начале координат, её&nbsp;голова направлена вдоль положительного направления оси ординат, хвост опущен. При опущенном хвосте Черепаха оставляет на&nbsp;поле след в&nbsp;виде линии. В&nbsp;каждый конкретный момент известно положение исполнителя и&nbsp;направление его движения.У исполнителя существует 6 команд:</p>\n",
    "<p><strong><code>Поднять хвост</code></strong>, означающая переход к перемещению без рисования;\n",
    "<strong><code>Опустить хвост</code></strong>, означающая переход в режим рисования;\n",
    "<strong><code>Вперёд n</code></strong> (где n&nbsp;— целое число), вызывающая передвижение Черепахи на n единиц в том направлении, куда указывает её голова;\n",
    "<strong><code>Назад n</code></strong> (где n&nbsp;— целое число), вызывающая передвижение в противоположном голове направлении;\n",
    "<strong><code>Направо m</code></strong> (где m&nbsp;— целое число), вызывающая изменение направления движения на m градусов по часовой стрелке,\n",
    "<strong><code>Налево m</code></strong> (где m&nbsp;— целое число), вызывающая изменение направления движения на m градусов против часовой стрелки.</p>\n",
    "<p>Запись <strong><code>Повтори k [Команда1 Команда2 ... КомандаS]</code></strong> означает, что последовательность из S команд повторится k раз.</p>\n",
    "<p>Черепахе был дан для исполнения следующий <strong>алгоритм</strong>:</p>\n",
    "<pre><code>Налево 15\n",
    "Повтори 7 [Налево 30 Вперёд 10 Налево 60]\n",
    "</code></pre>\n",
    "<p>Определите, сколько точек с целочисленными координатами будут находиться внутри полученного контура. Точки на&nbsp;линиях учитывать не&nbsp;следует.</p></div>"
   ]
  },
  {
   "cell_type": "markdown",
   "metadata": {},
   "source": [
    "98"
   ]
  },
  {
   "cell_type": "code",
   "execution_count": null,
   "metadata": {},
   "outputs": [],
   "source": [
    "from turtle import *\n",
    "\n",
    "\n",
    "screensize(300, 300)\n",
    "tracer(1, 0)\n",
    "\n",
    "k = 50\n",
    "\n",
    "# grid draw begin\n",
    "up()\n",
    "for i in range(-20, 20):\n",
    "    for j in range(-20, 20):\n",
    "        goto(i * k, j * k)\n",
    "        dot(2, (0, 0, 1))\n",
    "# grid draw end\n",
    "\n",
    "goto(0, 0)\n",
    "\n",
    "left(90)\n",
    "width(1)\n",
    "down()\n",
    "\n",
    "color((0, 0, 0))\n",
    "left(15)\n",
    "for i in range(7):\n",
    "    left(30)\n",
    "    forward(k * 10)\n",
    "    left(60)\n",
    "\n",
    "exitonclick()"
   ]
  },
  {
   "cell_type": "markdown",
   "metadata": {},
   "source": [
    "<div class=\"Markdown-module__Markdown--f5ALc TasksBankTaskCard-module__TaskCardContentMarkdown--hsXqP\"><p>Исполнитель Черепаха действует на&nbsp;плоскости с&nbsp;декартовой системой координат. В&nbsp;начальный момент Черепаха находится в&nbsp;начале координат, её&nbsp;голова направлена вдоль положительного направления оси ординат, хвост опущен. При опущенном хвосте Черепаха оставляет на&nbsp;поле след в&nbsp;виде линии. В&nbsp;каждый конкретный момент известно положение исполнителя и&nbsp;направление его движения. У&nbsp;исполнителя существует две команды:<br>\n",
    "<strong>Вперёд&nbsp;n</strong> (где n&nbsp;— целое число), вызывающая передвижение Черепахи на&nbsp;n&nbsp;единиц в&nbsp;том направлении, куда указывает её&nbsp;голова,<br>\n",
    "<strong>Направо m</strong>&nbsp;(где m&nbsp;— целое число), вызывающая изменение направления движения на&nbsp;m&nbsp;градусов по&nbsp;часовой стрелке.<br>\n",
    "Запись Повтори k&nbsp;[Команда1 Команда2 … КомандаS] означает, что последовательность из&nbsp;S&nbsp;команд повторится k&nbsp;раз.<br>\n",
    "Черепахе был дан для исполнения следующий алгоритм:</p>\n",
    "<p><strong>Вперёд 9 Направо 90</strong><br>\n",
    "<strong>Повтори 2 [Вперёд 3 Направо 90 Вперёд 3 Направо 270]</strong><br>\n",
    "<strong>Повтори 2 [Вперёд 3 Направо 90]</strong><br>\n",
    "<strong>Вперёд 9</strong></p>\n",
    "<p>Определите, сколько точек с&nbsp;целочисленными координатами будут находиться внутри области, ограниченной линией, заданной данным алгоритмом. Точки на&nbsp;линии следует учитывать.</p></div>"
   ]
  },
  {
   "cell_type": "markdown",
   "metadata": {},
   "source": [
    "73"
   ]
  },
  {
   "cell_type": "code",
   "execution_count": 17,
   "metadata": {},
   "outputs": [],
   "source": [
    "from turtle import *\n",
    "\n",
    "\n",
    "screensize(500, 500)\n",
    "tracer(1, 0)\n",
    "\n",
    "k = 50\n",
    "\n",
    "# grid draw begin\n",
    "up()\n",
    "for i in range(-20, 20):\n",
    "    for j in range(-20, 20):\n",
    "        goto(i * k, j * k)\n",
    "        dot(3, (0, 0, 1))\n",
    "# grid draw end\n",
    "\n",
    "\n",
    "goto(0, 0)\n",
    "left(90)\n",
    "width(3)\n",
    "down()\n",
    "\n",
    "color((0, 0, 0))\n",
    "forward(k * 9)\n",
    "right(90)\n",
    "for i in range(2):\n",
    "    forward(k * 3)\n",
    "    right(90)\n",
    "    forward(k * 3)\n",
    "    right(270)\n",
    "    \n",
    "for i in range(2):\n",
    "    forward(k * 3)\n",
    "    right(90)\n",
    "    \n",
    "forward(k * 9)\n",
    "exitonclick()"
   ]
  },
  {
   "cell_type": "markdown",
   "metadata": {},
   "source": [
    "<div class=\"Markdown-module__Markdown--f5ALc TasksBankTaskCard-module__TaskCardContentMarkdown--hsXqP\"><p>Исполнитель Черепаха действует на&nbsp;плоскости с&nbsp;декартовой системой координат. В&nbsp;начальный момент Черепаха находится в&nbsp;начале координат, её&nbsp;голова направлена вдоль положительного направления оси ординат, хвост опущен. При опущенном хвосте Черепаха оставляет на&nbsp;поле след в&nbsp;виде линии. В&nbsp;каждый конкретный момент известно положение исполнителя и&nbsp;направление его движения.</p>\n",
    "<p>У исполнителя существует 6 команд:<br>\n",
    "<strong>Поднять хвост</strong>, означающая переход к перемещению без рисования;<br>\n",
    "<strong>Опустить хвост</strong>, означающая переход в режим рисования;<br>\n",
    "<strong>Вперёд n</strong> (где n&nbsp;— целое число), вызывающая передвижение Черепахи на n единиц в том направлении, куда указывает её голова;<br>\n",
    "<strong>Назад n</strong> (где n&nbsp;— целое число), вызывающая передвижение в противоположном голове направлении;<br>\n",
    "<strong>Направо m</strong> (где m&nbsp;— целое число), вызывающая изменение направления движения на m градусов по часовой стрелке;<br>\n",
    "<strong>Налево m</strong> (где m&nbsp;— целое число), вызывающая изменение направления движения на m градусов против часовой стрелки.</p>\n",
    "<p>Запись <strong>Повтори k [Команда1 Команда2 ... КомандаS]</strong> означает, что последовательность из S команд повторится k раз.</p>\n",
    "<p>Черепахе был дан для исполнения следующий алгоритм:<br>\n",
    "<strong>Налево 40</strong><br>\n",
    "<strong>Повтори 5 [Налево 95 Вперёд 12 Налево 45 Вперёд 8 Налево 40]</strong></p>\n",
    "<p>Определите, сколько точек с&nbsp;целочисленными координатами будут находиться внутри полученного контура. Точки на&nbsp;линии не&nbsp;следует учитывать.</p></div>"
   ]
  },
  {
   "cell_type": "markdown",
   "metadata": {},
   "source": [
    "56"
   ]
  },
  {
   "cell_type": "markdown",
   "metadata": {},
   "source": [
    "<div class=\"Markdown-module__Markdown--f5ALc TasksBankTaskCard-module__TaskCardContentMarkdown--hsXqP\"><p>Исполнитель Черепаха действует на&nbsp;плоскости с&nbsp;декартовой системой координат. В&nbsp;начальный момент Черепаха находится в&nbsp;начале координат, её&nbsp;голова направлена вдоль положительного направления оси ординат, хвост опущен. При опущенном хвосте Черепаха оставляет на&nbsp;поле след в&nbsp;виде линии. В&nbsp;каждый конкретный момент известно положение исполнителя и&nbsp;направление его движения.\n",
    "У исполнителя существует 6&nbsp;команд:<br>\n",
    "<strong>Поднять хвост</strong>, означающая переход к&nbsp;перемещению без&nbsp;рисования;<br>\n",
    "<strong>Опустить хвост</strong>, означающая переход в режим рисования;<br>\n",
    "<strong>Вперёд n</strong> (где&nbsp;n&nbsp;— целое число), вызывающая передвижение Черепахи на&nbsp;n&nbsp;единиц в&nbsp;том направлении, куда указывает её голова;<br>\n",
    "<strong>Назад n</strong> (где&nbsp;n&nbsp;— целое число), вызывающая передвижение в&nbsp;противоположном голове направлении;<br>\n",
    "<strong>Направо m</strong> (где&nbsp;m&nbsp;— целое число), вызывающая изменение направления движения на&nbsp;m градусов по&nbsp;часовой стрелке;<br>\n",
    "<strong>Налево m</strong> (где&nbsp;m&nbsp;— целое число), вызывающая изменение направления движения на&nbsp;m&nbsp;градусов против часовой стрелки.</p>\n",
    "<p>Запись<br>\n",
    "<strong>Повтори k [Команда1 Команда2 ... КомандаS]</strong><br>\n",
    "означает, что последовательность из&nbsp;S команд повторится k&nbsp;раз.</p>\n",
    "<p>Черепахе был дан для исполнения следующий <strong>алгоритм</strong>:<br>\n",
    "<strong>Повтори 2 [Вперёд 7 Направо 90 Вперёд 18 Направо 90]</strong><br>\n",
    "<strong>Поднять хвост</strong><br>\n",
    "<strong>Назад -2 Направо 90 Вперёд 9 Налево 90</strong><br>\n",
    "<strong>Опустить хвост</strong><br>\n",
    "<strong>Повтори 3 [Вперёд 8 Направо 120]</strong></p>\n",
    "<p>Определите, сколько точек с&nbsp;целочисленными координатами будут находиться внутри пересечения фигур, ограниченных заданными алгоритмом линиями, включая точки на&nbsp;линиях.</p></div>"
   ]
  },
  {
   "cell_type": "markdown",
   "metadata": {},
   "source": [
    "26"
   ]
  },
  {
   "cell_type": "markdown",
   "metadata": {},
   "source": [
    "<div class=\"Markdown-module__Markdown--f5ALc TasksBankTaskCard-module__TaskCardContentMarkdown--hsXqP\"><p>Исполнитель Черепаха действует на&nbsp;плоскости в&nbsp;декартовой системе координат и&nbsp;передвигается по&nbsp;плоскости, оставляя след своим хвостом в&nbsp;виде линии.</p>\n",
    "<p>Черепаха может выполнять команды: <strong>Вперёд</strong> <em>n</em> (n&nbsp;— число), <strong>Налево m</strong> (m&nbsp;— число). По&nbsp;команде <strong>Вперёд n</strong> Черепаха перемещается вперёд наn единиц. По&nbsp;команде <strong>Налево m</strong> Черепаха поворачивается на&nbsp;месте на&nbsp;m&nbsp;градусов против часовой стрелки, при этом соответственно меняется направление дальнейшего движения. В&nbsp;начальный момент Черепаха находится в&nbsp;начале координат и&nbsp;направлена вверх (вдоль положительного направления оси ординат).</p>\n",
    "<p>Запись <strong>Повтори k&nbsp;[Команда1 Команда2 … КомандаS]</strong> означает, что заданная последовательность из&nbsp;S&nbsp;команд повторится k&nbsp;раз.</p>\n",
    "<p>Черепаха выполнила следующую программу:</p>\n",
    "<p><strong>Налево 255</strong><br>\n",
    "<strong>Повтори 3 [Налево 30 Повтори 4 [Вперёд 10 Налево 90]]</strong></p>\n",
    "<p>Определите, общее количество различных точек с&nbsp;целочисленными координатами, которые будут находиться на&nbsp;пересечении только двух фигур, полученных при выполнении данной программы. Точки на&nbsp;линиях учитывать не&nbsp;следует.</p></div>"
   ]
  },
  {
   "cell_type": "markdown",
   "metadata": {},
   "source": [
    "56"
   ]
  },
  {
   "cell_type": "code",
   "execution_count": 3,
   "metadata": {},
   "outputs": [],
   "source": [
    "from turtle import *\n",
    "\n",
    "\n",
    "screensize(500, 500)\n",
    "tracer(1, 0)\n",
    "\n",
    "k = 70\n",
    "\n",
    "# grid draw begin\n",
    "up()\n",
    "for i in range(-20, 20):\n",
    "    for j in range(-20, 20):\n",
    "        goto(i * k, j * k)\n",
    "        dot(4, (0, 0, 1))\n",
    "# grid draw end\n",
    "\n",
    "\n",
    "goto(0, 0)\n",
    "left(90)\n",
    "width(1)\n",
    "down()\n",
    "color((0, 0, 0))\n",
    "\n",
    "\n",
    "left(255)\n",
    "for i in range(3):\n",
    "    left(30)\n",
    "    for j in range(4):\n",
    "        forward(k * 10)\n",
    "        right(90)\n",
    "\n",
    "exitonclick()"
   ]
  },
  {
   "cell_type": "markdown",
   "metadata": {},
   "source": [
    "<div class=\"Markdown-module__Markdown--f5ALc TasksBankTaskCard-module__TaskCardContentMarkdown--hsXqP\"><p>Исполнитель Черепаха действует на&nbsp;плоскости с&nbsp;декартовой системой координат. В&nbsp;начальный момент Черепаха находится в&nbsp;начале координат, её&nbsp;голова направлена вдоль положительного направления оси ординат, хвост опущен. При опущенном хвосте Черепаха оставляет на&nbsp;поле след в&nbsp;виде линии. В&nbsp;каждый конкретный момент известно положение исполнителя и&nbsp;направление его движения.</p>\n",
    "<p>У исполнителя существует две команды:<br>\n",
    "<strong>Вперёд <span class=\"math math-inline\"><span class=\"katex\"><span class=\"katex-mathml\"><math xmlns=\"http://www.w3.org/1998/Math/MathML\"><semantics><mrow><mi>n</mi></mrow><annotation encoding=\"application/x-tex\">n</annotation></semantics></math></span><span class=\"katex-html\" aria-hidden=\"true\"><span class=\"base\"><span class=\"strut\" style=\"height: 0.4306em;\"></span><span class=\"mord mathnormal\">n</span></span></span></span></span></strong> (где <span class=\"math math-inline\"><span class=\"katex\"><span class=\"katex-mathml\"><math xmlns=\"http://www.w3.org/1998/Math/MathML\"><semantics><mrow><mi>n</mi></mrow><annotation encoding=\"application/x-tex\">n</annotation></semantics></math></span><span class=\"katex-html\" aria-hidden=\"true\"><span class=\"base\"><span class=\"strut\" style=\"height: 0.4306em;\"></span><span class=\"mord mathnormal\">n</span></span></span></span></span> — действительное число), вызывающая передвижение Черепахи на <span class=\"math math-inline\"><span class=\"katex\"><span class=\"katex-mathml\"><math xmlns=\"http://www.w3.org/1998/Math/MathML\"><semantics><mrow><mi>n</mi></mrow><annotation encoding=\"application/x-tex\">n</annotation></semantics></math></span><span class=\"katex-html\" aria-hidden=\"true\"><span class=\"base\"><span class=\"strut\" style=\"height: 0.4306em;\"></span><span class=\"mord mathnormal\">n</span></span></span></span></span> единиц в&nbsp;том направлении, куда указывает её голова, и&nbsp;<strong>Направо <span class=\"math math-inline\"><span class=\"katex\"><span class=\"katex-mathml\"><math xmlns=\"http://www.w3.org/1998/Math/MathML\"><semantics><mrow><mi>m</mi></mrow><annotation encoding=\"application/x-tex\">m</annotation></semantics></math></span><span class=\"katex-html\" aria-hidden=\"true\"><span class=\"base\"><span class=\"strut\" style=\"height: 0.4306em;\"></span><span class=\"mord mathnormal\">m</span></span></span></span></span></strong> (где <span class=\"math math-inline\"><span class=\"katex\"><span class=\"katex-mathml\"><math xmlns=\"http://www.w3.org/1998/Math/MathML\"><semantics><mrow><mi>m</mi></mrow><annotation encoding=\"application/x-tex\">m</annotation></semantics></math></span><span class=\"katex-html\" aria-hidden=\"true\"><span class=\"base\"><span class=\"strut\" style=\"height: 0.4306em;\"></span><span class=\"mord mathnormal\">m</span></span></span></span></span> — целое число), вызывающая изменение направления движения на <span class=\"math math-inline\"><span class=\"katex\"><span class=\"katex-mathml\"><math xmlns=\"http://www.w3.org/1998/Math/MathML\"><semantics><mrow><mi>m</mi></mrow><annotation encoding=\"application/x-tex\">m</annotation></semantics></math></span><span class=\"katex-html\" aria-hidden=\"true\"><span class=\"base\"><span class=\"strut\" style=\"height: 0.4306em;\"></span><span class=\"mord mathnormal\">m</span></span></span></span></span> градусов по часовой стрелке.</p>\n",
    "<p>Запись <strong>Повтори <span class=\"math math-inline\"><span class=\"katex\"><span class=\"katex-mathml\"><math xmlns=\"http://www.w3.org/1998/Math/MathML\"><semantics><mrow><mi>k</mi></mrow><annotation encoding=\"application/x-tex\">k</annotation></semantics></math></span><span class=\"katex-html\" aria-hidden=\"true\"><span class=\"base\"><span class=\"strut\" style=\"height: 0.6944em;\"></span><span class=\"mord mathnormal\" style=\"margin-right: 0.03148em;\">k</span></span></span></span></span></strong> [Команда 1 Команда 2 ... Команда <span class=\"math math-inline\"><span class=\"katex\"><span class=\"katex-mathml\"><math xmlns=\"http://www.w3.org/1998/Math/MathML\"><semantics><mrow><mi>S</mi></mrow><annotation encoding=\"application/x-tex\">S</annotation></semantics></math></span><span class=\"katex-html\" aria-hidden=\"true\"><span class=\"base\"><span class=\"strut\" style=\"height: 0.6833em;\"></span><span class=\"mord mathnormal\" style=\"margin-right: 0.05764em;\">S</span></span></span></span></span>] означает, что последовательность из <span class=\"math math-inline\"><span class=\"katex\"><span class=\"katex-mathml\"><math xmlns=\"http://www.w3.org/1998/Math/MathML\"><semantics><mrow><mi>S</mi></mrow><annotation encoding=\"application/x-tex\">S</annotation></semantics></math></span><span class=\"katex-html\" aria-hidden=\"true\"><span class=\"base\"><span class=\"strut\" style=\"height: 0.6833em;\"></span><span class=\"mord mathnormal\" style=\"margin-right: 0.05764em;\">S</span></span></span></span></span> команд повторится <span class=\"math math-inline\"><span class=\"katex\"><span class=\"katex-mathml\"><math xmlns=\"http://www.w3.org/1998/Math/MathML\"><semantics><mrow><mi>k</mi></mrow><annotation encoding=\"application/x-tex\">k</annotation></semantics></math></span><span class=\"katex-html\" aria-hidden=\"true\"><span class=\"base\"><span class=\"strut\" style=\"height: 0.6944em;\"></span><span class=\"mord mathnormal\" style=\"margin-right: 0.03148em;\">k</span></span></span></span></span> раз.</p>\n",
    "<p>Черепахе был дан для исполнения следующий алгоритм:</p>\n",
    "<p><strong>Направо 60 Вперёд 4 Направо 120</strong><br>\n",
    "<strong>Повтори 4 [Вперёд 3 Направо 240 Вперёд 3 Направо 120]</strong><br>\n",
    "<strong>Вперёд 4 Направо 90 Вперёд <span class=\"math math-inline\"><span class=\"katex\"><span class=\"katex-mathml\"><math xmlns=\"http://www.w3.org/1998/Math/MathML\"><semantics><mrow><mn>8</mn><msqrt><mn>3</mn></msqrt></mrow><annotation encoding=\"application/x-tex\">8 \\sqrt{3}</annotation></semantics></math></span><span class=\"katex-html\" aria-hidden=\"true\"><span class=\"base\"><span class=\"strut\" style=\"height: 1.04em; vertical-align: -0.1328em;\"></span><span class=\"mord\">8</span><span class=\"mord sqrt\"><span class=\"vlist-t vlist-t2\"><span class=\"vlist-r\"><span class=\"vlist\" style=\"height: 0.9072em;\"><span class=\"svg-align\" style=\"top: -3em;\"><span class=\"pstrut\" style=\"height: 3em;\"></span><span class=\"mord\" style=\"padding-left: 0.833em;\"><span class=\"mord\">3</span></span></span><span style=\"top: -2.8672em;\"><span class=\"pstrut\" style=\"height: 3em;\"></span><span class=\"hide-tail\" style=\"min-width: 0.853em; height: 1.08em;\"><svg xmlns=\"http://www.w3.org/2000/svg\" width=\"400em\" height=\"1.08em\" viewBox=\"0 0 400000 1080\" preserveAspectRatio=\"xMinYMin slice\"><path d=\"M95,702\n",
    "c-2.7,0,-7.17,-2.7,-13.5,-8c-5.8,-5.3,-9.5,-10,-9.5,-14\n",
    "c0,-2,0.3,-3.3,1,-4c1.3,-2.7,23.83,-20.7,67.5,-54\n",
    "c44.2,-33.3,65.8,-50.3,66.5,-51c1.3,-1.3,3,-2,5,-2c4.7,0,8.7,3.3,12,10\n",
    "s173,378,173,378c0.7,0,35.3,-71,104,-213c68.7,-142,137.5,-285,206.5,-429\n",
    "c69,-144,104.5,-217.7,106.5,-221\n",
    "l0 -0\n",
    "c5.3,-9.3,12,-14,20,-14\n",
    "H400000v40H845.2724\n",
    "s-225.272,467,-225.272,467s-235,486,-235,486c-2.7,4.7,-9,7,-19,7\n",
    "c-6,0,-10,-1,-12,-3s-194,-422,-194,-422s-65,47,-65,47z\n",
    "M834 80h400000v40h-400000z\"></path></svg></span></span></span><span class=\"vlist-s\">&ZeroWidthSpace;</span></span><span class=\"vlist-r\"><span class=\"vlist\" style=\"height: 0.1328em;\"><span></span></span></span></span></span></span></span></span></span> Направо 90 Вперёд 8</strong>.</p>\n",
    "<p>Определите, сколько точек с&nbsp;целочисленными координатами будут находиться внутри области, ограниченной линией, заданной данным алгоритмом. Точки на&nbsp;линии учитывать не&nbsp;следует.</p></div>"
   ]
  },
  {
   "cell_type": "markdown",
   "metadata": {},
   "source": [
    "78"
   ]
  },
  {
   "cell_type": "code",
   "execution_count": 2,
   "metadata": {},
   "outputs": [
    {
     "ename": "Terminator",
     "evalue": "",
     "output_type": "error",
     "traceback": [
      "\u001b[0;31m---------------------------------------------------------------------------\u001b[0m",
      "\u001b[0;31mTclError\u001b[0m                                  Traceback (most recent call last)",
      "File \u001b[0;32m<string>:8\u001b[0m, in \u001b[0;36mforward\u001b[0;34m(distance)\u001b[0m\n",
      "File \u001b[0;32m/usr/lib/python3.10/turtle.py:1637\u001b[0m, in \u001b[0;36mTNavigator.forward\u001b[0;34m(self, distance)\u001b[0m\n\u001b[1;32m   1617\u001b[0m \u001b[38;5;250m\u001b[39m\u001b[38;5;124;03m\"\"\"Move the turtle forward by the specified distance.\u001b[39;00m\n\u001b[1;32m   1618\u001b[0m \n\u001b[1;32m   1619\u001b[0m \u001b[38;5;124;03mAliases: forward | fd\u001b[39;00m\n\u001b[0;32m   (...)\u001b[0m\n\u001b[1;32m   1635\u001b[0m \u001b[38;5;124;03m(-50.00,0.00)\u001b[39;00m\n\u001b[1;32m   1636\u001b[0m \u001b[38;5;124;03m\"\"\"\u001b[39;00m\n\u001b[0;32m-> 1637\u001b[0m \u001b[38;5;28;43mself\u001b[39;49m\u001b[38;5;241;43m.\u001b[39;49m\u001b[43m_go\u001b[49m\u001b[43m(\u001b[49m\u001b[43mdistance\u001b[49m\u001b[43m)\u001b[49m\n",
      "File \u001b[0;32m/usr/lib/python3.10/turtle.py:1605\u001b[0m, in \u001b[0;36mTNavigator._go\u001b[0;34m(self, distance)\u001b[0m\n\u001b[1;32m   1604\u001b[0m ende \u001b[38;5;241m=\u001b[39m \u001b[38;5;28mself\u001b[39m\u001b[38;5;241m.\u001b[39m_position \u001b[38;5;241m+\u001b[39m \u001b[38;5;28mself\u001b[39m\u001b[38;5;241m.\u001b[39m_orient \u001b[38;5;241m*\u001b[39m distance\n\u001b[0;32m-> 1605\u001b[0m \u001b[38;5;28;43mself\u001b[39;49m\u001b[38;5;241;43m.\u001b[39;49m\u001b[43m_goto\u001b[49m\u001b[43m(\u001b[49m\u001b[43mende\u001b[49m\u001b[43m)\u001b[49m\n",
      "File \u001b[0;32m/usr/lib/python3.10/turtle.py:3177\u001b[0m, in \u001b[0;36mRawTurtle._goto\u001b[0;34m(self, end)\u001b[0m\n\u001b[1;32m   3176\u001b[0m \u001b[38;5;28;01mif\u001b[39;00m \u001b[38;5;28mself\u001b[39m\u001b[38;5;241m.\u001b[39m_drawing:\n\u001b[0;32m-> 3177\u001b[0m     \u001b[43mscreen\u001b[49m\u001b[38;5;241;43m.\u001b[39;49m\u001b[43m_drawline\u001b[49m\u001b[43m(\u001b[49m\u001b[38;5;28;43mself\u001b[39;49m\u001b[38;5;241;43m.\u001b[39;49m\u001b[43mdrawingLineItem\u001b[49m\u001b[43m,\u001b[49m\n\u001b[1;32m   3178\u001b[0m \u001b[43m                     \u001b[49m\u001b[43m(\u001b[49m\u001b[43mstart\u001b[49m\u001b[43m,\u001b[49m\u001b[43m \u001b[49m\u001b[38;5;28;43mself\u001b[39;49m\u001b[38;5;241;43m.\u001b[39;49m\u001b[43m_position\u001b[49m\u001b[43m)\u001b[49m\u001b[43m,\u001b[49m\n\u001b[1;32m   3179\u001b[0m \u001b[43m                     \u001b[49m\u001b[38;5;28;43mself\u001b[39;49m\u001b[38;5;241;43m.\u001b[39;49m\u001b[43m_pencolor\u001b[49m\u001b[43m,\u001b[49m\u001b[43m \u001b[49m\u001b[38;5;28;43mself\u001b[39;49m\u001b[38;5;241;43m.\u001b[39;49m\u001b[43m_pensize\u001b[49m\u001b[43m,\u001b[49m\u001b[43m \u001b[49m\u001b[43mtop\u001b[49m\u001b[43m)\u001b[49m\n\u001b[1;32m   3180\u001b[0m \u001b[38;5;28mself\u001b[39m\u001b[38;5;241m.\u001b[39m_update()\n",
      "File \u001b[0;32m/usr/lib/python3.10/turtle.py:544\u001b[0m, in \u001b[0;36mTurtleScreenBase._drawline\u001b[0;34m(self, lineitem, coordlist, fill, width, top)\u001b[0m\n\u001b[1;32m    543\u001b[0m         cl\u001b[38;5;241m.\u001b[39mappend(\u001b[38;5;241m-\u001b[39my \u001b[38;5;241m*\u001b[39m \u001b[38;5;28mself\u001b[39m\u001b[38;5;241m.\u001b[39myscale)\n\u001b[0;32m--> 544\u001b[0m     \u001b[38;5;28;43mself\u001b[39;49m\u001b[38;5;241;43m.\u001b[39;49m\u001b[43mcv\u001b[49m\u001b[38;5;241;43m.\u001b[39;49m\u001b[43mcoords\u001b[49m\u001b[43m(\u001b[49m\u001b[43mlineitem\u001b[49m\u001b[43m,\u001b[49m\u001b[43m \u001b[49m\u001b[38;5;241;43m*\u001b[39;49m\u001b[43mcl\u001b[49m\u001b[43m)\u001b[49m\n\u001b[1;32m    545\u001b[0m \u001b[38;5;28;01mif\u001b[39;00m fill \u001b[38;5;129;01mis\u001b[39;00m \u001b[38;5;129;01mnot\u001b[39;00m \u001b[38;5;28;01mNone\u001b[39;00m:\n",
      "File \u001b[0;32m<string>:1\u001b[0m, in \u001b[0;36mcoords\u001b[0;34m(self, *args, **kw)\u001b[0m\n",
      "File \u001b[0;32m/usr/lib/python3.10/tkinter/__init__.py:2795\u001b[0m, in \u001b[0;36mCanvas.coords\u001b[0;34m(self, *args)\u001b[0m\n\u001b[1;32m   2792\u001b[0m \u001b[38;5;66;03m# XXX Should use _flatten on args\u001b[39;00m\n\u001b[1;32m   2793\u001b[0m \u001b[38;5;28;01mreturn\u001b[39;00m [\u001b[38;5;28mself\u001b[39m\u001b[38;5;241m.\u001b[39mtk\u001b[38;5;241m.\u001b[39mgetdouble(x) \u001b[38;5;28;01mfor\u001b[39;00m x \u001b[38;5;129;01min\u001b[39;00m\n\u001b[1;32m   2794\u001b[0m                    \u001b[38;5;28mself\u001b[39m\u001b[38;5;241m.\u001b[39mtk\u001b[38;5;241m.\u001b[39msplitlist(\n\u001b[0;32m-> 2795\u001b[0m            \u001b[38;5;28;43mself\u001b[39;49m\u001b[38;5;241;43m.\u001b[39;49m\u001b[43mtk\u001b[49m\u001b[38;5;241;43m.\u001b[39;49m\u001b[43mcall\u001b[49m\u001b[43m(\u001b[49m\u001b[43m(\u001b[49m\u001b[38;5;28;43mself\u001b[39;49m\u001b[38;5;241;43m.\u001b[39;49m\u001b[43m_w\u001b[49m\u001b[43m,\u001b[49m\u001b[43m \u001b[49m\u001b[38;5;124;43m'\u001b[39;49m\u001b[38;5;124;43mcoords\u001b[39;49m\u001b[38;5;124;43m'\u001b[39;49m\u001b[43m)\u001b[49m\u001b[43m \u001b[49m\u001b[38;5;241;43m+\u001b[39;49m\u001b[43m \u001b[49m\u001b[43margs\u001b[49m\u001b[43m)\u001b[49m)]\n",
      "\u001b[0;31mTclError\u001b[0m: invalid command name \".!canvas\"",
      "\nDuring handling of the above exception, another exception occurred:\n",
      "\u001b[0;31mTerminator\u001b[0m                                Traceback (most recent call last)",
      "Cell \u001b[0;32mIn[2], line 44\u001b[0m\n\u001b[1;32m     42\u001b[0m     forward(k \u001b[38;5;241m*\u001b[39m \u001b[38;5;241m20\u001b[39m)\n\u001b[1;32m     43\u001b[0m     right(\u001b[38;5;241m90\u001b[39m)\n\u001b[0;32m---> 44\u001b[0m     \u001b[43mforward\u001b[49m\u001b[43m(\u001b[49m\u001b[43mk\u001b[49m\u001b[43m \u001b[49m\u001b[38;5;241;43m*\u001b[39;49m\u001b[43m \u001b[49m\u001b[38;5;241;43m36\u001b[39;49m\u001b[43m)\u001b[49m\n\u001b[1;32m     46\u001b[0m exitonclick()\n",
      "File \u001b[0;32m<string>:12\u001b[0m, in \u001b[0;36mforward\u001b[0;34m(distance)\u001b[0m\n",
      "\u001b[0;31mTerminator\u001b[0m: "
     ]
    }
   ],
   "source": [
    "from turtle import *\n",
    "\n",
    "\n",
    "screensize(300, 300)\n",
    "tracer(1, 0)\n",
    "\n",
    "k = 20\n",
    "\n",
    "# grid draw begin\n",
    "up()\n",
    "for i in range(-20, 50):\n",
    "    for j in range(-20, 50):\n",
    "        goto(i * k, j * k)\n",
    "        dot(2, (0, 0, 1))\n",
    "# grid draw end\n",
    "\n",
    "goto(0, 0)\n",
    "\n",
    "left(90)\n",
    "width(1)\n",
    "down()\n",
    "\n",
    "color((0, 0, 0))\n",
    "\n",
    "for i in range(5):\n",
    "    forward(k * 35)\n",
    "    right(90)\n",
    "    forward(k * 24)\n",
    "    right(90)\n",
    "    \n",
    "up()\n",
    "\n",
    "right(90)\n",
    "forward(k * 7)\n",
    "right(90)\n",
    "forward(k * 5)\n",
    "\n",
    "down()\n",
    "    \n",
    "for i in range(1001):\n",
    "    right(90)\n",
    "    forward(k * 20)\n",
    "    right(90)\n",
    "    forward(k * 36)\n",
    "\n",
    "exitonclick()"
   ]
  }
 ],
 "metadata": {
  "kernelspec": {
   "display_name": "Python 3",
   "language": "python",
   "name": "python3"
  },
  "language_info": {
   "codemirror_mode": {
    "name": "ipython",
    "version": 3
   },
   "file_extension": ".py",
   "mimetype": "text/x-python",
   "name": "python",
   "nbconvert_exporter": "python",
   "pygments_lexer": "ipython3",
   "version": "3.10.12"
  }
 },
 "nbformat": 4,
 "nbformat_minor": 2
}
