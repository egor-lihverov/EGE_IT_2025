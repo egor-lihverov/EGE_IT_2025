{
 "cells": [
  {
   "cell_type": "markdown",
   "metadata": {},
   "source": [
    "<img src=\"./src/2024-11-08_18-31-14.png\"/>"
   ]
  },
  {
   "cell_type": "markdown",
   "metadata": {},
   "source": [
    "w x y z<br>\n",
    "**0 0 0 1 0**<br>\n",
    "**0 0 1 1 0**<br>\n",
    "**1 0 1 1 0**<br>"
   ]
  },
  {
   "cell_type": "code",
   "execution_count": null,
   "metadata": {},
   "outputs": [],
   "source": [
    "# z y w x"
   ]
  },
  {
   "cell_type": "markdown",
   "metadata": {},
   "source": [
    "((w -> y) -> x) v not(z)\n",
    "\n",
    "not(not(w) + y) + x + not(z)\n",
    "\n",
    "**w * not(y) + x + not(z)**"
   ]
  },
  {
   "cell_type": "code",
   "execution_count": null,
   "metadata": {},
   "outputs": [
    {
     "name": "stdout",
     "output_type": "stream",
     "text": [
      "w x y z\n",
      "0 0 0 0 1\n",
      "0 0 0 1 0\n",
      "0 0 1 0 1\n",
      "0 0 1 1 0\n",
      "0 1 0 0 1\n",
      "0 1 0 1 1\n",
      "0 1 1 0 1\n",
      "0 1 1 1 1\n",
      "1 0 0 0 1\n",
      "1 0 0 1 1\n",
      "1 0 1 0 1\n",
      "1 0 1 1 0\n",
      "1 1 0 0 1\n",
      "1 1 0 1 1\n",
      "1 1 1 0 1\n",
      "1 1 1 1 1\n"
     ]
    }
   ],
   "source": [
    "print(\"w x y z\")\n",
    "for w in (0, 1):\n",
    "    for x in (0, 1):\n",
    "        for y in (0, 1):\n",
    "            for z in (0, 1):\n",
    "                print(w, x, y, z, int(w and not(y) or x or not(z)))"
   ]
  },
  {
   "cell_type": "markdown",
   "metadata": {},
   "source": [
    "w x y z<br>\n",
    "**0 0 0 1 0**<br>\n",
    "**0 0 1 1 0**<br>\n",
    "**1 0 1 1 0**<br>"
   ]
  },
  {
   "cell_type": "code",
   "execution_count": null,
   "metadata": {},
   "outputs": [],
   "source": []
  },
  {
   "cell_type": "markdown",
   "metadata": {},
   "source": [
    "<img src=\"src/2024-11-08_18-33-22.png\"/>"
   ]
  },
  {
   "cell_type": "code",
   "execution_count": null,
   "metadata": {},
   "outputs": [
    {
     "data": {
      "text/plain": [
       "46691"
      ]
     },
     "metadata": {},
     "output_type": "display_data"
    }
   ],
   "source": [
    "int('100Z', 36)"
   ]
  },
  {
   "cell_type": "code",
   "execution_count": null,
   "metadata": {},
   "outputs": [
    {
     "name": "stdout",
     "output_type": "stream",
     "text": [
      "Число 100Z из системы счисления 36 в систему счисления 10 равно 46691\n"
     ]
    }
   ],
   "source": [
    "def convert_base(number, from_base, to_base):\n",
    "   \n",
    "    number = str(number) if isinstance(number, int) else number\n",
    "    \n",
    "    decimal = 0\n",
    "    \n",
    "    digits = \"0123456789ABCDEFGHIJKLMNOPQRSTUVWXYZ\"\n",
    "    result = \"\"\n",
    "    \n",
    "    \n",
    "    # Переводим число из системы счисления from_base в десятичную систему\n",
    "    for i, val in enumerate(str(number)[::-1]):\n",
    "        decimal += digits.index(val) *  from_base ** i\n",
    "    \n",
    "    \n",
    "    # Переводим число из десятичной системы в систему счисления to_base\n",
    "    while decimal > 0:\n",
    "        remainder = decimal % to_base\n",
    "        result = digits[remainder] + result\n",
    "        decimal //= to_base\n",
    "    \n",
    "    return result\n",
    "\n",
    "# Пример использования\n",
    "number = \"100Z\"  # Число в двоичной системе\n",
    "from_base = 36   # Исходная система счисления\n",
    "to_base = 10     # Целевая система счисления\n",
    "\n",
    "converted_number = convert_base(number, from_base, to_base)\n",
    "print(f\"Число {number} из системы счисления {from_base} в систему счисления {to_base} равно {converted_number}\")\n"
   ]
  },
  {
   "cell_type": "markdown",
   "metadata": {},
   "source": [
    "<img src=\"src/2024-11-08_18-33-11.png\" />"
   ]
  },
  {
   "cell_type": "code",
   "execution_count": null,
   "metadata": {},
   "outputs": [],
   "source": [
    "import turtle as t\n",
    "\n",
    "k = 20  # масштаб\n",
    "\n",
    "\n",
    "t.speed(1000)  # скорость отрисовки\n",
    "\n",
    "\n",
    "def make_grid():  # рисуем сетку, чтобы было понятно сколько клеток\n",
    "\tt.color((0, 1, 0))\n",
    "\n",
    "\tfor i in range(20):\n",
    "\t\tt.up() \n",
    "\t\tt.goto(k * i, -10 * k)\n",
    "\t\tt.down()\n",
    "\t\tt.goto(k * i, 50 * k)\n",
    "\n",
    "\tfor i in range(20):\n",
    "\t\tt.up() \n",
    "\t\tt.goto(-10 * k, k * i)\n",
    "\t\tt.down()\n",
    "\t\tt.goto(50 * k, k * i)\n",
    "\tt.up()   \n",
    "\tt.goto(0, 0)\n",
    "\tt.color((0, 0, 0))\n",
    "\tt.down()  \n",
    " \n",
    "make_grid()\n",
    "\n",
    "\n",
    "\n",
    "t.left(90)  # развернуть Черепаху \"вверх\"\n",
    "for i in range(9):\n",
    "    t.forward(22 * k)\n",
    "    t.right(90)\n",
    "    t.forward(6 * k)\n",
    "    t.right(90)\n",
    "    \n",
    "t.up()  # «подними перо»\n",
    "\n",
    "t.forward(k)\n",
    "t.right(90)\n",
    "t.forward(5 * k)\n",
    "t.right(90)\n",
    "\n",
    "t.down()  # опускаем перо\n",
    "\n",
    "for i in range(9):\n",
    "    t.forward(53 * k)\n",
    "    t.right(90)\n",
    "    t.forward(75 * k)\n",
    "    t.right(90)\n",
    "\n"
   ]
  },
  {
   "cell_type": "code",
   "execution_count": null,
   "metadata": {},
   "outputs": [],
   "source": [
    "#  7 задание\n",
    "\n",
    "\"\"\"\n",
    "4096 colors = 2 ^ 12 => 12 bit per color\n",
    "\n",
    "количество пикселей = 1024 * 768 = 786432\n",
    "\n",
    "всего битов в изображении = 1024 * 768 * 12 = 9437184\n",
    "\n",
    "целое число байт = 9437184 / 8 = 1179648 байт\n",
    "\n",
    "скорость передачи в Байт = 1310720 / 8 = 163840\n",
    "\n",
    "всего за 300 сек передастся = 163840 * 300 = 49152000 байт\n",
    "\n",
    "переведём в изображение = 49152000 / 1179648 = 41.6 => максимум 41 избражение\n",
    "\"\"\""
   ]
  },
  {
   "cell_type": "code",
   "execution_count": null,
   "metadata": {},
   "outputs": [
    {
     "data": {
      "text/plain": [
       "41.666666666666664"
      ]
     },
     "metadata": {},
     "output_type": "display_data"
    }
   ],
   "source": [
    "(1024 * 768 * 12) / 8\n",
    "1310720 / 8  * 300\n",
    "49152000 / 1179648"
   ]
  },
  {
   "cell_type": "code",
   "execution_count": null,
   "metadata": {},
   "outputs": [
    {
     "data": {
      "text/plain": [
       "67476"
      ]
     },
     "metadata": {},
     "output_type": "display_data"
    }
   ],
   "source": [
    "from itertools import product\n",
    "\n",
    "\n",
    "ans = 0\n",
    "for i in product(\"0123456789AB\", repeat=5):\n",
    "    if i[0] != '0':\n",
    "        f1 = i.count('7') == 1\n",
    "        cnt = 0\n",
    "        for j in i:\n",
    "            if \"0123456789AB\".index(j) > 8:\n",
    "                cnt += 1\n",
    "        f2 = cnt <= 3\n",
    "        if f1 and f2:\n",
    "            ans += 1\n",
    "            \n",
    "ans"
   ]
  },
  {
   "cell_type": "code",
   "execution_count": null,
   "metadata": {},
   "outputs": [],
   "source": [
    "ans = 0\n",
    "\n",
    "with open(\"./task 9/demo_2025_9.csv\", 'r', encoding=\"utf-8\") as f:\n",
    "    for i in f.readlines():\n",
    "        a = list(map(int, i.strip().split(';')))\n",
    "        cnt = []\n",
    "        for j in a:\n",
    "            cnt.append(a.count(j))\n",
    "        # print(a, cnt)\n",
    "        if sorted(cnt) != [1, 1, 1, 3, 3, 3]:  # Проверка, что 3 одинаковых, остальные различные\n",
    "            continue\n",
    "        for j in a:\n",
    "            if a.count(j) == 3:\n",
    "                sum1 = (j + j + j) ** 2\n",
    "                sum2 = (sum(a) - j * 3) ** 2\n",
    "                if sum1 > sum2:\n",
    "                    ans += 1\n",
    "                break\n",
    "ans"
   ]
  },
  {
   "cell_type": "code",
   "execution_count": null,
   "metadata": {},
   "outputs": [
    {
     "data": {
      "text/plain": [
       "['a', 'b', 'c']"
      ]
     },
     "metadata": {},
     "output_type": "display_data"
    }
   ],
   "source": [
    "\"a;b;c\".split(\";\")"
   ]
  },
  {
   "cell_type": "code",
   "execution_count": null,
   "metadata": {},
   "outputs": [],
   "source": [
    "\n",
    "#. Задание 11\n",
    "\n",
    "# 10 + 52 + 963 = 1025 мощность алфавита\n",
    "# 1025 = 2 ^ 11 => 11 bit per simbol\n",
    "\n",
    "# 693 * 1024 / 2000 = 354 Bytes per number\n",
    "# 354 * 8 / 11 = 257 максимальное количество символов\n"
   ]
  },
  {
   "cell_type": "code",
   "execution_count": null,
   "metadata": {},
   "outputs": [
    {
     "name": "stdout",
     "output_type": "stream",
     "text": [
      "881\n"
     ]
    }
   ],
   "source": [
    "# задание 12 \n",
    "s = \"1\" * 81\n",
    "while \"11111\" in s or \"888\" in s:\n",
    "    if \"11111\" in s:\n",
    "        s = s.replace(\"11111\", \"88\", 1) # Использовать \"1\" в конце replace!!!\n",
    "    else:\n",
    "        s = s.replace(\"888\", \"8\", 1) # Использовать \"1\" в конце replace!!!\n",
    "\n",
    "print(s)"
   ]
  },
  {
   "cell_type": "code",
   "execution_count": null,
   "metadata": {},
   "outputs": [],
   "source": [
    "from ipaddress import ip_network\n",
    "\n",
    "net = ip_network('172.16.168.0/255.255.248.0')\n",
    "cnt = 0\n",
    "for ip in net:\n",
    "    print(ip)\n",
    "    if bin(int(ip)).count('1') % 5 != 0:\n",
    "        cnt += 1\n",
    "        \n",
    "cnt\n"
   ]
  },
  {
   "cell_type": "code",
   "execution_count": null,
   "metadata": {},
   "outputs": [
    {
     "data": {
      "text/plain": [
       "19"
      ]
     },
     "metadata": {},
     "output_type": "display_data"
    }
   ],
   "source": [
    "# задание 14\n",
    "# Разбор случайного примера\n",
    "\n",
    "convert_base(3125 ** 8 + 2 * 625 ** 7, 10, 25).count('0')"
   ]
  },
  {
   "cell_type": "code",
   "execution_count": null,
   "metadata": {},
   "outputs": [
    {
     "name": "stdout",
     "output_type": "stream",
     "text": [
      "469014473 6\n",
      "469014834 F\n"
     ]
    }
   ],
   "source": [
    "for i in \"0123456789ABCDEFGHI\":\n",
    "    if (int(f'98897{i}21', 19) + int(f'2{i}923', 19)) % 18 == 0:\n",
    "        print((int(f'98897{i}21', 19) + int(f'2{i}23', 19)) // 18, i) "
   ]
  },
  {
   "cell_type": "code",
   "execution_count": null,
   "metadata": {},
   "outputs": [],
   "source": [
    "for i in range(2031):\n",
    "    if convert_base(7 ** 170 + 7 ** 100 - i, 10, 7).count('0') == 71:\n",
    "        print(i)"
   ]
  },
  {
   "cell_type": "markdown",
   "metadata": {},
   "source": [
    "<image src='./src/2024-11-16_12-42-12.png'> </image>"
   ]
  },
  {
   "cell_type": "code",
   "execution_count": null,
   "metadata": {},
   "outputs": [
    {
     "data": {
      "text/plain": [
       "(19, 21, 40)"
      ]
     },
     "metadata": {},
     "output_type": "display_data"
    }
   ],
   "source": [
    "def F(a, b, x):\n",
    "    if a <= x <= b:\n",
    "        return True\n",
    "    else:\n",
    "        return False\n",
    "\n",
    "\n",
    "mini = 1000\n",
    "mini_a, mini_b = 0, 0\n",
    "for a in range(0, 100):\n",
    "    for b in range(a, 100):\n",
    "        k = 0\n",
    "        for i in range(0, 100):\n",
    "            x = i // 1  # если трудная задача с отрезками из нецелых чисел\n",
    "            if not (F(15, 40, x)) or (not (F(21, 63, x) and not (F(a, b, x))) or not (F(15, 40, x))):\n",
    "                k += 1\n",
    "        if k == 100:\n",
    "            if b - a < mini:\n",
    "                mini = b - a\n",
    "                mini_a = a\n",
    "                mini_b = b\n",
    "\n",
    "\n",
    "mini, mini_a, mini_b"
   ]
  },
  {
   "cell_type": "markdown",
   "metadata": {},
   "source": [
    "<image src='./src/2024-11-16_12-43-50.png'> </image>"
   ]
  },
  {
   "cell_type": "code",
   "execution_count": null,
   "metadata": {},
   "outputs": [
    {
     "data": {
      "text/plain": [
       "4094550"
      ]
     },
     "metadata": {},
     "output_type": "display_data"
    }
   ],
   "source": [
    "from functools import lru_cache\n",
    "import sys\n",
    "\n",
    "\n",
    "sys.setrecursionlimit(5000)  # Стандартное ограничение для глубины рекурсии 1000, без этого программа упадёт с ошибкой\n",
    "\n",
    "\n",
    "b = {}\n",
    "\n",
    "@lru_cache()  # кеширование значений для ускорения рекурсии\n",
    "def f(n):\n",
    "    if n == 1:\n",
    "        return 1\n",
    "    else:\n",
    "        return (n - 1) * f(n - 1)\n",
    "\n",
    "\n",
    "(f(2024) + 2 * f(2023)) // f(2022)"
   ]
  },
  {
   "cell_type": "code",
   "execution_count": null,
   "metadata": {},
   "outputs": [],
   "source": [
    "\"\"\"\n",
    "f(2020) не выводится на экран, но значение хранит, \n",
    "лучше выводить после всех операций и преобразований сразу ответ, \n",
    "чтобы не было проблем\n",
    "\"\"\""
   ]
  },
  {
   "cell_type": "markdown",
   "metadata": {},
   "source": [
    "<image src='./src/2024-11-16_12-45-03.png'> </image>"
   ]
  },
  {
   "cell_type": "code",
   "execution_count": null,
   "metadata": {},
   "outputs": [
    {
     "data": {
      "text/plain": [
       "1214"
      ]
     },
     "metadata": {},
     "output_type": "display_data"
    }
   ],
   "source": [
    "mini = 1e9\n",
    "a = []\n",
    "with open('./Задание 17/demo_2025_17.txt', 'r') as file:\n",
    "    for s in file.readlines():\n",
    "        a.append(int(s))\n",
    "        \n",
    "mini = min(a)\n",
    "ans = 0\n",
    "for i in range(len(a) - 1):\n",
    "    x, y = a[i], a[i + 1]\n",
    "    if x % 16 == mini or y % 16 == mini:\n",
    "        ans += 1\n",
    "\n",
    "ans"
   ]
  }
 ],
 "metadata": {
  "language_info": {
   "name": "python"
  }
 },
 "nbformat": 4,
 "nbformat_minor": 2
}
