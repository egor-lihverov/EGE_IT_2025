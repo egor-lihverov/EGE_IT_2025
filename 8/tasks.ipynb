{
 "cells": [
  {
   "cell_type": "markdown",
   "metadata": {},
   "source": [
    "# Задание 0"
   ]
  },
  {
   "cell_type": "markdown",
   "metadata": {},
   "source": [
    "<p>Сколько существует 5-разрядных восьмеричных чисел, в&nbsp;которых каждая цифра, кроме первой и&nbsp;последней, окружена цифрами с&nbsp;различной чётностью?\n",
    "Цифры в&nbsp;числе не&nbsp;повторяются.</p>"
   ]
  },
  {
   "cell_type": "markdown",
   "metadata": {},
   "source": [
    "<h3><details>\n",
    "\t<summary>Ответ</summary>\n",
    "    1008\n",
    "</h3>"
   ]
  },
  {
   "cell_type": "markdown",
   "metadata": {},
   "source": [
    "# Задание 1"
   ]
  },
  {
   "cell_type": "markdown",
   "metadata": {},
   "source": [
    "<p>Определите количество шестизначных семеричных чисел, в&nbsp;записи которых ровно одна цифра&nbsp;0, а&nbsp;количество остальных чётных цифр чётно.</p>"
   ]
  },
  {
   "cell_type": "markdown",
   "metadata": {},
   "source": [
    "<h3><details>\n",
    "\t<summary>Ответ</summary>\n",
    "    19440\n",
    "</h3>"
   ]
  },
  {
   "cell_type": "markdown",
   "metadata": {},
   "source": [
    "# Задание 2"
   ]
  },
  {
   "cell_type": "markdown",
   "metadata": {},
   "source": [
    "<div class=\"Markdown-module__Markdown--f5ALc TasksBankTaskCard-module__TaskCardContentMarkdown--hsXqP\"><p>Все&nbsp;пятибуквенные слова, в&nbsp;составе которых могут быть только русские буквы Д, О, К, Л, А, записаны в&nbsp;алфавитном порядке и&nbsp;пронумерованы, начиная с&nbsp;1.\n",
    "Ниже приведено начало списка.</p>\n",
    "<ol>\n",
    "<li>ААААА</li>\n",
    "<li>ААААД</li>\n",
    "<li>ААААК</li>\n",
    "<li>ААААЛ</li>\n",
    "<li>ААААО</li>\n",
    "<li>АААДА<br>\n",
    "...</li>\n",
    "</ol>\n",
    "<p>Сколько слов будет расположено <strong>между</strong> словами ЛОДКА и&nbsp;ОКЛАД (включая эти слова), которые соответствуют требованиям: в&nbsp;середине слова стоит буква&nbsp;Д, слово содержит ровно две буквы&nbsp;О, вторая с&nbsp;конца буква&nbsp;— согласная.</p></div>"
   ]
  },
  {
   "cell_type": "markdown",
   "metadata": {},
   "source": [
    "<h3><details>\n",
    "\t<summary>Ответ</summary>\n",
    "    11\n",
    "</h3>"
   ]
  },
  {
   "cell_type": "markdown",
   "metadata": {},
   "source": [
    "# Задание 3"
   ]
  },
  {
   "cell_type": "markdown",
   "metadata": {},
   "source": [
    "<div class=\"Markdown-module__Markdown--f5ALc TasksBankTaskCard-module__TaskCardContentMarkdown--hsXqP\"><p>Все&nbsp;пятибуквенные слова, в&nbsp;составе которых могут быть только русские буквы С, В, О, Б, Д, А, записаны в&nbsp;алфавитном порядке и&nbsp;пронумерованы, начиная с&nbsp;1.</p>\n",
    "<p>Ниже приведено начало списка.</p>\n",
    "<ol>\n",
    "<li>ААААА</li>\n",
    "<li>ААААБ</li>\n",
    "<li>ААААВ</li>\n",
    "<li>ААААД</li>\n",
    "<li>ААААО</li>\n",
    "<li>ААААС</li>\n",
    "<li>АААБА<br>\n",
    "...</li>\n",
    "</ol>\n",
    "<p>Сколько слов, в&nbsp;которых все буквы различны, будет расположено <strong>между</strong> словами ОСОБА и&nbsp;СДОБА (исключая эти слова)?</p></div>"
   ]
  },
  {
   "cell_type": "markdown",
   "metadata": {},
   "source": [
    "<h3><details>\n",
    "\t<summary>Ответ</summary>\n",
    "    92\n",
    "</h3>"
   ]
  },
  {
   "cell_type": "markdown",
   "metadata": {},
   "source": [
    "# Задание 4"
   ]
  },
  {
   "cell_type": "markdown",
   "metadata": {},
   "source": [
    "<p>Сколько существует десятичных пятизначных чисел, <strong>не&nbsp;содержащих</strong> в&nbsp;своей записи цифру&nbsp;5, в&nbsp;которых все цифры различны и&nbsp;никакие две чётные или две нечётные цифры не&nbsp;стоят рядом?</p>"
   ]
  },
  {
   "cell_type": "markdown",
   "metadata": {},
   "source": [
    "<h3><details>\n",
    "\t<summary>Ответ</summary>\n",
    "    1056\n",
    "</h3>"
   ]
  },
  {
   "cell_type": "markdown",
   "metadata": {},
   "source": [
    "# Задание 5"
   ]
  },
  {
   "cell_type": "markdown",
   "metadata": {},
   "source": [
    "<p>Определите количество шестизначных чисел, записанных в&nbsp;шестеричной системе счисления, в&nbsp;записи которых ровно одна цифра 2, при этом никакая нечётная цифра не&nbsp;стоит рядом с&nbsp;цифрой&nbsp;2.</p>"
   ]
  },
  {
   "cell_type": "markdown",
   "metadata": {},
   "source": [
    "<h3><details>\n",
    "\t<summary>Ответ</summary>\n",
    "    3700\n",
    "</h3>"
   ]
  },
  {
   "cell_type": "markdown",
   "metadata": {},
   "source": [
    "# Задание 6"
   ]
  },
  {
   "cell_type": "markdown",
   "metadata": {},
   "source": [
    "<div class=\"Markdown-module__Markdown--f5ALc TasksBankTaskCard-module__TaskCardContentMarkdown--hsXqP\"><p>Все&nbsp;пятибуквенные слова, в&nbsp;составе которых могут быть только русские буквы Л, А, Й, М, записаны в&nbsp;алфавитном порядке и&nbsp;пронумерованы начиная с&nbsp;1.</p>\n",
    "<p>Ниже приведено начало списка.</p>\n",
    "<ol>\n",
    "<li>\n",
    "<p>ААААА</p>\n",
    "</li>\n",
    "<li>\n",
    "<p>ААААЙ</p>\n",
    "</li>\n",
    "<li>\n",
    "<p>ААААЛ</p>\n",
    "</li>\n",
    "<li>\n",
    "<p>ААААМ</p>\n",
    "</li>\n",
    "<li>\n",
    "<p>АААЙА<br>\n",
    "…</p>\n",
    "</li>\n",
    "</ol>\n",
    "<p>Под&nbsp;каким номером в&nbsp;списке идёт последнее слово, которое содержит не&nbsp;более одной буквы М&nbsp;и&nbsp;не&nbsp;содержит букв&nbsp;Л, стоящих рядом?</p></div>"
   ]
  },
  {
   "cell_type": "markdown",
   "metadata": {},
   "source": [
    "<h3><details>\n",
    "\t<summary>Ответ</summary>\n",
    "    922\n",
    "</h3>"
   ]
  },
  {
   "cell_type": "markdown",
   "metadata": {},
   "source": [
    "# Задание 7"
   ]
  },
  {
   "cell_type": "markdown",
   "metadata": {},
   "source": [
    "<div class=\"Markdown-module__Markdown--f5ALc TasksBankTaskCard-module__TaskCardContentMarkdown--hsXqP\"><p>Все&nbsp;пятибуквенные слова, в&nbsp;составе которых могут быть только русские буквы Ц, А, П, Л, Я, записаны в&nbsp;алфавитном порядке и&nbsp;пронумерованы начиная с&nbsp;1.</p>\n",
    "<p>Ниже приведено начало списка.</p>\n",
    "<ol>\n",
    "<li>\n",
    "<p>ААААА</p>\n",
    "</li>\n",
    "<li>\n",
    "<p>ААААЛ</p>\n",
    "</li>\n",
    "<li>\n",
    "<p>ААААП</p>\n",
    "</li>\n",
    "<li>\n",
    "<p>ААААЦ</p>\n",
    "</li>\n",
    "<li>\n",
    "<p>ААААЯ</p>\n",
    "</li>\n",
    "<li>\n",
    "<p>АААЛА<br>\n",
    "…</p>\n",
    "</li>\n",
    "</ol>\n",
    "<p>Под&nbsp;каким номером в&nbsp;списке идёт первое слово, которое содержит не&nbsp;более одной буквы А, ровно две буквы Ц, не&nbsp;содержит ни&nbsp;одной буквы&nbsp;Л?</p></div>"
   ]
  },
  {
   "cell_type": "markdown",
   "metadata": {},
   "source": [
    "<h3><details>\n",
    "\t<summary>Ответ</summary>\n",
    "    319\n",
    "</h3>"
   ]
  },
  {
   "cell_type": "markdown",
   "metadata": {},
   "source": [
    "# Задание 8"
   ]
  },
  {
   "cell_type": "markdown",
   "metadata": {},
   "source": [
    "<div class=\"Markdown-module__Markdown--f5ALc TasksBankTaskCard-module__TaskCardContentMarkdown--hsXqP\"><p>Вася составляет шестибуквенные слова, в&nbsp;которых могут быть использованы только буквы В,&nbsp;И,&nbsp;Ш,&nbsp;Н,&nbsp;Я, причём буква В&nbsp;используется не&nbsp;более одного раза. Каждая из&nbsp;других допустимых букв может встречаться в&nbsp;слове любое количество раз или не&nbsp;встречаться совсем. Слово не&nbsp;должно начинаться с&nbsp;буквы Ш&nbsp;и&nbsp;оканчиваться гласными буквами. Словом считается любая допустимая последовательность букв, не&nbsp;обязательно осмысленная.</p>\n",
    "<p>Сколько существует таких слов, которые может написать Вася?</p></div>"
   ]
  },
  {
   "cell_type": "markdown",
   "metadata": {},
   "source": [
    "<h3><details>\n",
    "\t<summary>Ответ</summary>\n",
    "    4352\n",
    "</h3>"
   ]
  },
  {
   "cell_type": "markdown",
   "metadata": {},
   "source": [
    "# Задание 9"
   ]
  },
  {
   "cell_type": "markdown",
   "metadata": {},
   "source": [
    "<p>Сколько существует шестеричных семизначных чисел, содержащих в&nbsp;своей записи ровно одну цифру 2, при этом никакая чётная цифра не&nbsp;стоит рядом с&nbsp;цифрой&nbsp;2?</p>"
   ]
  },
  {
   "cell_type": "markdown",
   "metadata": {},
   "source": [
    "<h3><details>\n",
    "\t<summary>Ответ</summary>\n",
    "    40500\n",
    "</h3>"
   ]
  },
  {
   "cell_type": "markdown",
   "metadata": {},
   "source": [
    "# Задание 10"
   ]
  },
  {
   "cell_type": "markdown",
   "metadata": {},
   "source": [
    "<p>Сколько существует тринадцатеричных шестизначных чисел, не содержащих в своей записи более одной цифры 5, в которых никакие две нечётные цифры не стоят рядом?</p>"
   ]
  },
  {
   "cell_type": "markdown",
   "metadata": {},
   "source": [
    "<h3><details>\n",
    "\t<summary>Ответ</summary>\n",
    "    1666784\n",
    "</h3>"
   ]
  },
  {
   "cell_type": "markdown",
   "metadata": {},
   "source": [
    "# Задание 11"
   ]
  },
  {
   "cell_type": "markdown",
   "metadata": {},
   "source": [
    "Сколько существует девятиразрядных десятичных чисел таких, в которых есть хотя бы 3 различные цифры?"
   ]
  },
  {
   "cell_type": "code",
   "execution_count": 8,
   "metadata": {},
   "outputs": [],
   "source": [
    "cnt = 0\n",
    "\n",
    "for i in range(100_000_000, 999_999_999):\n",
    "    if len(set(str(i))) >= 3:\n",
    "        cnt += 1"
   ]
  },
  {
   "cell_type": "markdown",
   "metadata": {},
   "source": [
    "<image src=\"./src/2024-11-25_17-29-04.png\">"
   ]
  },
  {
   "cell_type": "code",
   "execution_count": 9,
   "metadata": {},
   "outputs": [
    {
     "data": {
      "text/plain": [
       "899979336"
      ]
     },
     "execution_count": 9,
     "metadata": {},
     "output_type": "execute_result"
    }
   ],
   "source": [
    "cnt"
   ]
  },
  {
   "cell_type": "code",
   "execution_count": 11,
   "metadata": {},
   "outputs": [],
   "source": [
    "cnt = 0\n",
    "\n",
    "for i in range(100_000_000, 999_999_999):\n",
    "    d = {}\n",
    "    for j in str(i):\n",
    "        if j not in d:\n",
    "            d[j] = 1\n",
    "    # print(d, len(d))\n",
    "    if len(d) >= 3:\n",
    "        cnt += 1"
   ]
  },
  {
   "cell_type": "markdown",
   "metadata": {},
   "source": [
    "<image src=\"./src/2024-11-25_17-41-12.png\">"
   ]
  },
  {
   "cell_type": "code",
   "execution_count": 12,
   "metadata": {},
   "outputs": [
    {
     "data": {
      "text/plain": [
       "899979336"
      ]
     },
     "execution_count": 12,
     "metadata": {},
     "output_type": "execute_result"
    }
   ],
   "source": [
    "cnt"
   ]
  },
  {
   "cell_type": "markdown",
   "metadata": {},
   "source": [
    "# Задание 12"
   ]
  },
  {
   "cell_type": "markdown",
   "metadata": {},
   "source": [
    "<div class=\"Markdown-module__Markdown--f5ALc TasksBankTaskCard-module__TaskCardContentMarkdown--hsXqP\"><p>Григорий составляет буквенные последовательности путем перестановки букв из&nbsp;слова НОСОЧЕЧКИ.</p>\n",
    "<p>Сколько различных последовательностей может составить Григорий, если известно, что гласные и&nbsp;согласные буквы чередуются?</p></div>"
   ]
  },
  {
   "cell_type": "markdown",
   "metadata": {},
   "source": [
    "<h3><details>\n",
    "\t<summary>Ответ</summary>\n",
    "    720\n",
    "</h3>"
   ]
  }
 ],
 "metadata": {
  "kernelspec": {
   "display_name": "Python 3",
   "language": "python",
   "name": "python3"
  },
  "language_info": {
   "codemirror_mode": {
    "name": "ipython",
    "version": 3
   },
   "file_extension": ".py",
   "mimetype": "text/x-python",
   "name": "python",
   "nbconvert_exporter": "python",
   "pygments_lexer": "ipython3",
   "version": "3.10.12"
  }
 },
 "nbformat": 4,
 "nbformat_minor": 2
}
