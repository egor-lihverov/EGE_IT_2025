{
 "cells": [
  {
   "cell_type": "markdown",
   "metadata": {},
   "source": [
    "# 1 Задание"
   ]
  },
  {
   "cell_type": "markdown",
   "metadata": {},
   "source": [
    "<div class=\"Markdown-module__Markdown--f5ALc TasksBankTaskCard-module__TaskCardContentMarkdown--hsXqP\"><p>По&nbsp;каналу связи передаются сообщения из&nbsp;букв П, А, Р, Л, Е, Ь. Для передачи используется двоичный код, который удовлетворяет условию Фано. Кодовое слово известно только для одной буквы: Л&nbsp;— 0. Какое минимально возможное количество двоичных знаков требуется, чтобы закодировать слово ПАРАЛЛЕЛЬ?</p>\n",
    "<p><em>Примечание.</em> Условие Фано означает, что никакое кодовое слово не&nbsp;является началом другого кодового слова. Это даёт возможность однозначно расшифровать закодированное сообщение.</p></div>"
   ]
  },
  {
   "cell_type": "markdown",
   "metadata": {},
   "source": [
    "<h2><details>\n",
    "\t<summary>Ответ</summary>\n",
    "\t23\n",
    "</details></h2>"
   ]
  },
  {
   "cell_type": "markdown",
   "metadata": {},
   "source": [
    "# 2 Задание"
   ]
  },
  {
   "cell_type": "markdown",
   "metadata": {},
   "source": [
    "<div class=\"Markdown-module__Markdown--f5ALc TasksBankTaskCard-module__TaskCardContentMarkdown--hsXqP\"><p>По&nbsp;каналу связи передаются сообщения из&nbsp;букв Г, Р, М, О, Т, В, Д, Е. Для передачи используется двоичный код, удовлетворяющий условию Фано. Кодовые слова для некоторых букв известны: Г&nbsp;—&nbsp;10, Т&nbsp;—&nbsp;01, В&nbsp;—&nbsp;111. Для пяти оставшихся букв Р,&nbsp;О,&nbsp;М,&nbsp;Д&nbsp;и&nbsp;Е&nbsp;кодовые слова неизвестны. Какое минимально возможное количество двоичных знаков требуется, чтобы закодировать слово ГРОМООТВОД?</p>\n",
    "<p>Примечание. Условие Фано означает, что никакое кодовое слово не&nbsp;является началом другого кодового слова. Это даёт возможность однозначно расшифровать закодированное сообщение.</p></div>"
   ]
  },
  {
   "cell_type": "markdown",
   "metadata": {},
   "source": [
    "<h2><details>\n",
    "\t<summary>Ответ</summary>\n",
    "\t30\n",
    "</details></h2>"
   ]
  },
  {
   "cell_type": "markdown",
   "metadata": {},
   "source": [
    "# 3 Задание"
   ]
  },
  {
   "cell_type": "markdown",
   "metadata": {},
   "source": [
    "<div class=\"Markdown-module__Markdown--f5ALc TasksBankTaskCard-module__TaskCardContentMarkdown--hsXqP\"><p>По каналу связи передаются сообщения, содержащие только восемь букв: <code>А</code>, <code>З</code>, <code>Ё</code>, <code>И</code>, <code>Л</code>, <code>Н</code>, <code>Ц</code>, <code>Я</code>. Каждая из этих букв закодирована кодом, удовлетворяющим условию Фано.</p>\n",
    "<p>Кодовые слова для некоторых букв известны:</p>\n",
    "<p><img src=\"https://avatars.mds.yandex.net/get-schoolbook-images/5406199/c1a705286d19d2c47651dd8813cd4311/orig\" alt=\"Image\"></p>\n",
    "<p>Какое наименьшее количество двоичных знаков потребуется для кодирования слова <strong>«ИНИЦИАЛИЗАЦИЯ»</strong>?</p>\n",
    "<p><strong>Примечание</strong>. Условие Фано означает, что никакое кодовое слово не&nbsp;является началом другого кодового слова. Это обеспечивает возможность однозначной расшифровки закодированных сообщений.</p></div>"
   ]
  },
  {
   "cell_type": "markdown",
   "metadata": {},
   "source": [
    "<h2><details>\n",
    "\t<summary>Ответ</summary>\n",
    "\t35\n",
    "</details></h2>"
   ]
  },
  {
   "cell_type": "markdown",
   "metadata": {},
   "source": [
    "# 4 Задание"
   ]
  },
  {
   "cell_type": "markdown",
   "metadata": {},
   "source": [
    "<div class=\"Markdown-module__Markdown--f5ALc TasksBankTaskCard-module__TaskCardContentMarkdown--hsXqP\"><p>По каналу связи передаются сообщения, которые содержат только восемь букв: <code>Г</code>, <code>Е</code>, <code>Ж</code>, <code>С</code>, <code>Т</code>, <code>У</code>, <code>Ч</code> и <code>Ь</code>. Для передачи используется двоичный код, удовлетворяющий условию Фано. Коды для некоторых букв известны:</p>\n",
    "<p><img src=\"https://avatars.mds.yandex.net/get-schoolbook-images/5406199/8788ab5337555ea1cb0119cadc299bca/orig\" alt=\"Image\"></p>\n",
    "<p>Укажите возможный код минимальной длины для буквы <code>Ь</code>. Если их&nbsp;несколько, выберите код с&nbsp;максимальным числовым значением.</p>\n",
    "<p><strong>Примечание</strong>. Условие Фано означает, что никакое кодовое слово не&nbsp;составляет начало другого кодового слова. Это позволяет однозначно расшифровывать закодированные сообщения.</p></div>"
   ]
  },
  {
   "cell_type": "markdown",
   "metadata": {},
   "source": [
    "<h2><details>\n",
    "\t<summary>Ответ</summary>\n",
    "\t101\n",
    "</details></h2>"
   ]
  },
  {
   "cell_type": "markdown",
   "metadata": {},
   "source": [
    "# 5 Задание"
   ]
  },
  {
   "cell_type": "markdown",
   "metadata": {},
   "source": [
    "<div class=\"Markdown-module__Markdown--f5ALc TasksBankTaskCard-module__TaskCardContentMarkdown--hsXqP\"><p>Все заглавные буквы русского алфавита и&nbsp;символ «пробел» закодированы неравномерным двоичным кодом, удовлетворяющий условию Фано.</p>\n",
    "<p>Кодовые слова для некоторых букв известны:</p>\n",
    "<p><img src=\"https://avatars.mds.yandex.net/get-schoolbook-images/5623482/6e569f5d786573b872f74935feb1b769/orig\" alt=\"Image\"></p>\n",
    "<p>Какое наименьшее количество двоичных знаков потребуется, чтобы закодировать слово <strong>«СООТНОШЕНИЕ»</strong>?</p>\n",
    "<p><strong>Примечание</strong>. Условие Фано означает, что никакое кодовое слово не&nbsp;является началом другого кодового слова. Это обеспечивает возможность однозначной расшифровки закодированных сообщений.</p></div>"
   ]
  },
  {
   "cell_type": "markdown",
   "metadata": {},
   "source": [
    "<h2><details>\n",
    "\t<summary>Ответ</summary>\n",
    "\t36\n",
    "</details></h2>"
   ]
  },
  {
   "cell_type": "markdown",
   "metadata": {},
   "source": [
    "# 6 Задание"
   ]
  },
  {
   "cell_type": "markdown",
   "metadata": {},
   "source": [
    "<div class=\"Markdown-module__Markdown--f5ALc TasksBankTaskCard-module__TaskCardContentMarkdown--hsXqP\"><p>По&nbsp;каналу связи передаются сообщения из&nbsp;букв слова ИНФАСОТКА. Для передачи используется двоичный код, удовлетворяющий условию Фано. Это условие обеспечивает возможность однозначной расшифровки закодированных сообщений. Для букв И, Н, Ф, А&nbsp;используются кодовые слова 00, 1010, 1011, 100, соответственно. Какое количество двоичных знаков потребуется для кодирования слова АНТИКАТОНИСТ, если известно, что оно закодировано минимально возможным количеством двоичных знаков?</p>\n",
    "<p><em>Примечание:</em> под условием Фано понимается такой метод кодирования, при котором ни&nbsp;одно кодовое слово не&nbsp;является началом другого кодового слова. Такой способ кодирования позволяет получить однозначно декодируемый&nbsp;код.</p></div>"
   ]
  },
  {
   "cell_type": "markdown",
   "metadata": {},
   "source": [
    "<h2><details>\n",
    "\t<summary>Ответ</summary>\n",
    "\t35\n",
    "</details></h2>"
   ]
  },
  {
   "cell_type": "markdown",
   "metadata": {},
   "source": [
    "# 7 Задание"
   ]
  },
  {
   "cell_type": "markdown",
   "metadata": {},
   "source": [
    "<div class=\"Markdown-module__Markdown--f5ALc TasksBankTaskCard-module__TaskCardContentMarkdown--hsXqP\"><p>По&nbsp;каналу связи передаются сообщения, содержащие только восемь букв: <code>А</code>, <code>Б</code>, <code>В</code>, <code>Г</code>, <code>Д</code>, <code>Е</code>, <code>Ж</code>, <code>З</code>. Для передачи используется двоичный код, удовлетворяющий условию Фано.</p>\n",
    "<p>Кодовые слова для некоторых букв известны:</p>\n",
    "<p><img src=\"https://avatars.mds.yandex.net/get-schoolbook-images/5623482/d0deb78d1a51b457727de49ace086259/orig\" alt=\"Screenshot\"></p>\n",
    "<p>Какое кодовое слово у&nbsp;буквы Б, если известно, что его длина равна&nbsp;4 и&nbsp;в&nbsp;нём ровно 3 единицы? В&nbsp;ответе запишите это кодовое слово.</p>\n",
    "<p><strong>Примечание</strong>. Условие Фано означает, что никакое кодовое слово не&nbsp;является началом другого кодового слова. Это обеспечивает возможность однозначной расшифровки закодированных сообщений.</p></div>"
   ]
  },
  {
   "cell_type": "markdown",
   "metadata": {},
   "source": [
    "<h2><details>\n",
    "\t<summary>Ответ</summary>\n",
    "\t1011\n",
    "</details></h2>"
   ]
  },
  {
   "cell_type": "markdown",
   "metadata": {},
   "source": [
    "# 8 Задание"
   ]
  },
  {
   "cell_type": "markdown",
   "metadata": {},
   "source": [
    "<image src=\"./src/image3.png\" image>"
   ]
  },
  {
   "cell_type": "markdown",
   "metadata": {},
   "source": [
    "<h2><details>\n",
    "\t<summary>Ответ</summary>\n",
    "\t9\n",
    "</details></h2>"
   ]
  },
  {
   "cell_type": "markdown",
   "metadata": {},
   "source": [
    "# 9 Задание"
   ]
  },
  {
   "cell_type": "markdown",
   "metadata": {},
   "source": [
    "<image src=\"./src/image4.png\" image>"
   ]
  },
  {
   "cell_type": "markdown",
   "metadata": {},
   "source": [
    "<h2><details>\n",
    "\t<summary>Ответ</summary>\n",
    "\t12\n",
    "</details></h2>"
   ]
  },
  {
   "cell_type": "markdown",
   "metadata": {},
   "source": [
    "# 10 Задание"
   ]
  },
  {
   "cell_type": "markdown",
   "metadata": {},
   "source": [
    "<div class=\"Markdown-module__Markdown--f5ALc TasksBankTaskCard-module__TaskCardContentMarkdown--hsXqP\"><p>По&nbsp;каналу связи передаётся список актуальных на&nbsp;данный момент ОГРН (основных государственных регистрационных номеров, каждый номер состоит из&nbsp;13 цифр) всех кредитных организаций, зарегистрированных на&nbsp;территории Российской Федерации. Для передачи используется двоичный код, удовлетворяющий условию Фано.</p>\n",
    "<p>Однако в&nbsp;полном списке всех номеров цифры распределены неравномерно:</p>\n",
    "<p><img src=\"https://avatars.mds.yandex.net/get-schoolbook-images/5623482/916d92d9604bb3836fbed1ede82bc59a/orig\" alt=\"Screenshot\"></p>\n",
    "<p>Каким минимальным количеством бит можно закодировать список всех ОГРН при условии, что для кодов всех цифр выполняется условие Фано?</p>\n",
    "<p><strong>Примечание</strong>. Условие Фано означает, что никакое кодовое слово не&nbsp;является началом другого кодового слова. Это обеспечивает возможность однозначной расшифровки закодированных сообщений.</p></div>"
   ]
  },
  {
   "cell_type": "markdown",
   "metadata": {},
   "source": [
    "<h2><details>\n",
    "\t<summary>Ответ</summary>\n",
    "\t27900\n",
    "</details></h2>"
   ]
  },
  {
   "cell_type": "markdown",
   "metadata": {},
   "source": [
    "## код"
   ]
  },
  {
   "cell_type": "code",
   "execution_count": 7,
   "metadata": {},
   "outputs": [
    {
     "name": "stdout",
     "output_type": "stream",
     "text": [
      "Huffman Codes are:\n",
      "\n",
      "3: 0000\n",
      "4: 0001\n",
      "5: 0010\n",
      "6: 0011\n",
      "8: 0100\n",
      "9: 0101\n",
      "2: 011\n",
      "7: 100\n",
      "1: 101\n",
      "0: 11\n",
      "\n",
      "Original string was:\n",
      " 000000000000000000000000000000111111111111177777777772222222222333339999955555666664444488888\n",
      "\n",
      "Encoded string is:\n",
      " 111111111111111111111111111111111111111111111111111111111111101101101101101101101101101101101101101100100100100100100100100100100011011011011011011011011011011000000000000000000000101010101010101010100100010001000100010001100110011001100110001000100010001000101000100010001000100\n",
      "\n",
      "Decoded string is:\n",
      "\n",
      "0000000000000000000000000000000000000000000000000000000000001201201201201201201201201201201201201207587587587587587587587587587462012012012012012012012012012073333333333333333334591919191919191919187587458745874587458746207620762076207620745874587458745874591874587458745874587\n"
     ]
    }
   ],
   "source": [
    "import heapq\n",
    "from collections import defaultdict, namedtuple\n",
    "\n",
    "class Node(namedtuple('Node', ['char', 'freq', 'left', 'right'])):\n",
    "    def __new__(cls, char, freq, left=None, right=None):\n",
    "        return super(Node, cls).__new__(cls, char, freq, left, right)\n",
    "\n",
    "def getNode(char, freq, left=None, right=None):\n",
    "    return Node(char, freq, left, right)\n",
    "\n",
    "def encode(root, str_code, huffman_code):\n",
    "    if root is None:\n",
    "        return\n",
    "    \n",
    "    if not root.left and not root.right:\n",
    "        huffman_code[root.char] = str_code\n",
    "        \n",
    "    encode(root.left, str_code + '0', huffman_code)\n",
    "    encode(root.right, str_code + '1', huffman_code)\n",
    "\n",
    "def decode(root, index, str_code):\n",
    "    if root is None:\n",
    "        return ''\n",
    "    \n",
    "    if not root.left and not root.right:\n",
    "        return root.char\n",
    "    \n",
    "    index += 1\n",
    "    if index < len(str_code):\n",
    "        if str_code[index] == '0':\n",
    "            return decode(root.left, index, str_code)\n",
    "        else:\n",
    "            return decode(root.right, index, str_code)\n",
    "    return ''\n",
    "\n",
    "def buildHuffmanTree(text):\n",
    "    freq = defaultdict(int)\n",
    "    for ch in text:\n",
    "        freq[ch] += 1\n",
    "        \n",
    "    heap = [[freq, getNode(char, freq)] for char, freq in freq.items()]\n",
    "    heapq.heapify(heap)\n",
    "    \n",
    "    while len(heap) > 1:\n",
    "        left = heapq.heappop(heap)\n",
    "        right = heapq.heappop(heap)\n",
    "        merged = [left[0] + right[0], getNode('\\0', left[0] + right[0], left[1], right[1])]\n",
    "        heapq.heappush(heap, merged)\n",
    "    \n",
    "    root = heap[0][1]\n",
    "    huffman_code = {}\n",
    "    encode(root, \"\", huffman_code)\n",
    "    \n",
    "    print(\"Huffman Codes are:\\n\")\n",
    "    for char, code in huffman_code.items():\n",
    "        print(f'{char}: {code}')\n",
    "    \n",
    "    print(\"\\nOriginal string was:\\n\", text)\n",
    "    \n",
    "    encoded_str = ''.join(huffman_code[ch] for ch in text)\n",
    "    print(\"\\nEncoded string is:\\n\", encoded_str)\n",
    "    \n",
    "    print(\"\\nDecoded string is:\\n\")\n",
    "    index = -1\n",
    "    while index < len(encoded_str) - 2:\n",
    "        char = decode(root, index, encoded_str)\n",
    "        print(char, end=\"\")\n",
    "        index += 1\n",
    "    \n",
    "    print()\n",
    "\n",
    "if __name__ == \"__main__\":\n",
    "    text = \"0\" * 30 + \"1\" * 13 + \"7\" * 10 + \"2\" * 10 + \"3\" * 5 + \"9\" * 5 + \"5\" * 5 + \"6\" * 5 + \"4\" * 5 + \"8\" * 5\n",
    "    buildHuffmanTree(text)\n"
   ]
  },
  {
   "cell_type": "code",
   "execution_count": 8,
   "metadata": {},
   "outputs": [
    {
     "data": {
      "text/plain": [
       "279"
      ]
     },
     "execution_count": 8,
     "metadata": {},
     "output_type": "execute_result"
    }
   ],
   "source": [
    "len(\"111111111111111111111111111111111111111111111111111111111111101101101101101101101101101101101101101100100100100100100100100100100011011011011011011011011011011000000000000000000000101010101010101010100100010001000100010001100110011001100110001000100010001000101000100010001000100\")"
   ]
  },
  {
   "cell_type": "markdown",
   "metadata": {},
   "source": [
    "# 11 Задание "
   ]
  },
  {
   "cell_type": "markdown",
   "metadata": {},
   "source": [
    "Р-08. По каналу связи передаются сообщения, содержащие только 4 буквы: А, И, С, Т. \n",
    "В любом сообщении больше всего букв А, следующая по частоте буква – С, затем – И. Буква Т встречается реже, чем любая другая. Для передачи сообщений нужно использовать неравномерный двоичный код, допускающий однозначное декодирование; при этом сообщения должны быть как можно короче. Шифровальщик может использовать один из перечисленных ниже кодов. Какой код ему следует выбрать?\n",
    "1) А – 0, И – 1, С – 00, Т – 11\n",
    "2) С – 1, И – 0, А – 01, Т – 10\n",
    "3) А – 1, И – 01, С – 001, Т – 000\n",
    "4) С – 0, И – 11, А – 101, Т – 100\n"
   ]
  },
  {
   "cell_type": "markdown",
   "metadata": {},
   "source": [
    "<h2><details>\n",
    "\t<summary>Ответ</summary>\n",
    "\t3\n",
    "</details></h2>"
   ]
  },
  {
   "cell_type": "markdown",
   "metadata": {},
   "source": [
    "# 12 Задание "
   ]
  },
  {
   "cell_type": "markdown",
   "metadata": {},
   "source": [
    "Р-14. Для кодирования некоторой последовательности, состоящей из букв А, Б, В, Г, Д, Е, решили использовать неравномерный двоичный код, удовлетворяющий условию Фано. Для буквы А использовали кодовое слово 0; для буквы Б – кодовое слово 10. Какова наименьшая возможная\n",
    "сумма длин всех шести кодовых слов? Примечание. Условие Фано означает, что никакое кодовое слово не является началом другого кодового слова. Это обеспечивает возможность однозначной расшифровки закодированных сообщений.\n"
   ]
  },
  {
   "cell_type": "markdown",
   "metadata": {},
   "source": [
    "<h2><details>\n",
    "\t<summary>Ответ</summary>\n",
    "\t19\n",
    "</details></h2>"
   ]
  }
 ],
 "metadata": {
  "kernelspec": {
   "display_name": "Python 3",
   "language": "python",
   "name": "python3"
  },
  "language_info": {
   "codemirror_mode": {
    "name": "ipython",
    "version": 3
   },
   "file_extension": ".py",
   "mimetype": "text/x-python",
   "name": "python",
   "nbconvert_exporter": "python",
   "pygments_lexer": "ipython3",
   "version": "3.10.12"
  }
 },
 "nbformat": 4,
 "nbformat_minor": 2
}
