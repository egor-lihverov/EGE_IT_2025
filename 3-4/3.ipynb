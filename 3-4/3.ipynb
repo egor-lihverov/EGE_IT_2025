{
 "cells": [
  {
   "cell_type": "markdown",
   "metadata": {},
   "source": [
    "# 1 Задание"
   ]
  },
  {
   "cell_type": "markdown",
   "metadata": {},
   "source": [
    "<div class=\"Text Text_typography_bodyM TasksBankTaskCard-module__TaskCardContent--PNxia\"><div class=\"Markdown-module__Markdown--f5ALc TasksBankTaskCard-module__TaskCardContentMarkdown--hsXqP\"><p>В&nbsp;файле приведён фрагмент базы данных «Кондитерские изделия» о&nbsp;поставках конфет и&nbsp;печенья в&nbsp;магазины районов города. База данных состоит из&nbsp;трёх таблиц.</p>\n",
    "<p>Таблица «Движение товаров» содержит записи о&nbsp;поступлении товаров со&nbsp;склада в&nbsp;магазины в&nbsp;течение августа 2023&nbsp;г., а&nbsp;также информацию о&nbsp;проданных товарах. В&nbsp;поле <em>Тип&nbsp;операции</em> указано значение <em>Поступление</em> или <em>Продажа</em>, а&nbsp;в&nbsp;поле <em>Количество&nbsp;упаковок</em>,&nbsp;шт.&nbsp;— информация о&nbsp;том, сколько упаковок товара поступило в&nbsp;магазин или было продано по&nbsp;итогам&nbsp;дня. Заголовок таблицы выглядит так:</p>\n",
    "<div class=\"scrollable-container\"><table><thead></thead><tbody><tr><th> ID операции</th><th>Дата</th><th>ID магазина</th><th>Артикул</th><th>Количество упаковок, шт.</th><th>Тип операции</th></tr></tbody></table></div>\n",
    "<p>Таблица «Товар» содержит информацию об основных характеристиках каждого товара. Заголовок таблицы выглядит так:</p>\n",
    "<div class=\"scrollable-container\"><table><thead></thead><tbody><tr><th>Артикул</th><th>Отдел</th><th>Наименование товара</th><th>Ед_изм</th><th>Количество в&nbsp;упаковке</th><th>Цена за&nbsp;упаковку</th></tr></tbody></table></div>\n",
    "<p>В таблице «Магазин» указаны районы магазинов. Заголовок таблицы выглядит так:</p>\n",
    "<div class=\"scrollable-container\"><table><thead></thead><tbody><tr><th>ID магазина</th><th>Район</th><th>Адрес</th></tr></tbody></table></div>\n",
    "<p>На рисунке приведена схема указанной базы данных.</p>\n",
    "<p><img src=\"https://avatars.mds.yandex.net/get-schoolbook-images/5545908/95dc89ef9d05892ec0d608e5cf98b2eb/orig\" alt=\"Screenshot\"></p>\n",
    "<p>С&nbsp;помощью информации из&nbsp;этой базы данных определите количество товаров «Заяц шоколадный большой», которые были проданы магазинами Октябрьского района за&nbsp;период с&nbsp;1 по&nbsp;31&nbsp;августа включительно.</p>\n",
    "<p>В&nbsp;ответе запишите только число.</p></div></div>"
   ]
  },
  {
   "cell_type": "markdown",
   "metadata": {},
   "source": [
    "**Файл 3.xlsx**"
   ]
  },
  {
   "cell_type": "markdown",
   "metadata": {},
   "source": [
    "<h2><details>\n",
    "\t<summary>Ответ</summary>\n",
    "\t2550\n",
    "</details></h2>"
   ]
  },
  {
   "cell_type": "markdown",
   "metadata": {},
   "source": [
    "# 2 Задание"
   ]
  },
  {
   "cell_type": "markdown",
   "metadata": {},
   "source": [
    "<div class=\"Markdown-module__Markdown--f5ALc TasksBankTaskCard-module__TaskCardContentMarkdown--hsXqP\"><p>В файле приведён фрагмент базы данных «Рейсы автотранспорта» о выполняемых рейсах автотранспортного предприятия в нескольких городах. База данных состоит из трёх таблиц.</p>\n",
    "<p>Таблица «Автомобили» содержит записи об используемых в автопарке автомобилях. В поле «Средний расход» указан средний расход бензина в литрах на 100 км пути. Заголовок таблицы имеет следующий вид:</p>\n",
    "<p><img src=\"https://avatars.mds.yandex.net/get-schoolbook-images/5623482/9b01ebea84ee5156fad528321b15c16c/orig\" alt=\"Image\"></p>\n",
    "<p>Таблица «Водители» содержит информацию о водителях: фамилия, имя, дата рождения, город и т.п. Заголовок таблицы имеет следующий вид:</p>\n",
    "<p><img src=\"https://avatars.mds.yandex.net/get-schoolbook-images/5623482/6da726f03cc3b88f96acf5d2fb8d9b2e/orig\" alt=\"Image\"></p>\n",
    "<p>Таблица «Поездки» содержит информацию о выполненных поездках: информацию о водителе, автомобиле, дате и времени начала поездки и длина поездки в километрах. Заголовок таблицы имеет следующий вид:</p>\n",
    "<p><img src=\"https://avatars.mds.yandex.net/get-schoolbook-images/5623482/1ff90fd5351272462f30dc66bff50050/orig\" alt=\"Image\"></p>\n",
    "<p>На рисунке приведена схема указанной базы данных.</p>\n",
    "<p><img src=\"https://avatars.mds.yandex.net/get-schoolbook-images/5623482/1bcff6a2ace765d7b48299f9dff91a85/orig\" alt=\"Image\"></p>\n",
    "<p>Используя информацию из&nbsp;приведённой базы данных, определите суммарный пройденный путь (в&nbsp;тысячах километров) водителями из&nbsp;Волгограда за&nbsp;2023-й год на&nbsp;автомобилях 2010-го года выпуска и&nbsp;моложе. В&nbsp;ответе запишите только целое число: путь в&nbsp;тысячах километров округлите вниз.</p></div>"
   ]
  },
  {
   "cell_type": "markdown",
   "metadata": {},
   "source": [
    "**Файл 3 (1).xlsx**"
   ]
  },
  {
   "cell_type": "markdown",
   "metadata": {},
   "source": [
    "<h2><details>\n",
    "\t<summary>Ответ</summary>\n",
    "\t12\n",
    "</details></h2>"
   ]
  },
  {
   "cell_type": "markdown",
   "metadata": {},
   "source": [
    "# 3 Задание"
   ]
  },
  {
   "cell_type": "markdown",
   "metadata": {},
   "source": [
    "<image src=\"./src/image.png\" image>"
   ]
  },
  {
   "cell_type": "markdown",
   "metadata": {
    "vscode": {
     "languageId": "plaintext"
    }
   },
   "source": [
    "**Файл 3var1-4.xlsx**\n",
    "\n",
    "(лучше сохранять изменения в новом файле, этот есть несколько заданий для этого)"
   ]
  },
  {
   "cell_type": "markdown",
   "metadata": {},
   "source": [
    "<h2><details>\n",
    "\t<summary>Ответ</summary>\n",
    "\t15735\n",
    "</details></h2>"
   ]
  },
  {
   "cell_type": "markdown",
   "metadata": {},
   "source": [
    "# 4 Задание"
   ]
  },
  {
   "cell_type": "markdown",
   "metadata": {},
   "source": [
    "<image src=\"./src/image2.png\" image>"
   ]
  },
  {
   "cell_type": "markdown",
   "metadata": {},
   "source": [
    "**Файл 3var1-4.xlsx**\n",
    "\n",
    "(лучше сохранять изменения в новом файле, этот есть несколько заданий для этого)"
   ]
  },
  {
   "cell_type": "markdown",
   "metadata": {},
   "source": [
    "<h2><details>\n",
    "\t<summary>Ответ</summary>\n",
    "\t1099\n",
    "</details></h2>"
   ]
  },
  {
   "cell_type": "markdown",
   "metadata": {},
   "source": [
    "# 5 Задание"
   ]
  },
  {
   "cell_type": "markdown",
   "metadata": {},
   "source": [
    "<div class=\"Markdown-module__Markdown--f5ALc TasksBankTaskCard-module__TaskCardContentMarkdown--hsXqP\"><p>Света и&nbsp;Ника очень любят шутки. Они договорились, что будут тщательно протоколировать все подобные шутки и&nbsp;добавлять их&nbsp;в&nbsp;базу данных.\n",
    "В&nbsp;файле представлена эта база данных. База данных состоит из&nbsp;трёх таблиц.</p>\n",
    "<p>Таблица «Ученики» содержит информацию об&nbsp;учащихся: их&nbsp;идентификационный номер, имя, фамилию, дату рождения и&nbsp;класс, в&nbsp;котором они обучаются. Заголовок таблицы выглядит так:</p>\n",
    "<p><code>[ID, Имя, Фамилия, Дата рождения, Класс]</code></p>\n",
    "<p>Таблица «Преподаватели» включает записи о&nbsp;школьных учителях с&nbsp;указанием идентификационного номера, фамилии, имени и&nbsp;отчества, а&nbsp;также предмета, который они преподают. Заголовок таблицы выглядит так:</p>\n",
    "<p><code>[ID, Фамилия имя и&nbsp;отчество, Предмет]</code></p>\n",
    "<p>Таблица «Шутки» содержит данные о&nbsp;шутках, рассказанных учениками об&nbsp;учителях, включая идентификационный номер шутки, идентификационный номер ученика, рассказавшего шутку, идентификационный номер учителя, о&nbsp;котором была рассказана шутка, а&nbsp;также дату и&nbsp;время шутки. Заголовок таблицы выглядит так:</p>\n",
    "<p><code>[ID, ID&nbsp;Ученика, ID&nbsp;Учителя, Дата и&nbsp;время шутки]</code></p>\n",
    "<p>На&nbsp;рисунке приведена схема указанной базы данных:</p>\n",
    "<p><img src=\"https://avatars.mds.yandex.net/get-schoolbook-images/5623482/088dd2fc8e7989945712f74757d642e8/orig\" alt=\"Screenshot\"></p>\n",
    "<p>Сколько шуток удалось рассказать ученикам класса 11б 1&nbsp;апреля&nbsp;2024&nbsp;года?</p></div>"
   ]
  },
  {
   "cell_type": "markdown",
   "metadata": {},
   "source": [
    "**Файл 3 (2).xlsx**"
   ]
  },
  {
   "cell_type": "markdown",
   "metadata": {},
   "source": [
    "<h2><details>\n",
    "\t<summary>Ответ</summary>\n",
    "\t887\n",
    "</details></h2>"
   ]
  },
  {
   "cell_type": "markdown",
   "metadata": {},
   "source": [
    "# 6 Задание"
   ]
  },
  {
   "cell_type": "markdown",
   "metadata": {},
   "source": [
    "<div class=\"Markdown-module__Markdown--f5ALc TasksBankTaskCard-module__TaskCardContentMarkdown--hsXqP\"><p>В&nbsp;файле представлен фрагмент базы данных «Школьный журнал» об&nbsp;учебном процессе в&nbsp;школе. База данных состоит из&nbsp;трёх таблиц.</p>\n",
    "<p>Таблица «Ученики» содержит информацию об&nbsp;учащихся: их&nbsp;идентификационный номер, имя, фамилию, дату рождения и&nbsp;класс, в&nbsp;котором они обучаются. Заголовок таблицы имеет следующий вид:</p>\n",
    "<p><code>[ID, Имя, Фамилия, Дата рождения, Класс]</code></p>\n",
    "<p>Таблица «Предметы» включает записи о&nbsp;предметах, преподаваемых в&nbsp;школе, с&nbsp;указанием идентификационного номера предмета, его названия, фамилии и&nbsp;имени преподавателя, а&nbsp;также номера аудитории, где проходят занятия. Заголовок таблицы имеет следующий вид:</p>\n",
    "<p><code>[ID, Название, Преподаватель, Аудитория]</code></p>\n",
    "<p>Таблица «Оценки» содержит данные об&nbsp;оценках, полученных учениками по&nbsp;различным предметам. В&nbsp;таблице фиксируются идентификационный номер оценки, идентификационный номер ученика, идентификационный номер предмета, дата выставления оценки и&nbsp;сама оценка. Заголовок таблицы имеет следующий вид:</p>\n",
    "<p><code>[ID, ID&nbsp;Ученика, ID&nbsp;Предмета, Дата, Оценка]</code></p>\n",
    "<p>На&nbsp;рисунке приведена схема указанной базы данных.</p>\n",
    "<p><img src=\"https://avatars.mds.yandex.net/get-schoolbook-images/6887102/4283123a91c6d1dd3b515d8da928ee12/orig\" alt=\"Screenshot\"></p>\n",
    "<p>Для оценки успеваемости учащихся по&nbsp;информатике посчитайте количество учеников, у&nbsp;которых есть хотя&nbsp;бы одна оценка по&nbsp;информатике и&nbsp;средний балл по&nbsp;информатике больше либо равен&nbsp;4. В&nbsp;ответе запишите только число.</p></div>"
   ]
  },
  {
   "cell_type": "markdown",
   "metadata": {},
   "source": [
    "**Файл 3 (3).xlsx**"
   ]
  },
  {
   "cell_type": "markdown",
   "metadata": {},
   "source": [
    "<h2><details>\n",
    "\t<summary>Ответ</summary>\n",
    "\t81\n",
    "</details></h2>"
   ]
  },
  {
   "cell_type": "markdown",
   "metadata": {},
   "source": [
    "# 7 Задание"
   ]
  },
  {
   "cell_type": "markdown",
   "metadata": {},
   "source": [
    "<div class=\"Text Text_typography_bodyM TasksBankTaskCard-module__TaskCardContent--PNxia\"><div class=\"Markdown-module__Markdown--f5ALc TasksBankTaskCard-module__TaskCardContentMarkdown--hsXqP\"><p>В&nbsp;файле приведён фрагмент базы данных «Фильмы», содержащий информацию о&nbsp;ряде фильмов. К&nbsp;каждому фильму привязан свой&nbsp;ID. Таблица «Фильмы» содержит информацию о&nbsp;названии фильма, продолжительности фильма в&nbsp;секундах, бюджете фильма в&nbsp;$ (долларах) и&nbsp;о&nbsp;сборах с&nbsp;его показа в&nbsp;$ (долларах).</p>\n",
    "<p><img src=\"https://plcn.s3.yandex.net/resources/Group_2087326493_1698942507.png\" alt=\"Screenshot\"></p>\n",
    "<p>Таблица «Режиссёры» содержит информацию об&nbsp;имени режиссёра и&nbsp;о&nbsp;стране его происхождения. Каждый режиссёр имеет свой персональный&nbsp;ID.<br>\n",
    "<img src=\"https://plcn.s3.yandex.net/resources/Group_2087326494_1698942548.png\" alt=\"Screenshot\"></p>\n",
    "<p>В&nbsp;таблице «Жанры» содержится информация о&nbsp;названии жанров, к&nbsp;которым могут относится фильмы, и&nbsp;их&nbsp;ID.<br>\n",
    "<img src=\"https://plcn.s3.yandex.net/resources/Group_2087326495_1698942568.png\" alt=\"Screenshot\"></p>\n",
    "<p>На рисунке приведена схема базы данных:<br>\n",
    "<img src=\"https://plcn.s3.yandex.net/resources/zagruzhennoe_35_1697201118.png\" alt=\"Screenshot\"></p>\n",
    "<p>Используя информацию из&nbsp;приведённой базы данных определите долю (в&nbsp;процентах) фильмов, снятых в&nbsp;СССР, среди всех фильмов, снятых с&nbsp;1920 года по&nbsp;1960 год (включительно) с&nbsp;бюджетом меньше 1000000&nbsp;$. В&nbsp;ответ запишите только целую часть числа.</p></div></div>"
   ]
  },
  {
   "cell_type": "markdown",
   "metadata": {},
   "source": [
    "**Файл 3 (4).xlsx**"
   ]
  },
  {
   "cell_type": "markdown",
   "metadata": {},
   "source": [
    "<h2><details>\n",
    "\t<summary>Ответ</summary>\n",
    "\t38\n",
    "</details></h2>"
   ]
  },
  {
   "cell_type": "markdown",
   "metadata": {},
   "source": [
    "# 8 Задание"
   ]
  },
  {
   "cell_type": "markdown",
   "metadata": {},
   "source": [
    "<div class=\"Text Text_typography_bodyM TasksBankTaskCard-module__TaskCardContent--PNxia\"><div class=\"Markdown-module__Markdown--f5ALc TasksBankTaskCard-module__TaskCardContentMarkdown--hsXqP\"><p>В&nbsp;файле приведён фрагмент базы данных «Гостиница». База данных состоит из&nbsp;трёх таблиц.</p>\n",
    "<p>Таблица «Клиенты» содержит данные о&nbsp;клиентах: ФИО и&nbsp;место жительства.</p>\n",
    "<p>Таблица «Бронирование» содержит информацию о&nbsp;зарегистрированных заявках на&nbsp;бронирование номеров: код клиента, код номера, номер бронирования, дата бронирования, дата заезда, дата выезда.</p>\n",
    "<p>Таблица «Номера» содержит информацию о&nbsp;забронированных номерах гостиницы: код номера, номер комнаты, этаж, число мест, стоимость проживания, категория гостиницы. На&nbsp;рисунке приведена схема указанной базы данных.</p>\n",
    "<p><img src=\"https://plcn.s3.yandex.net/resources/zagruzhennoe_1697132079.gif\" alt=\"Screenshot\"></p>\n",
    "<p>Используя информацию из&nbsp;приведённой базы данных, определите общую стоимость забронированных номеров категории 5 клиентами из&nbsp;г.&nbsp;Уфа с&nbsp;1 по&nbsp;16&nbsp;июня включительно.</p>\n",
    "<p><em>Примечание</em>. В период с 1 по 16 июня должно произойти бронирование. Даты проживания могут быть позднее.</p></div></div>"
   ]
  },
  {
   "cell_type": "markdown",
   "metadata": {},
   "source": [
    "**Файл 3 (5).xls**"
   ]
  },
  {
   "cell_type": "markdown",
   "metadata": {},
   "source": [
    "<h2><details>\n",
    "\t<summary>Ответ</summary>\n",
    "\t37199\n",
    "</details></h2>"
   ]
  },
  {
   "cell_type": "markdown",
   "metadata": {},
   "source": [
    "# 9 Задание"
   ]
  },
  {
   "cell_type": "markdown",
   "metadata": {},
   "source": [
    "<div class=\"Markdown-module__Markdown--f5ALc TasksBankTaskCard-module__TaskCardContentMarkdown--hsXqP\"><p>В&nbsp;файле приведён фрагмент базы данных «Эрмитаж». База данных состоит из&nbsp;трёх таблиц. Таблица «Художники» содержит данные о&nbsp;именах и&nbsp;фамилиях мастеров. Таблица «Стили» содержит данные о&nbsp;стилях живописи. Таблица «Картины» содержит записи о&nbsp;картинах, расположенных в&nbsp;Эрмитаже, а&nbsp;также информацию о&nbsp;художниках и&nbsp;стилях. Поле Год содержит даты создания картин, а&nbsp;поле Часть Эрмитажа содержит информацию о&nbsp;частях музея в&nbsp;которых расположены картины. На&nbsp;рисунке приведена схема указанной базы данных.</p>\n",
    "<p><img src=\"https://plcn.s3.yandex.net/resources/zagruzhennoe_1_1697196702.gif\" alt=\"Screenshot\"></p>\n",
    "<p>Используя информацию из&nbsp;приведённой базы данных, определите количество художников, у&nbsp;которых более&nbsp;5 картин расположено во&nbsp;второй части Эрмитажа.</p></div>"
   ]
  },
  {
   "cell_type": "markdown",
   "metadata": {},
   "source": [
    "**Файл 3 (6).xls**"
   ]
  },
  {
   "cell_type": "markdown",
   "metadata": {},
   "source": [
    "<h2><details>\n",
    "\t<summary>Ответ</summary>\n",
    "\t37199\n",
    "</details></h2>"
   ]
  },
  {
   "cell_type": "markdown",
   "metadata": {},
   "source": [
    "# 10 Задание"
   ]
  },
  {
   "cell_type": "markdown",
   "metadata": {},
   "source": [
    "<div class=\"Markdown-module__Markdown--f5ALc TasksBankTaskCard-module__TaskCardContentMarkdown--hsXqP\"><p>В&nbsp;таблице представлена база данных магазина электроники.</p>\n",
    "<p>Лист «Товары» содержит информацию о&nbsp;технике, ее&nbsp;наименование, стоимость закупки и&nbsp;продажи.</p>\n",
    "<p>Лист «Клиенты» отражает информацию о&nbsp;зарегистрированных клиентах в&nbsp;магазине, совершавших покупки или возврат.</p>\n",
    "<p>Лист «Магазин» отражает информацию о&nbsp;филиалах компании, их&nbsp;ID, район и&nbsp;адрес расположения.</p>\n",
    "<p>Лист «Операции» содержит информацию о&nbsp;поставках, продажах и&nbsp;возвратах товара.</p>\n",
    "<p>В&nbsp;случае если клиент возвращает товар ему возмещается стоимость, а&nbsp;товар поступает на&nbsp;склад.</p>\n",
    "<p>В&nbsp;случае продажи товар списывается со&nbsp;склада, а&nbsp;магазин получает прибыль.</p>\n",
    "<p><img src=\"https://plcn.s3.yandex.net/resources/zagruzhennoe_25_1697131169.png\" alt=\"Screenshot\"></p>\n",
    "<p>Используя информацию из&nbsp;базы данных, определите, какую сумму магазины из&nbsp;Буденовского района вернули клиентам в&nbsp;мае 2023 года.</p></div>"
   ]
  },
  {
   "cell_type": "markdown",
   "metadata": {},
   "source": [
    "**Файл 3 (7).xlsx**"
   ]
  },
  {
   "cell_type": "markdown",
   "metadata": {},
   "source": [
    "<h2><details>\n",
    "\t<summary>Ответ</summary>\n",
    "\t518221\n",
    "</details></h2>"
   ]
  }
 ],
 "metadata": {
  "language_info": {
   "name": "python"
  }
 },
 "nbformat": 4,
 "nbformat_minor": 2
}
