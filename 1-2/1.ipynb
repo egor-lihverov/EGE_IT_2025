{
 "cells": [
  {
   "cell_type": "markdown",
   "metadata": {},
   "source": [
    "<div class=\"Markdown-module__Markdown--f5ALc TasksBankTaskCard-module__TaskCardContentMarkdown--hsXqP\"><p>На рисунке изображена схема дорог между городами сказочной страны. В&nbsp;таблице указаны сведения о длинах этих дорог.</p>\n",
    "<p><img src=\"https://avatars.mds.yandex.net/get-schoolbook-images/5545908/b8d083ff461a4245a544b9e66b97cbcf/orig\" alt=\"Image\"></p>\n",
    "<div class=\"scrollable-container\"><table><thead><tr><th colspan=\"2\" rowspan=\"2\"></th><th colspan=\"8\" class=\"align-center\">Номер пункта</th></tr><tr><th>1</th><th>2</th><th>3</th><th>4</th><th>5</th><th>6</th><th>7</th><th>8</th></tr></thead><tbody><tr><th rowspan=\"9\"><span class=\"vertical-text\">Номер пункта</span></th></tr><tr><th>1</th><td class=\"filled\"></td><td>7</td><td></td><td></td><td></td><td>11</td><td></td><td></td></tr><tr><th>2</th><td>7</td><td class=\"filled\"></td><td>31</td><td>23</td><td></td><td>29</td><td>37</td><td></td></tr><tr><th>3</th><td></td><td>31</td><td class=\"filled\"></td><td></td><td></td><td></td><td>47</td><td>41</td></tr><tr><th>4</th><td></td><td>23</td><td></td><td class=\"filled\"></td><td>3</td><td></td><td>19</td><td></td></tr><tr><th>5</th><td></td><td></td><td></td><td>3</td><td class=\"filled\"></td><td></td><td>17</td><td></td></tr><tr><th>6</th><td>11</td><td>29</td><td></td><td></td><td></td><td class=\"filled\"></td><td></td><td></td></tr><tr><th>7</th><td></td><td>37</td><td>47</td><td>19</td><td>17</td><td></td><td class=\"filled\"></td><td>43</td></tr><tr><th>8</th><td></td><td></td><td>41</td><td></td><td></td><td></td><td>43</td><td class=\"filled\"></td></tr></tbody></table></div>\n",
    "<p>Каждому населённому пункту на&nbsp;схеме соответствует номер в&nbsp;таблице. Определите сумму длин дорог из&nbsp;А&nbsp;в&nbsp;Б&nbsp;и&nbsp;из&nbsp;Д&nbsp;в&nbsp;Е.</p></div>"
   ]
  },
  {
   "cell_type": "markdown",
   "metadata": {},
   "source": [
    "<p class=\"Text Text_color_primary Text_typography_bodyM TasksBankTaskCard-module__Answer--Rr7VY\">Ответ: 44</p></span></div>"
   ]
  },
  {
   "cell_type": "markdown",
   "metadata": {},
   "source": [
    "<div class=\"Markdown-module__Markdown--f5ALc TasksBankTaskCard-module__TaskCardContentMarkdown--hsXqP\"><p>На&nbsp;рисунке изображена схема водопровода элитного поселка Шоколадная березовая роща. В&nbsp;таблице звёздочкой обозначено наличие водопроводной трубы из&nbsp;одного дома в&nbsp;другое. Отсутствие звёздочки означает, что такой трубы нет.</p>\n",
    "<p>Так как таблицу и&nbsp;схему рисовали разные бригады рабочих, то&nbsp;нумерация домов в&nbsp;таблице никак не&nbsp;связана с&nbsp;буквенными обозначениями на&nbsp;графе.</p>\n",
    "<p>Определите, какие номера в&nbsp;таблице могут соответствовать домам B, G&nbsp;и&nbsp;H&nbsp;на&nbsp;схеме. В&nbsp;ответе запишите эти <strong>три</strong> номера в&nbsp;возрастающем порядке без пробелов и&nbsp;знаков препинания.</p>\n",
    "<p><img src=\"https://avatars.mds.yandex.net/get-schoolbook-images/5623482/918aac29db706565457836fad6cac54a/orig\" alt=\"Screenshot\"></p></div>"
   ]
  },
  {
   "cell_type": "markdown",
   "metadata": {},
   "source": [
    "Ответ: 256"
   ]
  },
  {
   "cell_type": "markdown",
   "metadata": {},
   "source": [
    "<div class=\"Text Text_typography_bodyM TasksBankTaskCard-module__TaskCardContent--PNxia\"><div class=\"Markdown-module__Markdown--f5ALc TasksBankTaskCard-module__TaskCardContentMarkdown--hsXqP\"><p>На&nbsp;рисунке схема дорог N-ского района изображена в&nbsp;виде графа, в&nbsp;таблице содержатся сведения о&nbsp;протяжённости каждой из&nbsp;этих дорог (в&nbsp;километрах).</p>\n",
    "<p><img src=\"https://plcn.s3.yandex.net/resources/Group_2087326520_1703088106.png\" alt=\"Screenshot\"></p>\n",
    "<p>Так как таблицу и&nbsp;схему рисовали независимо друг от&nbsp;друга, то&nbsp;нумерация населённых пунктов в&nbsp;таблице никак не&nbsp;связана с&nbsp;буквенными обозначениями на&nbsp;графе. Определите, какова сумма протяжённостей дорог из&nbsp;пункта А&nbsp;в&nbsp;пункт Б&nbsp;и&nbsp;из&nbsp;пункта Д&nbsp;в&nbsp;пункт Е.</p>\n",
    "<p>В&nbsp;ответе запишите целое число.</p></div></div>"
   ]
  },
  {
   "cell_type": "markdown",
   "metadata": {},
   "source": [
    "Ответ: 15"
   ]
  },
  {
   "cell_type": "markdown",
   "metadata": {},
   "source": [
    "<div class=\"Markdown-module__Markdown--f5ALc TasksBankTaskCard-module__TaskCardContentMarkdown--hsXqP\"><p>На&nbsp;рисунке схема дорог N-ского района изображена в&nbsp;виде графа, в&nbsp;таблице содержатся сведения о&nbsp;протяжённости каждой из&nbsp;этих дорог (в&nbsp;километрах).</p>\n",
    "<p><img src=\"https://plcn.s3.yandex.net/resources/Group_2087326522_1703088516.png\" alt=\"Screenshot\"></p>\n",
    "<p>Так как таблицу и&nbsp;схему рисовали независимо друг от&nbsp;друга, то&nbsp;нумерация населённых пунктов в&nbsp;таблице никак не&nbsp;связана с&nbsp;буквенными обозначениями на&nbsp;графе. Определите, какова сумма протяжённостей дорог из&nbsp;пункта В&nbsp;в&nbsp;пункт Г и&nbsp;из&nbsp;пункта Д&nbsp;в&nbsp;пункт&nbsp;Е.</p>\n",
    "<p>В ответе запишите целое число.</p></div>"
   ]
  },
  {
   "cell_type": "markdown",
   "metadata": {},
   "source": [
    "Ответ: 19"
   ]
  },
  {
   "cell_type": "markdown",
   "metadata": {},
   "source": [
    "<td class=\"topicview\">\n",
    "  <script>\n",
    "  document.write( '(№&nbsp;6804) ' ); \n",
    "  document.write( changeImageFilePath('(А. Богданов) На рисунке справа схема дорог Н-ского района изображена в виде графа, звёздочка в ячейке таблицы обозначает наличие дороги между двумя пунктами. Так как таблицу и схему рисовали независимо друг от друга, то нумерация населённых пунктов в таблице никак не связана с буквенными обозначениями на графе. <br/><img src=\"6804.gif\">Определите буквенные обозначения всех пунктов. В качестве ответа запишите их без разделителей в порядке возрастания номеров пунктов.') );\n",
    "  </script>(№&nbsp;6804) (А. Богданов) На рисунке справа схема дорог Н-ского района изображена в виде графа, звёздочка в ячейке таблицы обозначает наличие дороги между двумя пунктами. Так как таблицу и схему рисовали независимо друг от друга, то нумерация населённых пунктов в таблице никак не связана с буквенными обозначениями на графе. <br><img src=\"./6804.gif\">\n",
    "  \n",
    "  Определите буквенные обозначения всех пунктов. В качестве ответа запишите их без разделителей в порядке возрастания номеров пунктов.\n",
    "  </td>"
   ]
  },
  {
   "cell_type": "markdown",
   "metadata": {},
   "source": [
    "ГАКВБЕД"
   ]
  },
  {
   "cell_type": "markdown",
   "metadata": {},
   "source": [
    "<td class=\"topicview\">\n",
    "  <script>\n",
    "  document.write( '(№&nbsp;6583) ' ); \n",
    "  document.write( changeImageFilePath('(И. Карпачёв) На рисунке справа схема дорог Н-ского района изображена в виде графа, в таблице содержатся сведения о длинах этих дорог (в километрах). Так как таблицу и схему рисовали независимо друг от друга, то нумерация населённых пунктов в таблице никак не связана с буквенными обозначениями на графе. <br/><img src=\"6583.gif\">Определите сумму протяжённостей дорог из пункта Б в пункт Е и из пункта Е в пункт К.') );\n",
    "  </script>(№&nbsp;6583) (И. Карпачёв) На рисунке справа схема дорог Н-ского района изображена в виде графа, в таблице содержатся сведения о длинах этих дорог (в километрах). Так как таблицу и схему рисовали независимо друг от друга, то нумерация населённых пунктов в таблице никак не связана с буквенными обозначениями на графе. <br><img src=\"6583.gif\"><br>Определите сумму протяжённостей дорог из пункта Б в пункт Е и из пункта Е в пункт К.\n",
    "  </td>"
   ]
  },
  {
   "cell_type": "markdown",
   "metadata": {},
   "source": [
    "40"
   ]
  },
  {
   "cell_type": "markdown",
   "metadata": {},
   "source": [
    "<div align=\"justify\" width=\"100%\" id=\"body950623\" class=\"pbody\"><p class=\"left_margin\">На ри&shy;сун&shy;ке схема дорог изоб&shy;ра&shy;же&shy;на в виде графа, в таб&shy;ли&shy;це звёздоч&shy;ка&shy;ми обо&shy;зна&shy;че&shy;но на&shy;ли&shy;чие до&shy;ро&shy;ги между населёнными пунк&shy;та&shy;ми. Так как таб&shy;ли&shy;цу и схему ри&shy;со&shy;ва&shy;ли не&shy;за&shy;ви&shy;си&shy;мо друг от друга, ну&shy;ме&shy;ра&shy;ция населённых пунк&shy;тов в таб&shy;ли&shy;це никак не свя&shy;за&shy;на с бук&shy;вен&shy;ны&shy;ми обо&shy;зна&shy;че&shy;ни&shy;я&shy;ми на графе. Вы&shy;пи&shy;ши&shy;те по&shy;сле&shy;до&shy;ва&shy;тель&shy;но без про&shy;бе&shy;лов и зна&shy;ков пре&shy;пи&shy;на&shy;ния ука&shy;зан&shy;ные на графе бук&shy;вен&shy;ные обо&shy;зна&shy;че&shy;ния пунк&shy;тов от <i>П1</i> до <i>П9</i>: сна&shy;ча&shy;ла букву, со&shy;от&shy;вет&shy;ству&shy;ю&shy;щую <i>П1</i>, затем букву, со&shy;от&shy;вет&shy;ству&shy;ю&shy;щую <i>П2</i>, <nobr>и т. д.</nobr></p><p>&nbsp;</p><p></p><div class=\"wrap_flex_table\"><p></p><div class=\"wrap_flex_table_col\"><p></p><div class=\"col_content\"><p></p><p></p><p></p><p></p><p></p><p></p><p></p><p></p><p></p><p></p><p></p><p></p><p></p><p></p><p></p><p></p><p></p><p></p><div class=\"wrap_scroll_table\"><table style=\"margin:auto\"><tbody><tr><td style=\"text-align:center\" width=\"25\"></td><td style=\"text-align:center\" width=\"25\"><b>П1</b></td><td style=\"text-align:center\" width=\"25\"><b>П2</b></td><td style=\"text-align:center\" width=\"25\"><b>П3</b></td><td style=\"text-align:center\" width=\"25\"><b>П4</b></td><td style=\"text-align:center\" width=\"25\"><b>П5</b></td><td style=\"text-align:center\" width=\"25\"><b>П6</b></td><td style=\"text-align:center\" width=\"25\"><b>П7</b></td><td style=\"text-align:center\" width=\"25\"><b>П8</b></td><td style=\"text-align:center\" width=\"25\"><b>П9</b></td></tr><tr><td style=\"text-align:center\"><b>П1</b></td><td style=\"text-align:center;background-color:#B3B3B3\"></td><td style=\"text-align:center\"></td><td style=\"text-align:center\"></td><td style=\"text-align:center\"></td><td style=\"text-align:center\"></td><td style=\"text-align:center\">*</td><td style=\"text-align:center\"></td><td style=\"text-align:center\"></td><td style=\"text-align:center\">*</td></tr><tr><td style=\"text-align:center\"><b>П2</b></td><td style=\"text-align:center\"></td><td style=\"text-align:center;background-color:#B3B3B3\"></td><td style=\"text-align:center\">*</td><td style=\"text-align:center\"></td><td style=\"text-align:center\">*</td><td style=\"text-align:center\"></td><td style=\"text-align:center\">*</td><td style=\"text-align:center\"></td><td style=\"text-align:center\"></td></tr><tr><td style=\"text-align:center\"><b>П3</b></td><td style=\"text-align:center\"></td><td style=\"text-align:center\">*</td><td style=\"text-align:center;background-color:#B3B3B3\"></td><td style=\"text-align:center\">*</td><td style=\"text-align:center\"></td><td style=\"text-align:center\"></td><td style=\"text-align:center\"></td><td style=\"text-align:center\"></td><td style=\"text-align:center\">*</td></tr><tr><td style=\"text-align:center\"><b>П4</b></td><td style=\"text-align:center\"></td><td style=\"text-align:center\"></td><td style=\"text-align:center\">*</td><td style=\"text-align:center;background-color:#B3B3B3\"></td><td style=\"text-align:center\"></td><td style=\"text-align:center\">*</td><td style=\"text-align:center\">*</td><td style=\"text-align:center\"></td><td style=\"text-align:center\"></td></tr><tr><td style=\"text-align:center\"><b>П5</b></td><td style=\"text-align:center\"></td><td style=\"text-align:center\">*</td><td style=\"text-align:center\"></td><td style=\"text-align:center\"></td><td style=\"text-align:center;background-color:#B3B3B3\"></td><td style=\"text-align:center\"></td><td style=\"text-align:center\"></td><td style=\"text-align:center\">*</td><td style=\"text-align:center\"></td></tr><tr><td style=\"text-align:center\"><b>П6</b></td><td style=\"text-align:center\">*</td><td style=\"text-align:center\"></td><td style=\"text-align:center\"></td><td style=\"text-align:center\">*</td><td style=\"text-align:center\"></td><td style=\"text-align:center;background-color:#B3B3B3\"></td><td style=\"text-align:center\"></td><td style=\"text-align:center\">*</td><td style=\"text-align:center\">*</td></tr><tr><td style=\"text-align:center\"><b>П7</b></td><td style=\"text-align:center\"></td><td style=\"text-align:center\">*</td><td style=\"text-align:center\"></td><td style=\"text-align:center\">*</td><td style=\"text-align:center\"></td><td style=\"text-align:center\"></td><td style=\"text-align:center;background-color:#B3B3B3\"></td><td style=\"text-align:center\">*</td><td style=\"text-align:center\"></td></tr><tr><td style=\"text-align:center\"><b>П8</b></td><td style=\"text-align:center\"></td><td style=\"text-align:center\"></td><td style=\"text-align:center\"></td><td style=\"text-align:center\"></td><td style=\"text-align:center\">*</td><td style=\"text-align:center\">*</td><td style=\"text-align:center\">*</td><td style=\"text-align:center;background-color:#B3B3B3\"></td><td style=\"text-align:center\"></td></tr><tr><td style=\"text-align:center\"><b>П9</b></td><td style=\"text-align:center\">*</td><td style=\"text-align:center\"></td><td style=\"text-align:center\">*</td><td style=\"text-align:center\"></td><td style=\"text-align:center\"></td><td style=\"text-align:center\">*</td><td style=\"text-align:center\"></td><td style=\"text-align:center\"></td><td style=\"text-align:center;background-color:#B3B3B3\"></td></tr></tbody></table></div></div><p></p></div><p></p><div class=\"wrap_flex_table_col\"><p></p><div class=\"col_content\"><p>"
   ]
  },
  {
   "attachments": {
    "image.png": {
     "image/png": "[encoded data removed]"
    }
   },
   "cell_type": "markdown",
   "metadata": {},
   "source": [
    "![image.png](attachment:image.png)"
   ]
  },
  {
   "cell_type": "code",
   "execution_count": 1,
   "metadata": {},
   "outputs": [
    {
     "name": "stdout",
     "output_type": "stream",
     "text": [
      "1 2 3 4 5 6 7 8 9\n",
      "Б Ж К И Д А Е Г В\n"
     ]
    }
   ],
   "source": [
    "from itertools import permutations\n",
    "table = '16 19 23 25 27 32 34 39 43 46 47 52 58 61 64 68 69 72 74 78 85 86 87 91 93 96'\n",
    "graph = 'АБ БА БВ ВБ АВ ВА АГ ГА АИ ИА ЕИ ИЕ ЕГ ГЕ ГД ДГ ДЖ ЖД ЕЖ ЖЕ ЖК КЖ ИК КИ ВК КВ'\n",
    "for p in permutations('АБВГДЕЖИК'):\n",
    "    new_table = table\n",
    "    for i in range(1, 10):\n",
    "        new_table = new_table.replace(str(i), p[i-1])\n",
    "    if set(new_table.split()) == set(graph.split()):\n",
    "        print('1 2 3 4 5 6 7 8 9')\n",
    "        print(*p)"
   ]
  },
  {
   "cell_type": "markdown",
   "metadata": {},
   "source": [
    "<div class=\"Markdown-module__Markdown--f5ALc TasksBankTaskCard-module__TaskCardContentMarkdown--hsXqP\"><p>На&nbsp;рисунке схема дорог N-ского района изображена в&nbsp;виде графа, в&nbsp;таблице содержатся сведения о&nbsp;протяжённости каждой из&nbsp;этих дорог (в&nbsp;километрах).</p>\n",
    "<p><img src=\"https://avatars.mds.yandex.net/get-schoolbook-images/6887102/68ea1a697ab614a9cb711a4111bf9f22/orig\" alt=\"Screenshot\"></p>\n",
    "<p>Так как таблицу и&nbsp;схему рисовали независимо друг от&nbsp;друга, то&nbsp;нумерация населённых пунктов в&nbsp;таблице не&nbsp;совпадает с&nbsp;буквенными обозначениями на&nbsp;графе. Определите сумму протяжённостей дорог из&nbsp;пункта Б&nbsp;в&nbsp;пункт В&nbsp;и&nbsp;из&nbsp;пункта Г&nbsp;в&nbsp;пункт Д. В&nbsp;ответе запишите целое число.</p></div>"
   ]
  },
  {
   "cell_type": "markdown",
   "metadata": {},
   "source": [
    "Ответ: 17"
   ]
  },
  {
   "cell_type": "markdown",
   "metadata": {},
   "source": [
    "<td class=\"topicview\">\n",
    "  <script>\n",
    "  document.write( '(№&nbsp;6582) ' ); \n",
    "  document.write( changeImageFilePath('(И. Карпачёв) На рисунке справа схема дорог Н-ского района изображена в виде графа, в таблице содержатся сведения о длинах этих дорог (в километрах). Так как таблицу и схему рисовали независимо друг от друга, то нумерация населённых пунктов в таблице никак не связана с буквенными обозначениями на графе. <br/><img src=\"6582.gif\">Определите сумму протяжённостей дорог из пункта Ж в пункт К и из пункта Г в пункт Е.') );\n",
    "  </script>(№&nbsp;6582) (И. Карпачёв) На рисунке справа схема дорог Н-ского района изображена в виде графа, в таблице содержатся сведения о длинах этих дорог (в километрах). Так как таблицу и схему рисовали независимо друг от друга, то нумерация населённых пунктов в таблице никак не связана с буквенными обозначениями на графе. <br><img src=\"6582.gif\"><br>Определите сумму протяжённостей дорог из пункта Ж в пункт К и из пункта Г в пункт Е.\n",
    "  </td>"
   ]
  },
  {
   "cell_type": "markdown",
   "metadata": {},
   "source": [
    "<div align=\"justify\" width=\"100%\" id=\"body973203\" class=\"pbody\"><p class=\"left_margin\">На ри&shy;сун&shy;ке схема дорог изоб&shy;ра&shy;же&shy;на в виде графа, в таб&shy;ли&shy;це со&shy;дер&shy;жат&shy;ся све&shy;де&shy;ния о длине этих дорог в ки&shy;ло&shy;мет&shy;рах. Так как таб&shy;ли&shy;цу и схему ри&shy;со&shy;ва&shy;ли не&shy;за&shy;ви&shy;си&shy;мо друг от друга, ну&shy;ме&shy;ра&shy;ция населённых пунк&shy;тов в таб&shy;ли&shy;це никак не свя&shy;за&shy;на с бук&shy;вен&shy;ны&shy;ми обо&shy;зна&shy;че&shy;ни&shy;я&shy;ми на графе. Кроме того, при по&shy;стро&shy;е&shy;нии графа одну до&shy;ро&shy;гу слу&shy;чай&shy;но про&shy;пу&shy;сти&shy;ли. Опре&shy;де&shy;ли&shy;те длину этой про&shy;пу&shy;щен&shy;ной до&shy;ро&shy;ги. В от&shy;ве&shy;те за&shy;пи&shy;ши&shy;те целое число  — длину до&shy;ро&shy;ги в ки&shy;ло&shy;мет&shy;рах.</p><p>&nbsp;</p><p></p><div class=\"wrap_flex_table\"><p></p><div class=\"wrap_flex_table_col\"><p></p><div class=\"col_content\"><p></p><p></p><p></p><p></p><p></p><p></p><p></p><p></p><p></p><p></p><p></p><p></p><p></p><p></p><p></p><p></p><div class=\"wrap_scroll_table\"><table style=\"margin:auto\"><tbody><tr><td style=\"text-align:center\" width=\"25\"></td><td style=\"text-align:center\" width=\"25\"><b>П1</b></td><td style=\"text-align:center\" width=\"25\"><b>П2</b></td><td style=\"text-align:center\" width=\"25\"><b>П3</b></td><td style=\"text-align:center\" width=\"25\"><b>П4</b></td><td style=\"text-align:center\" width=\"25\"><b>П5</b></td><td style=\"text-align:center\" width=\"25\"><b>П6</b></td><td style=\"text-align:center\" width=\"25\"><b>П7</b></td><td style=\"text-align:center\" width=\"25\"><b>П8</b></td></tr><tr><td style=\"text-align:center\"><b>П1</b></td><td style=\"text-align:center;background-color:#B3B3B3\"></td><td style=\"text-align:center\"></td><td style=\"text-align:center\">16</td><td style=\"text-align:center\"></td><td style=\"text-align:center\">20</td><td style=\"text-align:center\"></td><td style=\"text-align:center\">15</td><td style=\"text-align:center\"></td></tr><tr><td style=\"text-align:center\"><b>П2</b></td><td style=\"text-align:center\"></td><td style=\"text-align:center;background-color:#B3B3B3\"></td><td style=\"text-align:center\"></td><td style=\"text-align:center\">22</td><td style=\"text-align:center\">24</td><td style=\"text-align:center\">21</td><td style=\"text-align:center\"></td><td style=\"text-align:center\"></td></tr><tr><td style=\"text-align:center\"><b>П3</b></td><td style=\"text-align:center\">16</td><td style=\"text-align:center\"></td><td style=\"text-align:center;background-color:#B3B3B3\"></td><td style=\"text-align:center\"></td><td style=\"text-align:center\"></td><td style=\"text-align:center\"></td><td style=\"text-align:center\"></td><td style=\"text-align:center\">14</td></tr><tr><td style=\"text-align:center\"><b>П4</b></td><td style=\"text-align:center\"></td><td style=\"text-align:center\">22</td><td style=\"text-align:center\"></td><td style=\"text-align:center;background-color:#B3B3B3\"></td><td style=\"text-align:center\"></td><td style=\"text-align:center\">23</td><td style=\"text-align:center\">19</td><td style=\"text-align:center\">18</td></tr><tr><td style=\"text-align:center\"><b>П5</b></td><td style=\"text-align:center\">20</td><td style=\"text-align:center\">24</td><td style=\"text-align:center\"></td><td style=\"text-align:center\"></td><td style=\"text-align:center;background-color:#B3B3B3\"></td><td style=\"text-align:center\">26</td><td style=\"text-align:center\"></td><td style=\"text-align:center\"></td></tr><tr><td style=\"text-align:center\"><b>П6</b></td><td style=\"text-align:center\"></td><td style=\"text-align:center\">21</td><td style=\"text-align:center\"></td><td style=\"text-align:center\">23</td><td style=\"text-align:center\">26</td><td style=\"text-align:center;background-color:#B3B3B3\"></td><td style=\"text-align:center\"></td><td style=\"text-align:center\"></td></tr><tr><td style=\"text-align:center\"><b>П7</b></td><td style=\"text-align:center\">15</td><td style=\"text-align:center\"></td><td style=\"text-align:center\"></td><td style=\"text-align:center\">19</td><td style=\"text-align:center\"></td><td style=\"text-align:center\"></td><td style=\"text-align:center;background-color:#B3B3B3\"></td><td style=\"text-align:center\">17</td></tr><tr><td style=\"text-align:center\"><b>П8</b></td><td style=\"text-align:center\"></td><td style=\"text-align:center\"></td><td style=\"text-align:center\">14</td><td style=\"text-align:center\">18</td><td style=\"text-align:center\"></td><td style=\"text-align:center\"></td><td style=\"text-align:center\">17</td><td style=\"text-align:center;background-color:#B3B3B3\"></td></tr></tbody></table></div></div><p></p></div><p></p><div class=\"wrap_flex_table_col\"><p></p><div class=\"col_content\"><p></p><p></p></div><p></p></div><p></p></div></div>"
   ]
  },
  {
   "attachments": {
    "image.png": {
     "image/png": "[encoded data removed]"
    }
   },
   "cell_type": "markdown",
   "metadata": {},
   "source": [
    "![image.png](attachment:image.png)"
   ]
  },
  {
   "cell_type": "markdown",
   "metadata": {},
   "source": [
    "Ответ: 19"
   ]
  },
  {
   "cell_type": "markdown",
   "metadata": {},
   "source": [
    "<div class=\"Text Text_typography_bodyM TasksBankTaskCard-module__TaskCardContent--PNxia\"><div class=\"Markdown-module__Markdown--f5ALc TasksBankTaskCard-module__TaskCardContentMarkdown--hsXqP\"><p>В&nbsp;таблице содержатся сведения о&nbsp;дорогах между населёнными пунктами (звёздочка означает, что дорога между соответствующими городами есть).</p>\n",
    "<p>На&nbsp;рисунке справа та&nbsp;же схема дорог изображена в&nbsp;виде графа.</p>\n",
    "<p><img src=\"https://plcn.s3.yandex.net/resources/image_1766_1703005280.png\" alt=\"Screenshot\"></p>\n",
    "<p>Так как таблицу и&nbsp;схему рисовали независимо друг от&nbsp;друга, то&nbsp;нумерация населённых пунктов в&nbsp;таблице никак не&nbsp;связана с&nbsp;буквенными обозначениями на&nbsp;графе. Определите номера населённых пунктов Ж&nbsp;и&nbsp;В&nbsp;в&nbsp;таблице. В&nbsp;ответе напишите два числа без разделителей: сначала для пункта Ж, затем для\n",
    "пункта&nbsp;В.</p></div></div>"
   ]
  },
  {
   "cell_type": "markdown",
   "metadata": {},
   "source": [
    "Ответ: 36"
   ]
  },
  {
   "cell_type": "markdown",
   "metadata": {},
   "source": [
    "<div class=\"Markdown-module__Markdown--f5ALc TasksBankTaskCard-module__TaskCardContentMarkdown--hsXqP\"><p>На&nbsp;рисунке слева схема дорог Н-ского района изображена в&nbsp;виде графа, в&nbsp;таблице содержатся сведения о&nbsp;длинах этих дорог (в&nbsp;километрах). Так как таблицу и&nbsp;схему рисовали независимо друг от&nbsp;друга, то&nbsp;нумерация населённых пунктов в&nbsp;таблице никак не&nbsp;связана с&nbsp;буквенными обозначениями на&nbsp;графе. Определите длину дороги из&nbsp;пункта Б&nbsp;в&nbsp;пункт В, если известно, что длина дороги из&nbsp;А&nbsp;в&nbsp;И&nbsp;13. В&nbsp;ответе запишите целое число&nbsp;— длину дороги в&nbsp;километрах.</p>\n",
    "<p><img src=\"https://plcn.s3.yandex.net/resources/Group_2087326496_1699370656.png\" alt=\"Изображение\"></p></div>"
   ]
  },
  {
   "cell_type": "markdown",
   "metadata": {},
   "source": [
    "Ответ: 15"
   ]
  },
  {
   "cell_type": "markdown",
   "metadata": {},
   "source": [
    "<td class=\"topicview\">\n",
    "  <script>\n",
    "  document.write( '(№&nbsp;5874) ' ); \n",
    "  document.write( changeImageFilePath('(Е. Усов) На рисунке схема дорог Н-ского района изображена в виде графа, в таблице звёздочка обозначает наличие дороги между населёнными пунктами. Так как таблицу и схему рисовали независимо друг от друга, то нумерация населённых пунктов в таблице никак не связана с буквенными обозначениями на графе. <br/><img src=\"5874.gif\">Определите номера пунктов В и Ж, найденные номера запишите в порядке возрастания без разделителей.') );\n",
    "  </script>(№&nbsp;5874) (Е. Усов) На рисунке схема дорог Н-ского района изображена в виде графа, в таблице звёздочка обозначает наличие дороги между населёнными пунктами. Так как таблицу и схему рисовали независимо друг от друга, то нумерация населённых пунктов в таблице никак не связана с буквенными обозначениями на графе. <br><img src=\"5874.gif\"><br>Определите номера пунктов В и Ж, найденные номера запишите в порядке возрастания без разделителей.\n",
    "  </td>"
   ]
  },
  {
   "cell_type": "markdown",
   "metadata": {},
   "source": [
    "Ответ: 37"
   ]
  },
  {
   "cell_type": "markdown",
   "metadata": {},
   "source": []
  },
  {
   "cell_type": "markdown",
   "metadata": {},
   "source": []
  },
  {
   "cell_type": "markdown",
   "metadata": {},
   "source": []
  },
  {
   "cell_type": "markdown",
   "metadata": {},
   "source": []
  },
  {
   "cell_type": "markdown",
   "metadata": {},
   "source": []
  },
  {
   "cell_type": "markdown",
   "metadata": {},
   "source": [
    "https://inf-ege.sdamgia.ru/problem?id=56529"
   ]
  }
 ],
 "metadata": {
  "kernelspec": {
   "display_name": "Python 3",
   "language": "python",
   "name": "python3"
  },
  "language_info": {
   "codemirror_mode": {
    "name": "ipython",
    "version": 3
   },
   "file_extension": ".py",
   "mimetype": "text/x-python",
   "name": "python",
   "nbconvert_exporter": "python",
   "pygments_lexer": "ipython3",
   "version": "3.10.12"
  }
 },
 "nbformat": 4,
 "nbformat_minor": 2
}
